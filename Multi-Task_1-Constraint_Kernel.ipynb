{
 "cells": [
  {
   "cell_type": "code",
   "execution_count": 1,
   "metadata": {},
   "outputs": [],
   "source": [
    "import numpy as np\n",
    "import matplotlib.pyplot as plt\n",
    "import time\n",
    "import numpy.linalg as LA\n",
    "import pandas as pd"
   ]
  },
  {
   "cell_type": "code",
   "execution_count": 2,
   "metadata": {},
   "outputs": [],
   "source": [
    "import Function as f"
   ]
  },
  {
   "cell_type": "code",
   "execution_count": 3,
   "metadata": {},
   "outputs": [],
   "source": [
    "# np.random.seed(0)"
   ]
  },
  {
   "cell_type": "markdown",
   "metadata": {},
   "source": [
    "Setting the Hyper-Parameter:"
   ]
  },
  {
   "cell_type": "code",
   "execution_count": 4,
   "metadata": {},
   "outputs": [],
   "source": [
    "max_iteration = 15000\n",
    "weight_decay = 1e-5\n",
    "Epsilons = [10,10]\n",
    "BANDWIDTH = 0.5"
   ]
  },
  {
   "cell_type": "code",
   "execution_count": null,
   "metadata": {},
   "outputs": [],
   "source": []
  },
  {
   "cell_type": "code",
   "execution_count": 5,
   "metadata": {},
   "outputs": [
    {
     "name": "stdout",
     "output_type": "stream",
     "text": [
      "[ 27.  10.  58. 129.  19.   7.  58.  52.  31.  80.  31.  57.  40.  35.\n",
      "  29.   8.  36.   1.  39.  13.  28.  15. 143.  42.  40.   5.   8.  30.\n",
      "  99.  27.  28.   9.   8.  26.  43.  49.   1.  10.  37.  33.  30.  17.\n",
      " 137. 106.  30.   1.  15.  72.  14.  48.   2. 106.  48.  31. 167.   3.\n",
      "  67.   8.   1.  43. 134.  43.   3.   7.  45.   3.  31.  10.  10.  43.\n",
      "  80.  23.   1.  85.  12.   3.  10.   8.   5.  14.  29.  28.  16.   2.\n",
      "  27.   2.  86.   7.   5.  84.   1.  18.  74.   6. 127.  69. 109.   4.\n",
      "  68.   1.  30.   9.  47.   5.  80.  50. 117.  20.  15.  33.   2.  25.\n",
      "  19.  25.   5.  83.  20. 111.  49.  16.   9.   6.  12.  52.   7.   5.\n",
      "  46.  29.   2.  35.   6.  52.  24.   7.  87. 108.  46.   7.  23.  17.\n",
      "   1.  11.  33.   1.  61. 110.   3. 117.  19.  37.   6.  11.  40.  82.\n",
      "  89.   7. 160. 118.  20.  10.  86.  99.  10.   4.  32.  23.  47.  13.\n",
      "  64.  64.  17. 130.   1.  73.  48.  28.   8.  73.   1.  53.  24.   9.\n",
      "   7.  58.  10.   8.  11.   7.  73.  23.   2.  30.  36.  28.  11.   4.\n",
      "  22. 110. 111.  71.]\n"
     ]
    }
   ],
   "source": [
    "filename = \"200(180+20).csv\"\n",
    "(X, X_train, X_val), (Y, Y_train, Y_val), (survival_times)= f.read_files(filename)\n",
    "NUM_TRAIN = X_train.shape[0]\n",
    "NUM_VAL = X_val.shape[0]\n",
    "NUM_EMPLOYEES = X.shape[0]"
   ]
  },
  {
   "cell_type": "code",
   "execution_count": 6,
   "metadata": {},
   "outputs": [],
   "source": [
    "# Kernel_Matrix = f.Generating_Kernel(X, \"Gaussian_Kernel\", BW = BANDWIDTH)\n",
    "Kernel_Matrix = f.Generating_Kernel(X, \"Quick_Gaussian_Kernel\", BW = BANDWIDTH)\n",
    "Kernel_Matrix_Train = Kernel_Matrix[:NUM_TRAIN,:NUM_TRAIN]\n",
    "Kernel_Matrix_Val = Kernel_Matrix[NUM_TRAIN:,:NUM_TRAIN]"
   ]
  },
  {
   "cell_type": "code",
   "execution_count": 8,
   "metadata": {},
   "outputs": [
    {
     "name": "stdout",
     "output_type": "stream",
     "text": [
      "There are  39292 pairs of samples of similarity between 0.0 and 0.1 which have an average age_gap  39.30479486918457 and the median is: 28.0\n",
      "There are  290 pairs of samples of similarity between 0.1 and 0.2 which have an average age_gap  30.572413793103447 and the median is: 18.0\n",
      "There are  122 pairs of samples of similarity between 0.2 and 0.3 which have an average age_gap  26.442622950819672 and the median is: 16.0\n",
      "There are  46 pairs of samples of similarity between 0.3 and 0.4 which have an average age_gap  20.695652173913043 and the median is: 16.0\n",
      "There are  14 pairs of samples of similarity between 0.4 and 0.5 which have an average age_gap  28.857142857142858 and the median is: 18.0\n",
      "There are  20 pairs of samples of similarity between 0.5 and 0.6 which have an average age_gap  19.0 and the median is: 5.5\n",
      "There are  6 pairs of samples of similarity between 0.6 and 0.7 which have an average age_gap  5.333333333333333 and the median is: 5.0\n",
      "There are  8 pairs of samples of similarity between 0.7 and 0.8 which have an average age_gap  30.25 and the median is: 8.5\n",
      "There are  2 pairs of samples of similarity between 0.8 and 0.9 which have an average age_gap  9.0 and the median is: 9.0\n",
      "There are  176 pairs of samples of similarity between 0.9 and 1.0 which have an average age_gap  0.0 and the median is: 0.0\n"
     ]
    },
    {
     "data": {
      "image/png": "[encoded data removed]",
      "text/plain": [
       "<Figure size 432x288 with 1 Axes>"
      ]
     },
     "metadata": {
      "needs_background": "light"
     },
     "output_type": "display_data"
    }
   ],
   "source": [
    "f.Validate_Synthetic_DataSet(Kernel_Matrix, survival_times)"
   ]
  },
  {
   "cell_type": "markdown",
   "metadata": {},
   "source": [
    "Have a quick look at the distribution of ages:"
   ]
  },
  {
   "cell_type": "code",
   "execution_count": 11,
   "metadata": {},
   "outputs": [
    {
     "data": {
      "text/plain": [
       "Text(0, 0.5, 'survival time')"
      ]
     },
     "execution_count": 11,
     "metadata": {},
     "output_type": "execute_result"
    },
    {
     "data": {
      "image/png": "[encoded data removed]",
      "text/plain": [
       "<Figure size 432x288 with 1 Axes>"
      ]
     },
     "metadata": {
      "needs_background": "light"
     },
     "output_type": "display_data"
    }
   ],
   "source": [
    "NUM_TASKS = Y.shape[1]\n",
    "x_axis = np.arange(NUM_TASKS)+1\n",
    "y_train_gt_axis = np.zeros(NUM_TASKS)\n",
    "for i in range(NUM_TASKS):\n",
    "    y_train_gt_axis[i] = np.sum(survival_times[:NUM_TRAIN] == x_axis[i])\n",
    "plt.plot(x_axis, y_train_gt_axis)\n",
    "plt.xlabel(\"num of samples\")\n",
    "plt.ylabel(\"survival time\")"
   ]
  },
  {
   "cell_type": "code",
   "execution_count": 12,
   "metadata": {},
   "outputs": [
    {
     "name": "stdout",
     "output_type": "stream",
     "text": [
      "37.63\n",
      "37.127928840698885\n"
     ]
    }
   ],
   "source": [
    "print(np.mean(survival_times))\n",
    "print(np.std(survival_times))"
   ]
  },
  {
   "cell_type": "code",
   "execution_count": 22,
   "metadata": {},
   "outputs": [
    {
     "name": "stdout",
     "output_type": "stream",
     "text": [
      "the iteration is: 1\n",
      "the train accuracy is: 0.9379906852960745\n",
      "the val accuracy is: 0.8880239520958084\n",
      "111 188.0\n",
      "the c-index for val is: 0.5904255319148937\n",
      "the iteration is: 1000\n",
      "the train accuracy is: 1.0\n",
      "the val accuracy is: 0.8676646706586826\n",
      "120 188.0\n",
      "the c-index for val is: 0.6382978723404256\n",
      "the iteration is: 2000\n",
      "the train accuracy is: 1.0\n",
      "the val accuracy is: 0.868562874251497\n",
      "119 188.0\n",
      "the c-index for val is: 0.6329787234042553\n",
      "the iteration is: 3000\n",
      "the train accuracy is: 1.0\n",
      "the val accuracy is: 0.8688622754491018\n",
      "119 188.0\n",
      "the c-index for val is: 0.6329787234042553\n",
      "the iteration is: 4000\n",
      "the train accuracy is: 1.0\n",
      "the val accuracy is: 0.868562874251497\n",
      "119 188.0\n",
      "the c-index for val is: 0.6329787234042553\n",
      "the iteration is: 5000\n",
      "the train accuracy is: 1.0\n",
      "the val accuracy is: 0.8682634730538922\n",
      "119 188.0\n",
      "the c-index for val is: 0.6329787234042553\n",
      "the iteration is: 6000\n",
      "the train accuracy is: 0.9999334664005323\n",
      "the val accuracy is: 0.868562874251497\n",
      "119 188.0\n",
      "the c-index for val is: 0.6329787234042553\n",
      "the iteration is: 7000\n",
      "the train accuracy is: 1.0\n",
      "the val accuracy is: 0.8688622754491018\n",
      "120 188.0\n",
      "the c-index for val is: 0.6382978723404256\n",
      "the iteration is: 8000\n",
      "the train accuracy is: 1.0\n",
      "the val accuracy is: 0.8688622754491018\n",
      "120 188.0\n",
      "the c-index for val is: 0.6382978723404256\n",
      "the iteration is: 9000\n",
      "the train accuracy is: 1.0\n",
      "the val accuracy is: 0.8688622754491018\n",
      "120 188.0\n",
      "the c-index for val is: 0.6382978723404256\n",
      "the iteration is: 10000\n",
      "the train accuracy is: 1.0\n",
      "the val accuracy is: 0.868562874251497\n",
      "120 188.0\n",
      "the c-index for val is: 0.6382978723404256\n",
      "the iteration is: 11000\n",
      "the train accuracy is: 1.0\n",
      "the val accuracy is: 0.8688622754491018\n",
      "120 188.0\n",
      "the c-index for val is: 0.6382978723404256\n",
      "the iteration is: 12000\n",
      "the train accuracy is: 1.0\n",
      "the val accuracy is: 0.8664670658682635\n",
      "119 188.0\n",
      "the c-index for val is: 0.6329787234042553\n",
      "the iteration is: 13000\n",
      "the train accuracy is: 1.0\n",
      "the val accuracy is: 0.8637724550898204\n",
      "119 188.0\n",
      "the c-index for val is: 0.6329787234042553\n",
      "the iteration is: 14000\n",
      "the train accuracy is: 1.0\n",
      "the val accuracy is: 0.8625748502994012\n",
      "119 188.0\n",
      "the c-index for val is: 0.6329787234042553\n",
      "the iteration is: 15000\n",
      "the train accuracy is: 1.0\n",
      "the val accuracy is: 0.8523952095808384\n",
      "113 188.0\n",
      "the c-index for val is: 0.601063829787234\n",
      "0.0\n"
     ]
    }
   ],
   "source": [
    "alpha = np.zeros_like(Y_train) \n",
    "# alpha = np.ones_like(Y_train) \n",
    "predict_age = np.zeros(NUM_EMPLOYEES) \n",
    "val_loss_list = []\n",
    "index = 0\n",
    "for t in range(1, max_iteration+1):\n",
    "\n",
    "    alpha = f.Kernel_Pegasos(180, Kernel_Matrix_Train, alpha, Y_train, t, weight_decay)\n",
    "    # alpha = f.Split_Kernel_Pegasos(1, Kernel_Matrix_Train, alpha, Y_train, t, weight_decay) \n",
    "    \n",
    "    if t%1000 == 0 or t == 1: \n",
    "        print(\"the iteration is:\", t)\n",
    "        hatY_train = Kernel_Matrix_Train.dot(alpha*Y_train) / ( t * weight_decay )\n",
    "        \n",
    "        hatY_val =  Kernel_Matrix_Val.dot(alpha*Y_train) / ( t * weight_decay )\n",
    "        \n",
    "        # predict_age_tr = f.Ages(hatY_train)\n",
    "        # predict_age_val = f.Ages(hatY_val)\n",
    "        predict_age_tr = f.Weighted_Ages(hatY_train)\n",
    "        predict_age_val = f.Weighted_Ages(hatY_val)\n",
    "        predict_age = predict_age_tr + predict_age_val\n",
    "            \n",
    "        acc_train = np.sum(Y_train * hatY_train > 0) / (NUM_TRAIN * NUM_TASKS)\n",
    "        acc_val = np.sum(Y_val * hatY_val > 0) / (NUM_VAL * NUM_TASKS)\n",
    "        print(\"the train accuracy is:\", acc_train)\n",
    "        print(\"the val accuracy is:\", acc_val)\n",
    "        \n",
    "        # C_index_tr = f.Calculate_C_index(survival_times[:NUM_TRAIN], predict_age_tr)\n",
    "        C_index_val = f.Calculate_C_index(survival_times[NUM_TRAIN:], predict_age_val)\n",
    "         \n",
    "        # print(\"the c-index for training is:\", C_index_tr)xx\n",
    "        print(\"the c-index for val is:\", C_index_val)\n",
    "  \n",
    "print(np.sum(predict_age[NUM_TRAIN:] == survival_times[NUM_TRAIN:])/(NUM_VAL))"
   ]
  },
  {
   "cell_type": "code",
   "execution_count": 14,
   "metadata": {},
   "outputs": [
    {
     "name": "stdout",
     "output_type": "stream",
     "text": [
      "[105]\n",
      "3.3858895198386514\n",
      "[]\n",
      "[  7 123 131]\n",
      "0.027598126436952936\n",
      "0.030873434834836795\n",
      "0.034986047017833165\n"
     ]
    }
   ],
   "source": [
    "hatY_train = Kernel_Matrix_Train.dot(alpha*Y_train) / ( t * weight_decay )\n",
    "sigma = 10\n",
    "# print(hatY_train[:20,0])\n",
    "# print(survival_times[:20])\n",
    "# print(NUM_TASKS)\n",
    "for i in range(50, 53): #NUM_TASKS):\n",
    "    [die_at_i] = np.where(survival_times[:NUM_TRAIN] == i)\n",
    "    [older_than_i] = np.where(survival_times[:NUM_TRAIN] > i)\n",
    "     \n",
    "    print(die_at_i)\n",
    "    ranking_loss = 0\n",
    "    for die in die_at_i:\n",
    "        ranking_loss_for_die = 0\n",
    "        for older in older_than_i:\n",
    "            ranking_loss_for_die += np.exp(hatY_train[die,i] - hatY_train[older,i] / sigma)\n",
    "        print(ranking_loss_for_die)\n",
    "        ranking_loss += ranking_loss_for_die"
   ]
  },
  {
   "cell_type": "code",
   "execution_count": 15,
   "metadata": {},
   "outputs": [
    {
     "name": "stdout",
     "output_type": "stream",
     "text": [
      "167.0\n"
     ]
    }
   ],
   "source": [
    "print(np.max(survival_times))"
   ]
  },
  {
   "cell_type": "code",
   "execution_count": 16,
   "metadata": {},
   "outputs": [
    {
     "name": "stdout",
     "output_type": "stream",
     "text": [
      "10\n",
      "10\n",
      "0\n",
      "None\n",
      "[ 24.   9.   7.  58.  10.   8.  11.   7.  73.  23.   2.  30.  36.  28.\n",
      "  11.   4.  22. 110. 111.  71.]\n",
      "[46, 48, 15, 48, 5, 14, 14, 23, 10, 85, 52, 28, 1, 3, 8, 19, 7, 80, 127, 68]\n",
      "21.4\n"
     ]
    }
   ],
   "source": [
    "print(np.sum(survival_times[NUM_TRAIN:] - predict_age[NUM_TRAIN:] < 0))\n",
    "print(np.sum(survival_times[NUM_TRAIN:] - predict_age[NUM_TRAIN:] > 0))\n",
    "print(print(np.sum(survival_times[NUM_TRAIN:] - predict_age[NUM_TRAIN:] == 0)))\n",
    "print(survival_times[NUM_TRAIN:])\n",
    "print(predict_age[NUM_TRAIN:])\n",
    "print(np.mean(abs(survival_times[NUM_TRAIN:] - predict_age[NUM_TRAIN:])))"
   ]
  },
  {
   "cell_type": "code",
   "execution_count": 17,
   "metadata": {},
   "outputs": [
    {
     "data": {
      "text/plain": [
       "[<matplotlib.lines.Line2D at 0x11e651410>]"
      ]
     },
     "execution_count": 17,
     "metadata": {},
     "output_type": "execute_result"
    },
    {
     "data": {
      "image/png": "[encoded data removed]",
      "text/plain": [
       "<Figure size 432x288 with 2 Axes>"
      ]
     },
     "metadata": {
      "needs_background": "light"
     },
     "output_type": "display_data"
    }
   ],
   "source": [
    "x_axis = np.arange(NUM_TASKS)+1 # the x axis\n",
    "y_train_gt_axis = np.zeros(NUM_TASKS) # the ground truth train axis\n",
    "y_val_gt_axis = np.zeros(NUM_TASKS) # the groud truth validation axis \n",
    "y_train_predict_axis = np.zeros(NUM_TASKS) # the predict train axis \n",
    "y_val_predict_axis = np.zeros(NUM_TASKS) # the predict validation axis \n",
    "\n",
    "for i in range(NUM_TASKS):\n",
    "    y_train_gt_axis[i] = np.sum(survival_times[:NUM_TRAIN] == x_axis[i])\n",
    "    y_val_gt_axis[i] = np.sum(survival_times[NUM_TRAIN:] == x_axis[i])\n",
    "    y_train_predict_axis[i] = np.sum(predict_age[:NUM_TRAIN] == x_axis[i])\n",
    "    y_val_predict_axis[i] = np.sum(predict_age[NUM_TRAIN:] == x_axis[i])\n",
    "# plt.plot(x_axis, y_train_gt_axis, x_axis, y_train_predict_axis) # the training set: ground truth vs predict situation\n",
    "# plt.plot(x_axis, y_val_gt_axis, x_axis, y_val_predict_axis) # the valiadtion set: ground truth vs predictsituation\n",
    "plt.subplot(211)\n",
    "plt.plot(x_axis, y_val_gt_axis)\n",
    "plt.subplot(212)\n",
    "plt.plot(x_axis, y_val_predict_axis)\n",
    "# plt.plot(x_axis,y_train_predict_axis,y_val_predict_axis)"
   ]
  },
  {
   "cell_type": "code",
   "execution_count": 18,
   "metadata": {},
   "outputs": [
    {
     "name": "stdout",
     "output_type": "stream",
     "text": [
      "179\n",
      "180\n"
     ]
    }
   ],
   "source": [
    "Yhat_tr = Kernel_Matrix_Train.dot(alpha * Y_train)\n",
    "good = 0\n",
    "mzz =[]\n",
    "for i in range(NUM_TRAIN):\n",
    "    num_violates_ranking_constraints = np.sum(Yhat_tr[i, int(survival_times[i]): ] > 0)\n",
    "    predict_gap = survival_times[i] - predict_age[i]\n",
    "    # print(num_violates_ranking_constraints)\n",
    "    if num_violates_ranking_constraints == 0:\n",
    "        good += 1\n",
    "    else:\n",
    "        mzz.append(np.sign(num_violates_ranking_constraints * predict_gap))\n",
    "        # mzz.append((num_violates_ranking_constraints, predict_gap))\n",
    "print(good)\n",
    "print(NUM_TRAIN)"
   ]
  },
  {
   "cell_type": "code",
   "execution_count": 19,
   "metadata": {},
   "outputs": [
    {
     "name": "stdout",
     "output_type": "stream",
     "text": [
      "1\n",
      "1\n"
     ]
    }
   ],
   "source": [
    "print(np.sum(np.array(mzz) < 0))\n",
    "print(np.array(mzz).size)"
   ]
  },
  {
   "cell_type": "code",
   "execution_count": 20,
   "metadata": {},
   "outputs": [
    {
     "ename": "NameError",
     "evalue": "name 'IDs' is not defined",
     "output_type": "error",
     "traceback": [
      "\u001b[0;31m---------------------------------------------------------------------------\u001b[0m",
      "\u001b[0;31mNameError\u001b[0m                                 Traceback (most recent call last)",
      "\u001b[0;32m<ipython-input-20-db90458eec34>\u001b[0m in \u001b[0;36m<module>\u001b[0;34m\u001b[0m\n\u001b[0;32m----> 1\u001b[0;31m \u001b[0;32mfor\u001b[0m \u001b[0mi\u001b[0m \u001b[0;32min\u001b[0m \u001b[0mrange\u001b[0m\u001b[0;34m(\u001b[0m\u001b[0mlen\u001b[0m\u001b[0;34m(\u001b[0m\u001b[0mIDs\u001b[0m\u001b[0;34m)\u001b[0m\u001b[0;34m)\u001b[0m\u001b[0;34m:\u001b[0m\u001b[0;34m\u001b[0m\u001b[0;34m\u001b[0m\u001b[0m\n\u001b[0m\u001b[1;32m      2\u001b[0m     \u001b[0midx_last_1\u001b[0m \u001b[0;34m=\u001b[0m \u001b[0mnp\u001b[0m\u001b[0;34m.\u001b[0m\u001b[0mwhere\u001b[0m\u001b[0;34m(\u001b[0m\u001b[0mhaty_IDs\u001b[0m\u001b[0;34m[\u001b[0m\u001b[0mi\u001b[0m\u001b[0;34m]\u001b[0m \u001b[0;34m==\u001b[0m \u001b[0;36m1\u001b[0m\u001b[0;34m)\u001b[0m\u001b[0;34m[\u001b[0m\u001b[0;36m0\u001b[0m\u001b[0;34m]\u001b[0m\u001b[0;34m[\u001b[0m\u001b[0;34m-\u001b[0m\u001b[0;36m1\u001b[0m\u001b[0;34m]\u001b[0m \u001b[0;31m# find the last 1\u001b[0m\u001b[0;34m\u001b[0m\u001b[0;34m\u001b[0m\u001b[0m\n\u001b[1;32m      3\u001b[0m     \u001b[0midx_minus1_list\u001b[0m \u001b[0;34m=\u001b[0m \u001b[0mnp\u001b[0m\u001b[0;34m.\u001b[0m\u001b[0mwhere\u001b[0m\u001b[0;34m(\u001b[0m\u001b[0mhaty_IDs\u001b[0m\u001b[0;34m[\u001b[0m\u001b[0mi\u001b[0m\u001b[0;34m]\u001b[0m\u001b[0;34m[\u001b[0m\u001b[0;34m:\u001b[0m\u001b[0midx_last_1\u001b[0m\u001b[0;34m]\u001b[0m \u001b[0;34m==\u001b[0m \u001b[0;34m-\u001b[0m\u001b[0;36m1\u001b[0m\u001b[0;34m)\u001b[0m\u001b[0;34m[\u001b[0m\u001b[0;36m0\u001b[0m\u001b[0;34m]\u001b[0m \u001b[0;31m# find all -1 before the last 1\u001b[0m\u001b[0;34m\u001b[0m\u001b[0;34m\u001b[0m\u001b[0m\n\u001b[1;32m      4\u001b[0m     \u001b[0midx_last_minus1\u001b[0m \u001b[0;34m=\u001b[0m \u001b[0midx_minus1_list\u001b[0m\u001b[0;34m[\u001b[0m\u001b[0;34m-\u001b[0m\u001b[0;36m1\u001b[0m\u001b[0;34m]\u001b[0m\u001b[0;34m\u001b[0m\u001b[0;34m\u001b[0m\u001b[0m\n\u001b[1;32m      5\u001b[0m     \u001b[0midx_1_list\u001b[0m \u001b[0;34m=\u001b[0m \u001b[0mnp\u001b[0m\u001b[0;34m.\u001b[0m\u001b[0mwhere\u001b[0m\u001b[0;34m(\u001b[0m\u001b[0mhaty_IDs\u001b[0m\u001b[0;34m[\u001b[0m\u001b[0mi\u001b[0m\u001b[0;34m]\u001b[0m\u001b[0;34m[\u001b[0m\u001b[0midx_last_minus1\u001b[0m\u001b[0;34m:\u001b[0m\u001b[0midx_last_1\u001b[0m\u001b[0;34m]\u001b[0m \u001b[0;34m==\u001b[0m \u001b[0;36m1\u001b[0m\u001b[0;34m)\u001b[0m\u001b[0;34m[\u001b[0m\u001b[0;36m0\u001b[0m\u001b[0;34m]\u001b[0m\u001b[0;34m\u001b[0m\u001b[0;34m\u001b[0m\u001b[0m\n",
      "\u001b[0;31mNameError\u001b[0m: name 'IDs' is not defined"
     ]
    }
   ],
   "source": [
    "for i in range(len(IDs)):\n",
    "    idx_last_1 = np.where(haty_IDs[i] == 1)[0][-1] # find the last 1\n",
    "    idx_minus1_list = np.where(haty_IDs[i][:idx_last_1] == -1)[0] # find all -1 before the last 1\n",
    "    idx_last_minus1 = idx_minus1_list[-1]\n",
    "    idx_1_list = np.where(haty_IDs[i][idx_last_minus1:idx_last_1] == 1)[0]"
   ]
  },
  {
   "cell_type": "code",
   "execution_count": null,
   "metadata": {},
   "outputs": [],
   "source": [
    "c = np.array([1,2,3,4])\n",
    "print(np.tile(c,(4,1)).T)"
   ]
  },
  {
   "cell_type": "code",
   "execution_count": null,
   "metadata": {},
   "outputs": [],
   "source": []
  },
  {
   "cell_type": "code",
   "execution_count": null,
   "metadata": {},
   "outputs": [],
   "source": []
  }
 ],
 "metadata": {
  "kernelspec": {
   "display_name": "Python 3",
   "language": "python",
   "name": "python3"
  },
  "language_info": {
   "codemirror_mode": {
    "name": "ipython",
    "version": 3
   },
   "file_extension": ".py",
   "mimetype": "text/x-python",
   "name": "python",
   "nbconvert_exporter": "python",
   "pygments_lexer": "ipython3",
   "version": "3.7.4"
  }
 },
 "nbformat": 4,
 "nbformat_minor": 2
}
