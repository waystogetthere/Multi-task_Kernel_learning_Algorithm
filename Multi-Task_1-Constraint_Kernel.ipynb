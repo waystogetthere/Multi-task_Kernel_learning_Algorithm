{
 "cells": [
  {
   "cell_type": "code",
   "execution_count": 1,
   "metadata": {},
   "outputs": [],
   "source": [
    "import numpy as np\n",
    "import matplotlib.pyplot as plt\n",
    "import time\n",
    "import numpy.linalg as LA\n",
    "import Function as f"
   ]
  },
  {
   "cell_type": "markdown",
   "metadata": {},
   "source": [
    "Setting the Hyper-Parameter:"
   ]
  },
  {
   "cell_type": "code",
   "execution_count": 2,
   "metadata": {},
   "outputs": [],
   "source": [
    "max_iteration = 10000\n",
    "weight_decay = 1e-5\n",
    "NUM_EMPLOYEES = 20500\n",
    "NUM_TRAIN = 20000\n",
    "NUM_VAL = 500\n",
    "Epsilons = [10,10]\n",
    "NUM_FEATURES = 3\n",
    "BANDWIDTH = 0.5"
   ]
  },
  {
   "cell_type": "code",
   "execution_count": 3,
   "metadata": {},
   "outputs": [],
   "source": [
    "X, Y, survival_times = f.Generating_Synthetic_Set(NUM_EMPLOYEES, NUM_FEATURES, Epsilons, bias = False)"
   ]
  },
  {
   "cell_type": "code",
   "execution_count": 4,
   "metadata": {},
   "outputs": [],
   "source": [
    "X_train = X[:NUM_TRAIN]\n",
    "X_val = X[NUM_TRAIN:]\n",
    "Y_train = Y[:NUM_TRAIN]\n",
    "Y_val = Y[NUM_TRAIN:]"
   ]
  },
  {
   "cell_type": "code",
   "execution_count": 5,
   "metadata": {},
   "outputs": [],
   "source": [
    "Kernel_Matrix = f.Generating_Kernel(X, \"Gaussian_Kernel\", BW = BANDWIDTH)\n",
    "Kernel_Matrix_Train = Kernel_Matrix[:NUM_TRAIN,:NUM_TRAIN]\n",
    "Kernel_Matrix_Val = Kernel_Matrix[NUM_TRAIN:,:NUM_TRAIN]"
   ]
  },
  {
   "cell_type": "code",
   "execution_count": 6,
   "metadata": {},
   "outputs": [
    {
     "name": "stdout",
     "output_type": "stream",
     "text": [
      "There are  382501790 pairs of samples of similarity between 0.0 and 0.1 which have an average age_gap  44.93758690122731 and the median is: 23.0\n",
      "There are  14269462 pairs of samples of similarity between 0.1 and 0.2 which have an average age_gap  26.64229373188702 and the median is: 14.0\n",
      "There are  7671930 pairs of samples of similarity between 0.2 and 0.3 which have an average age_gap  25.114676489488303 and the median is: 13.0\n",
      "There are  4981938 pairs of samples of similarity between 0.3 and 0.4 which have an average age_gap  24.04289736243205 and the median is: 12.0\n",
      "There are  3514016 pairs of samples of similarity between 0.4 and 0.5 which have an average age_gap  23.134912874614116 and the median is: 12.0\n",
      "There are  2575972 pairs of samples of similarity between 0.5 and 0.6 which have an average age_gap  22.381014234626775 and the median is: 11.0\n",
      "There are  1903156 pairs of samples of similarity between 0.6 and 0.7 which have an average age_gap  21.60989955631593 and the median is: 11.0\n",
      "There are  1390720 pairs of samples of similarity between 0.7 and 0.8 which have an average age_gap  21.004448055683387 and the median is: 10.0\n",
      "There are  950448 pairs of samples of similarity between 0.8 and 0.9 which have an average age_gap  20.190106139420568 and the median is: 10.0\n",
      "There are  488450 pairs of samples of similarity between 0.9 and 1.0 which have an average age_gap  18.80711638857611 and the median is: 8.0\n"
     ]
    },
    {
     "data": {
      "image/png": "[encoded data removed]",
      "text/plain": [
       "<Figure size 432x288 with 1 Axes>"
      ]
     },
     "metadata": {
      "needs_background": "light"
     },
     "output_type": "display_data"
    }
   ],
   "source": [
    "f.Validate_Synthetic_DataSet(Kernel_Matrix, survival_times)"
   ]
  },
  {
   "cell_type": "markdown",
   "metadata": {},
   "source": [
    "Have a quick look at the distribution of ages:"
   ]
  },
  {
   "cell_type": "code",
   "execution_count": 7,
   "metadata": {},
   "outputs": [
    {
     "data": {
      "text/plain": [
       "[<matplotlib.lines.Line2D at 0x2e2327a58>]"
      ]
     },
     "execution_count": 7,
     "metadata": {},
     "output_type": "execute_result"
    },
    {
     "data": {
      "image/png": "[encoded data removed]",
      "text/plain": [
       "<Figure size 432x288 with 1 Axes>"
      ]
     },
     "metadata": {
      "needs_background": "light"
     },
     "output_type": "display_data"
    }
   ],
   "source": [
    "NUM_TASKS = Y.shape[1]\n",
    "x_axis = np.arange(NUM_TASKS)+1\n",
    "y_train_gt_axis = np.zeros(NUM_TASKS)\n",
    "for i in range(NUM_TASKS):\n",
    "    y_train_gt_axis[i] = np.sum(survival_times[:NUM_TRAIN] == x_axis[i])\n",
    "plt.plot(x_axis, y_train_gt_axis)"
   ]
  },
  {
   "cell_type": "code",
   "execution_count": null,
   "metadata": {},
   "outputs": [
    {
     "name": "stdout",
     "output_type": "stream",
     "text": [
      "the iteration is: 1000\n",
      "the train accuracy is: 0.9656860084477297\n",
      "the val accuracy is: 0.9650306230200634\n",
      "71551 121135.0\n",
      "the c-index for val is: 0.5906715647830932\n"
     ]
    }
   ],
   "source": [
    "alpha = np.zeros_like(Y_train) \n",
    "predict_age = np.zeros(NUM_EMPLOYEES) \n",
    "val_loss_list = []\n",
    "index = 0\n",
    "for t in range(1, max_iteration+1):\n",
    "\n",
    "    f.Kernel_Pegasos(5, Kernel_Matrix_Train, alpha, Y_train, t, weight_decay)\n",
    "    \n",
    "    if t%1000 == 0: \n",
    "        print(\"the iteration is:\", t)\n",
    "        hatY_train = Kernel_Matrix_Train.dot(alpha*Y_train) / ( t * weight_decay )\n",
    "        \n",
    "        hatY_val =  Kernel_Matrix_Val.dot(alpha*Y_train) / ( t * weight_decay )\n",
    "        \n",
    "        predict_age_tr = f.Ages(hatY_train)\n",
    "        predict_age_val = f.Ages(hatY_val)\n",
    "        predict_age = predict_age_tr + predict_age_val\n",
    "            \n",
    "        acc_train = np.sum(Y_train * hatY_train > 0) / (NUM_TRAIN * NUM_TASKS)\n",
    "        acc_val = np.sum(Y_val * hatY_val > 0) / (NUM_VAL * NUM_TASKS)\n",
    "        print(\"the train accuracy is:\", acc_train)\n",
    "        print(\"the val accuracy is:\", acc_val)\n",
    "        \n",
    "        # C_index_tr = f.Calculate_C_index(survival_times[:NUM_TRAIN], predict_age_tr)\n",
    "        C_index_val = f.Calculate_C_index(survival_times[NUM_TRAIN:], predict_age_val)\n",
    "         \n",
    "        # print(\"the c-index for training is:\", C_index_tr)\n",
    "        print(\"the c-index for val is:\", C_index_val)\n",
    "        \n",
    "  \n",
    "print(np.sum(predict_age[NUM_TRAIN:] == survival_times[NUM_TRAIN:])/(NUM_VAL))"
   ]
  },
  {
   "cell_type": "code",
   "execution_count": null,
   "metadata": {},
   "outputs": [],
   "source": [
    "print(np.sum(survival_times[NUM_TRAIN:] - predict_age[NUM_TRAIN:] < 0))\n",
    "print(np.sum(survival_times[NUM_TRAIN:] - predict_age[NUM_TRAIN:] > 0))\n",
    "print(print(np.sum(survival_times[NUM_TRAIN:] - predict_age[NUM_TRAIN:] == 0)))\n",
    "print(survival_times[NUM_TRAIN:])\n",
    "print(predict_age[NUM_TRAIN:])"
   ]
  },
  {
   "cell_type": "code",
   "execution_count": null,
   "metadata": {},
   "outputs": [],
   "source": [
    "x_axis = np.arange(NUM_TASKS)+1 # the x axis\n",
    "y_train_gt_axis = np.zeros(NUM_TASKS) # the ground truth train axis\n",
    "y_val_gt_axis = np.zeros(NUM_TASKS) # the groud truth validation axis \n",
    "y_train_predict_axis = np.zeros(NUM_TASKS) # the predict train axis \n",
    "y_val_predict_axis = np.zeros(NUM_TASKS) # the predict validation axis \n",
    "\n",
    "for i in range(NUM_TASKS):\n",
    "    y_train_gt_axis[i] = np.sum(survival_times[:NUM_TRAIN] == x_axis[i])\n",
    "    y_val_gt_axis[i] = np.sum(survival_times[NUM_TRAIN:] == x_axis[i])\n",
    "    y_train_predict_axis[i] = np.sum(predict_age[:NUM_TRAIN] == x_axis[i])\n",
    "    y_val_predict_axis[i] = np.sum(predict_age[NUM_TRAIN:] == x_axis[i])\n",
    "# plt.plot(x_axis, y_train_gt_axis, x_axis, y_train_predict_axis) # the training set: ground truth vs predict situation\n",
    "# plt.plot(x_axis, y_val_gt_axis, x_axis, y_val_predict_axis) # the valiadtion set: ground truth vs predictsituation\n",
    "plt.plot(x_axis, y_val_predict_axis)\n",
    "# plt.plot(x_axis,y_train_predict_axis,y_val_predict_axis)"
   ]
  },
  {
   "cell_type": "code",
   "execution_count": null,
   "metadata": {},
   "outputs": [],
   "source": []
  }
 ],
 "metadata": {
  "kernelspec": {
   "display_name": "Python 3",
   "language": "python",
   "name": "python3"
  },
  "language_info": {
   "codemirror_mode": {
    "name": "ipython",
    "version": 3
   },
   "file_extension": ".py",
   "mimetype": "text/x-python",
   "name": "python",
   "nbconvert_exporter": "python",
   "pygments_lexer": "ipython3",
   "version": "3.7.3"
  }
 },
 "nbformat": 4,
 "nbformat_minor": 2
}
