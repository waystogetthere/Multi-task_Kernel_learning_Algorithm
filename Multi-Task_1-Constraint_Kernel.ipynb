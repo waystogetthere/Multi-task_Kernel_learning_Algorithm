{
 "cells": [
  {
   "cell_type": "code",
   "execution_count": 1,
   "metadata": {},
   "outputs": [],
   "source": [
    "import numpy as np\n",
    "import matplotlib.pyplot as plt"
   ]
  },
  {
   "cell_type": "code",
   "execution_count": 2,
   "metadata": {},
   "outputs": [],
   "source": [
    "max_iteration = 30000\n",
    "weight_decay = 0.01\n",
    "NUM_EMPLOYEES = 11000\n",
    "NUM_VAL = 1000\n",
    "Upsilon_1 = 0.01\n",
    "Upsilon_2 = 0.01\n",
    "NUM_FEATURES = 20\n",
    "BANDWIDTH = 1"
   ]
  },
  {
   "cell_type": "code",
   "execution_count": 3,
   "metadata": {},
   "outputs": [],
   "source": [
    "X = np.random.normal(loc=0.0, scale=10.0, size=(NUM_EMPLOYEES, NUM_FEATURES)) # the training set\n",
    "\n",
    "survival_times = np.zeros(NUM_EMPLOYEES) # the surivial time of each employees\n",
    "for i in range(NUM_EMPLOYEES):\n",
    "    age = np.random.exponential(np.sum(Upsilon_1 * X[i,:]**2)+np.sum(Upsilon_2 * X[i,:]), size=1)\n",
    "    survival_times[i] = np.ceil(age)\n",
    "    \n",
    "maximum_ob_time = int(max(survival_times))   \n",
    "\n",
    "Y = np.ones((NUM_EMPLOYEES, maximum_ob_time)) # the lifetime matrix of all employees, if one employee leave at the time interval k, then from Y[i,k](inlcude)  all entries are -1\n",
    "for i in range(NUM_EMPLOYEES):\n",
    "    Y[i, int(survival_times[i])-1:] = -1\n",
    "    \n",
    "square = np.sum(X ** 2, axis=1)\n",
    "column_vec = square[:, np.newaxis]\n",
    "row_vec = square[np.newaxis, :]\n",
    "Gaussian_Kernel = np.exp(-1 * (-2 * X.dot(X.T) + column_vec + row_vec) / (2 * BANDWIDTH ** 2)) # the Gaussian Kernel \n",
    "# Gaussian_Kernel = X.dot(X.T)"
   ]
  },
  {
   "cell_type": "code",
   "execution_count": null,
   "metadata": {},
   "outputs": [],
   "source": [
    "alpha = np.zeros_like(Y_train)\n",
    "max_iteration = 20000\n",
    "for t in range(max_iteration):\n",
    "    index = int(np.floor(np.random.rand()*NUM_EMPLOYEES)) # randomly select one employee\n",
    "    haty_index = (Gaussian_Kernel[index,:][np.newaxis,:].dot(alpha * Y)).reshape(-1) # calculate the predicted y vector\n",
    "    haty_index /= (t+1) * weight_decay\n",
    "\n",
    "    ## update alpha\n",
    "\n",
    "    mask = Y[index,:]*haty_index < 1\n",
    "    alpha[index,] += mask\n",
    "\n",
    "    if t%2000 == 0:\n",
    "        print(\"the iteration is:\", t)\n",
    "        hatY = np.zeros_like(Y)\n",
    "        hatY += Gaussian_Kernel.T.dot(alpha*Y)\n",
    "        hatY /= (t+1) * weight_decay\n",
    "        predict_age = np.zeros(NUM_EMPLOYEES)\n",
    "        for i in range(NUM_EMPLOYEES):\n",
    "            predict_age[i] = np.sum(hatY[i,:] > 0 )+1\n",
    "        \n",
    "        acc = np.sum(Y*hatY > 0)/(NUM_EMPLOYEES *maximum_ob_time)\n",
    "        print(\"the accuracy is:\", acc)\n",
    "        \n",
    "        useful_pair = 0\n",
    "        denominator = NUM_EMPLOYEES*(NUM_EMPLOYEES-1)/2\n",
    "        \n",
    "        for i in range(NUM_EMPLOYEES):\n",
    "            for j in np.arange(NUM_EMPLOYEES-(i+1))+(i+1):\n",
    "                if (survival_times[i]-survival_times[j])*(predict_age[i]-predict_age[j])> 0: # useful pair\n",
    "                    useful_pair += 1\n",
    "                if  survival_times[i] == survival_times[j]: # pair contains two employees whose lifetime are identical\n",
    "                    denominator -= 1\n",
    "        \n",
    "        c_index = useful_pair/ denominator\n",
    "        print(\"the c-index is,\",c_index)\n",
    "        \n",
    "print(np.sum(predict_age == survival_times)/NUM_EMPLOYEES)        \n",
    "x_axis = np.arange(maximum_ob_time)+1\n",
    "y_axis = np.zeros(maximum_ob_time)\n",
    "y_predict_axis = np.zeros(maximum_ob_time)\n",
    "\n",
    "for i in range(maximum_ob_time):\n",
    "    y_axis[i] = np.sum(survival_times == x_axis[i])\n",
    "    y_predict_axis[i] = np.sum(predict_age == x_axis[i])\n",
    "print\n",
    "plt.plot(x_axis, y_axis, x_axis,y_predict_axis)\n"
   ]
  }
 ],
 "metadata": {
  "kernelspec": {
   "display_name": "Python 3",
   "language": "python",
   "name": "python3"
  },
  "language_info": {
   "codemirror_mode": {
    "name": "ipython",
    "version": 3
   },
   "file_extension": ".py",
   "mimetype": "text/x-python",
   "name": "python",
   "nbconvert_exporter": "python",
   "pygments_lexer": "ipython3",
   "version": "3.6.8"
  }
 },
 "nbformat": 4,
 "nbformat_minor": 2
}
