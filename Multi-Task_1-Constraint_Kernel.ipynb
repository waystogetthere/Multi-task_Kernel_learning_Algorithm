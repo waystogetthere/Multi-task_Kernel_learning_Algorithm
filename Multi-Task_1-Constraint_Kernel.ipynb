{
 "cells": [
  {
   "cell_type": "code",
   "execution_count": 13,
   "metadata": {},
   "outputs": [],
   "source": [
    "import numpy as np\n",
    "import matplotlib.pyplot as plt"
   ]
  },
  {
   "cell_type": "code",
   "execution_count": 14,
   "metadata": {},
   "outputs": [],
   "source": [
    "max_iteration = 30000\n",
    "weight_decay = 0.01\n",
    "NUM_EMPLOYEES = 11000\n",
    "NUM_VAL = 1000\n",
    "Upsilon_1 = 0.01\n",
    "Upsilon_2 = 0.01\n",
    "NUM_FEATURES = 20\n",
    "BANDWIDTH = 1"
   ]
  },
  {
   "cell_type": "code",
   "execution_count": 15,
   "metadata": {},
   "outputs": [],
   "source": [
    "X = np.random.normal(loc=0.0, scale=10.0, size=(NUM_EMPLOYEES, NUM_FEATURES)) # the training set\n",
    "\n",
    "survival_times = np.zeros(NUM_EMPLOYEES) # the surivial time of each employees\n",
    "for i in range(NUM_EMPLOYEES):\n",
    "    age = np.random.exponential(np.sum(Upsilon_1 * X[i,:]**2)+np.sum(Upsilon_2 * X[i,:]), size=1)\n",
    "    survival_times[i] = np.ceil(age)\n",
    "    \n",
    "maximum_ob_time = int(max(survival_times))   \n",
    "\n",
    "Y = np.ones((NUM_EMPLOYEES, maximum_ob_time)) # the lifetime matrix of all employees, if one employee leave at the time interval k, then from Y[i,k](inlcude)  all entries are -1\n",
    "for i in range(NUM_EMPLOYEES):\n",
    "    Y[i, int(survival_times[i])-1:] = -1\n",
    "    \n",
    "square = np.sum(X ** 2, axis=1)\n",
    "column_vec = square[:, np.newaxis]\n",
    "row_vec = square[np.newaxis, :]\n",
    "Gaussian_Kernel = np.exp(-1 * (-2 * X.dot(X.T) + column_vec + row_vec) / (2 * BANDWIDTH ** 2)) # the Gaussian Kernel \n",
    "# Gaussian_Kernel = X.dot(X.T)"
   ]
  },
  {
   "cell_type": "code",
   "execution_count": 20,
   "metadata": {},
   "outputs": [],
   "source": [
    "X_train = X[:-NUM_VAL]\n",
    "X_val = X[-NUM_VAL:]\n",
    "survival_training = survival_times[:-NUM_VAL]\n",
    "survival_val = survival_times[-NUM_VAL:]\n",
    "Y_train = Y[:-NUM_VAL]\n",
    "Y_val = Y[-NUM_VAL:]\n",
    "Gaussian_Kernel_Train = Gaussian_Kernel[:-NUM_VAL,:-NUM_VAL]\n",
    "Gaussian_Kernel_Val = Gaussian_Kernel[-NUM_VAL:,-NUM_VAL:]"
   ]
  },
  {
   "cell_type": "code",
   "execution_count": 21,
   "metadata": {},
   "outputs": [
    {
     "name": "stdout",
     "output_type": "stream",
     "text": [
      "(11000, 226)\n",
      "226\n"
     ]
    }
   ],
   "source": [
    "print(Y.shape)\n",
    "print(maximum_ob_time)\n"
   ]
  },
  {
   "cell_type": "code",
   "execution_count": 7,
   "metadata": {},
   "outputs": [
    {
     "name": "stdout",
     "output_type": "stream",
     "text": [
      "the iteration is: 0\n",
      "the accuracy is: 0.000863728813559322\n",
      "the c-index is, 0.0007661096519752513\n",
      "the iteration is: 2000\n",
      "the accuracy is: 0.798344406779661\n",
      "the c-index is, 0.49917895111369326\n",
      "the iteration is: 4000\n",
      "the accuracy is: 0.8749840677966102\n",
      "the c-index is, 0.585716624702676\n",
      "the iteration is: 6000\n",
      "the accuracy is: 0.910784406779661\n",
      "the c-index is, 0.6551769866920538\n",
      "the iteration is: 8000\n",
      "the accuracy is: 0.9341959322033898\n",
      "the c-index is, 0.7129440820463142\n",
      "the iteration is: 10000\n",
      "the accuracy is: 0.9489715254237289\n",
      "the c-index is, 0.7623125190926675\n",
      "the iteration is: 12000\n",
      "the accuracy is: 0.9603440677966102\n",
      "the c-index is, 0.8036564802274825\n",
      "the iteration is: 14000\n",
      "the accuracy is: 0.9687325423728813\n",
      "the c-index is, 0.835127214004933\n",
      "the iteration is: 16000\n",
      "the accuracy is: 0.9741718644067796\n",
      "the c-index is, 0.8616443799586767\n",
      "the iteration is: 18000\n",
      "the accuracy is: 0.9799379661016949\n",
      "the c-index is, 0.8870697646945406\n",
      "0.8373\n"
     ]
    },
    {
     "data": {
      "text/plain": [
       "[<matplotlib.lines.Line2D at 0x108e515f8>,\n",
       " <matplotlib.lines.Line2D at 0x108e51780>]"
      ]
     },
     "execution_count": 7,
     "metadata": {},
     "output_type": "execute_result"
    },
    {
     "data": {
      "image/png": "[encoded data removed]",
      "text/plain": [
       "<Figure size 432x288 with 1 Axes>"
      ]
     },
     "metadata": {},
     "output_type": "display_data"
    }
   ],
   "source": [
    "alpha = np.zeros_like(Y_train)\n",
    "max_iteration = 20000\n",
    "for t in range(max_iteration):\n",
    "    index = int(np.floor(np.random.rand()*NUM_EMPLOYEES)) # randomly select one employee\n",
    "    haty_index = (Gaussian_Kernel[index,:][np.newaxis,:].dot(alpha * Y)).reshape(-1) # calculate the predicted y vector\n",
    "    haty_index /= (t+1) * weight_decay\n",
    "\n",
    "    ## update alpha\n",
    "\n",
    "    mask = Y[index,:]*haty_index < 1\n",
    "    alpha[index,] += mask\n",
    "\n",
    "    if t%2000 == 0:\n",
    "        print(\"the iteration is:\", t)\n",
    "        hatY = np.zeros_like(Y)\n",
    "        hatY += Gaussian_Kernel.T.dot(alpha*Y)\n",
    "        hatY /= (t+1) * weight_decay\n",
    "        predict_age = np.zeros(NUM_EMPLOYEES)\n",
    "        for i in range(NUM_EMPLOYEES):\n",
    "            predict_age[i] = np.sum(hatY[i,:] > 0 )+1\n",
    "        \n",
    "        acc = np.sum(Y*hatY > 0)/(NUM_EMPLOYEES *maximum_ob_time)\n",
    "        print(\"the accuracy is:\", acc)\n",
    "        \n",
    "        useful_pair = 0\n",
    "        denominator = NUM_EMPLOYEES*(NUM_EMPLOYEES-1)/2\n",
    "        \n",
    "        for i in range(NUM_EMPLOYEES):\n",
    "            for j in np.arange(NUM_EMPLOYEES-(i+1))+(i+1):\n",
    "                if (survival_times[i]-survival_times[j])*(predict_age[i]-predict_age[j])> 0: # useful pair\n",
    "                    useful_pair += 1\n",
    "                if  survival_times[i] == survival_times[j]: # pair contains two employees whose lifetime are identical\n",
    "                    denominator -= 1\n",
    "        \n",
    "        c_index = useful_pair/ denominator\n",
    "        print(\"the c-index is,\",c_index)\n",
    "        \n",
    "print(np.sum(predict_age == survival_times)/NUM_EMPLOYEES)        \n",
    "x_axis = np.arange(maximum_ob_time)+1\n",
    "y_axis = np.zeros(maximum_ob_time)\n",
    "y_predict_axis = np.zeros(maximum_ob_time)\n",
    "\n",
    "for i in range(maximum_ob_time):\n",
    "    y_axis[i] = np.sum(survival_times == x_axis[i])\n",
    "    y_predict_axis[i] = np.sum(predict_age == x_axis[i])\n",
    "print\n",
    "plt.plot(x_axis, y_axis, x_axis,y_predict_axis)\n"
   ]
  },
  {
   "cell_type": "code",
   "execution_count": null,
   "metadata": {},
   "outputs": [],
   "source": [
    "print(alpha)\n",
    "for i in range(maximum_ob_time):\n",
    "    print(np.sum(Y[:,i] == -1)/NUM_EMPLOYEES)\n",
    "print(survival_times.mean(),survival_times.std())\n",
    "# print(predict_age.mean(),predict_age.std())"
   ]
  },
  {
   "cell_type": "code",
   "execution_count": null,
   "metadata": {},
   "outputs": [],
   "source": [
    "print(Y)\n",
    "hatY = np.zeros_like(Y)\n",
    "hatY += Gaussian_Kernel.T.dot(alpha*Y)\n",
    "hatY /= (t+1) * weight_decay\n",
    "print(hatY)"
   ]
  },
  {
   "cell_type": "code",
   "execution_count": null,
   "metadata": {},
   "outputs": [],
   "source": [
    "print(Gaussian_Kernel)\n",
    "print(np.sum(Gaussian_Kernel,axis=0))"
   ]
  },
  {
   "cell_type": "code",
   "execution_count": null,
   "metadata": {},
   "outputs": [],
   "source": [
    "print(Y)\n",
    "print(survival_times)\n",
    "print(predict_age)\n",
    "# for i in np.arange(NUM_EMPLOYEES):\n",
    "    "
   ]
  },
  {
   "cell_type": "code",
   "execution_count": null,
   "metadata": {},
   "outputs": [],
   "source": [
    "print(alpha)"
   ]
  },
  {
   "cell_type": "code",
   "execution_count": null,
   "metadata": {},
   "outputs": [],
   "source": []
  }
 ],
 "metadata": {
  "kernelspec": {
   "display_name": "Python 3",
   "language": "python",
   "name": "python3"
  },
  "language_info": {
   "codemirror_mode": {
    "name": "ipython",
    "version": 3
   },
   "file_extension": ".py",
   "mimetype": "text/x-python",
   "name": "python",
   "nbconvert_exporter": "python",
   "pygments_lexer": "ipython3",
   "version": "3.6.8"
  }
 },
 "nbformat": 4,
 "nbformat_minor": 2
}
