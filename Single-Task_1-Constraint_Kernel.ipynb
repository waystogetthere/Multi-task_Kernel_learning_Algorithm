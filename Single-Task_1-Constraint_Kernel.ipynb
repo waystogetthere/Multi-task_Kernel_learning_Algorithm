{
 "cells": [
  {
   "cell_type": "markdown",
   "metadata": {},
   "source": [
    "There are 3 methods implemented here.\n",
    "\n",
    "1. Non-Kernel Stochastic Gradient Descent\n",
    "2. Kernel Stochastic Gradient Descent\n",
    "3. Kernel Batch Gradient Descent\n",
    "\n",
    "The training set are 20000 20D points which are  generated according to a normal distribution with mean = 0.0, std= 10.0\n",
    "The label set are generated according to a normal distribution with mean =0.0, std =5.0"
   ]
  },
  {
   "cell_type": "code",
   "execution_count": 1,
   "metadata": {},
   "outputs": [],
   "source": [
    "import numpy as np\n",
    "import numpy.linalg as LA\n",
    "import matplotlib.pyplot as plt"
   ]
  },
  {
   "cell_type": "markdown",
   "metadata": {},
   "source": [
    "Hyper-parameters"
   ]
  },
  {
   "cell_type": "code",
   "execution_count": 2,
   "metadata": {},
   "outputs": [],
   "source": [
    "max_iteration = 50000\n",
    "weight_decay = 0.01\n",
    "NUM_EMPLOYEES = 10500\n",
    "NUM_TRAIN = 10000\n",
    "NUM_VAL = 500\n",
    "NUM_FEATURES = 2\n",
    "BANDWIDTH = 1"
   ]
  },
  {
   "cell_type": "code",
   "execution_count": 3,
   "metadata": {},
   "outputs": [
    {
     "data": {
      "image/png": "[encoded data removed]",
      "text/plain": [
       "<Figure size 432x288 with 1 Axes>"
      ]
     },
     "metadata": {
      "needs_background": "light"
     },
     "output_type": "display_data"
    }
   ],
   "source": [
    "from sklearn.datasets import make_blobs\n",
    "from matplotlib import pyplot\n",
    "\n",
    "data, label = make_blobs(n_samples=NUM_EMPLOYEES, n_features=NUM_FEATURES, centers=6)\n",
    "label[label > 0] = -1\n",
    "label[label == 0] = 1\n",
    "\n",
    "# 绘制样本显示\n",
    "plt.scatter(data[:, 0], data[:, 1], c=label)\n",
    "plt.show()\n",
    "\n",
    "# print(label)"
   ]
  },
  {
   "cell_type": "markdown",
   "metadata": {},
   "source": [
    "Define the Training Set, Label Vector and Generate the Guassian Kernel according to the Training Set."
   ]
  },
  {
   "cell_type": "code",
   "execution_count": 4,
   "metadata": {},
   "outputs": [],
   "source": [
    "X = np.random.normal(loc=0.0, scale=10.0, size=(NUM_EMPLOYEES, NUM_FEATURES)) # the training set\n",
    "\n",
    "Y = np.random.normal(loc=0.0, scale=5.0, size=NUM_EMPLOYEES) # the Label Vector\n",
    "Y[Y > 0] = 1\n",
    "Y[Y < 0] = -1\n",
    "\n",
    "X = data\n",
    "Y = label"
   ]
  },
  {
   "cell_type": "code",
   "execution_count": 5,
   "metadata": {},
   "outputs": [
    {
     "name": "stdout",
     "output_type": "stream",
     "text": [
      "[1.00000000e+00 4.69326330e-11 2.94795053e-45 ... 5.71151444e-56\n",
      " 8.35384830e-01 5.08713516e-13]\n"
     ]
    }
   ],
   "source": [
    "# the BandWidth of Guassian Kernel.\n",
    "square = np.sum(X ** 2, axis=1)\n",
    "column_vec = square[:, np.newaxis]\n",
    "row_vec = square[np.newaxis, :]\n",
    "\n",
    "Gaussian_Kernel = np.exp(-1 * (-2 * X.dot(X.T) + column_vec + row_vec) / (2 * BANDWIDTH ** 2)) # the Gaussian Kernel \n",
    "print(Gaussian_Kernel[0,:])\n",
    "\n",
    "# alpha = np.ones(NUM_TRAIN) # alpha recording the times that each sample has a non-zero loss"
   ]
  },
  {
   "cell_type": "code",
   "execution_count": 6,
   "metadata": {},
   "outputs": [],
   "source": [
    "Gaussian_Kernel_train = Gaussian_Kernel[:NUM_TRAIN, :NUM_TRAIN]\n",
    "Gaussian_Kernel_val = Gaussian_Kernel[NUM_TRAIN:, :NUM_TRAIN]"
   ]
  },
  {
   "cell_type": "code",
   "execution_count": 7,
   "metadata": {},
   "outputs": [],
   "source": [
    "X_train = X[:NUM_TRAIN]\n",
    "X_val = X[NUM_TRAIN:]\n",
    "Y_train = Y[:NUM_TRAIN]\n",
    "Y_val = Y[NUM_TRAIN:]"
   ]
  },
  {
   "cell_type": "markdown",
   "metadata": {},
   "source": [
    "Non-kernel Method"
   ]
  },
  {
   "cell_type": "code",
   "execution_count": 8,
   "metadata": {},
   "outputs": [
    {
     "name": "stdout",
     "output_type": "stream",
     "text": [
      " At Iter 2000\n",
      " the training acc is:  1.0\n",
      " the val acc is:  1.0\n",
      " At Iter 4000\n",
      " the training acc is:  1.0\n",
      " the val acc is:  1.0\n",
      " At Iter 6000\n",
      " the training acc is:  1.0\n",
      " the val acc is:  1.0\n",
      " At Iter 8000\n",
      " the training acc is:  1.0\n",
      " the val acc is:  1.0\n",
      " At Iter 10000\n",
      " the training acc is:  1.0\n",
      " the val acc is:  1.0\n",
      " At Iter 12000\n",
      " the training acc is:  1.0\n",
      " the val acc is:  1.0\n",
      " At Iter 14000\n",
      " the training acc is:  1.0\n",
      " the val acc is:  1.0\n",
      " At Iter 16000\n",
      " the training acc is:  1.0\n",
      " the val acc is:  1.0\n",
      " At Iter 18000\n",
      " the training acc is:  1.0\n",
      " the val acc is:  1.0\n",
      " At Iter 20000\n",
      " the training acc is:  1.0\n",
      " the val acc is:  1.0\n",
      " At Iter 22000\n",
      " the training acc is:  1.0\n",
      " the val acc is:  1.0\n",
      " At Iter 24000\n",
      " the training acc is:  1.0\n",
      " the val acc is:  1.0\n",
      " At Iter 26000\n",
      " the training acc is:  1.0\n",
      " the val acc is:  1.0\n",
      " At Iter 28000\n",
      " the training acc is:  1.0\n",
      " the val acc is:  1.0\n",
      " At Iter 30000\n",
      " the training acc is:  1.0\n",
      " the val acc is:  1.0\n",
      " At Iter 32000\n",
      " the training acc is:  1.0\n",
      " the val acc is:  1.0\n",
      " At Iter 34000\n",
      " the training acc is:  1.0\n",
      " the val acc is:  1.0\n",
      " At Iter 36000\n",
      " the training acc is:  1.0\n",
      " the val acc is:  1.0\n",
      " At Iter 38000\n",
      " the training acc is:  1.0\n",
      " the val acc is:  1.0\n",
      " At Iter 40000\n",
      " the training acc is:  1.0\n",
      " the val acc is:  1.0\n",
      " At Iter 42000\n",
      " the training acc is:  1.0\n",
      " the val acc is:  1.0\n",
      " At Iter 44000\n",
      " the training acc is:  1.0\n",
      " the val acc is:  1.0\n",
      " At Iter 46000\n",
      " the training acc is:  1.0\n",
      " the val acc is:  1.0\n",
      " At Iter 48000\n",
      " the training acc is:  1.0\n",
      " the val acc is:  1.0\n",
      " At Iter 50000\n",
      " the training acc is:  1.0\n",
      " the val acc is:  1.0\n"
     ]
    }
   ],
   "source": [
    "loss_list = []\n",
    "w = np.zeros(NUM_FEATURES)\n",
    "for t in range(1, max_iteration + 1):\n",
    "    eta = 1 / ( t * weight_decay )\n",
    "    \n",
    "    index = int(np.random.rand() * NUM_TRAIN)  # select one sample from training set randomly.\n",
    "    \n",
    "    x = X_train[index]\n",
    "    y = Y_train[index]\n",
    "    \n",
    "    if 1 -y * x.dot(w) > 0:\n",
    "        temp_w = w - w/t + eta *  y * x\n",
    "    else:\n",
    "        temp_w = w - w/t\n",
    "    result = Y_train * X_train.dot(temp_w)\n",
    "    mask = result < 0\n",
    "    loss = LA.norm(w) + np.sum(result < 0) - np.sum(result[mask])\n",
    "    if t == 1 or loss < loss_list[-1]:\n",
    "        loss_list.append(loss)\n",
    "        w = temp_w\n",
    "    \n",
    "    if t % 2000 == 0:\n",
    "        print(\" At Iter\", t)\n",
    "        print(\" the training acc is: \", np.sum(Y_train * X_train.dot(w) > 0) / NUM_TRAIN)\n",
    "        print(\" the val acc is: \", np.sum(Y_val * X_val.dot(w) > 0 ) / NUM_VAL)"
   ]
  },
  {
   "cell_type": "code",
   "execution_count": 9,
   "metadata": {},
   "outputs": [
    {
     "name": "stdout",
     "output_type": "stream",
     "text": [
      "[-43.9789671  153.67901912]\n"
     ]
    },
    {
     "data": {
      "image/png": "[encoded data removed]",
      "text/plain": [
       "<Figure size 432x288 with 1 Axes>"
      ]
     },
     "metadata": {
      "needs_background": "light"
     },
     "output_type": "display_data"
    }
   ],
   "source": [
    "plt.plot(range(len(loss_list)), loss_list)\n",
    "plt.ylim(0,1000)\n",
    "# print(loss_list)\n",
    "print(w)"
   ]
  },
  {
   "cell_type": "code",
   "execution_count": 10,
   "metadata": {},
   "outputs": [
    {
     "data": {
      "image/png": "[encoded data removed]",
      "text/plain": [
       "<Figure size 432x288 with 1 Axes>"
      ]
     },
     "metadata": {
      "needs_background": "light"
     },
     "output_type": "display_data"
    }
   ],
   "source": [
    "x_axis = np.linspace(np.min(data, axis = 0)[0]-1,np.max(data, axis = 0)[0]+1)\n",
    "y_axis = w[0]/w[1] * x_axis * (-1)\n",
    "y2_axis = min(np.min(data, axis = 0)[1]-1, y_axis[0])\n",
    "\n",
    "plt.plot(x_axis, y_axis)\n",
    "plt.fill_between(x_axis, y_axis , y2_axis , interpolate=True, color='green', alpha=0.5)\n",
    "plt.scatter(X[:, 0], X[:, 1], c=label)\n",
    "plt.show()\n"
   ]
  },
  {
   "cell_type": "markdown",
   "metadata": {},
   "source": [
    "Stochastic Gradient Descent is shown below:"
   ]
  },
  {
   "cell_type": "code",
   "execution_count": 11,
   "metadata": {},
   "outputs": [
    {
     "name": "stdout",
     "output_type": "stream",
     "text": [
      "the training acc is: 1.0\n",
      "the val acc is: 1.0\n",
      "the training acc is: 1.0\n",
      "the val acc is: 1.0\n",
      "the training acc is: 1.0\n",
      "the val acc is: 1.0\n",
      "the training acc is: 1.0\n",
      "the val acc is: 1.0\n",
      "the training acc is: 1.0\n",
      "the val acc is: 1.0\n",
      "the training acc is: 1.0\n",
      "the val acc is: 1.0\n",
      "the training acc is: 1.0\n",
      "the val acc is: 1.0\n",
      "the training acc is: 1.0\n",
      "the val acc is: 1.0\n",
      "the training acc is: 1.0\n",
      "the val acc is: 1.0\n",
      "the training acc is: 1.0\n",
      "the val acc is: 1.0\n",
      "the training acc is: 1.0\n",
      "the val acc is: 1.0\n",
      "the training acc is: 1.0\n",
      "the val acc is: 1.0\n",
      "the training acc is: 1.0\n",
      "the val acc is: 1.0\n",
      "the training acc is: 1.0\n",
      "the val acc is: 1.0\n",
      "the training acc is: 1.0\n",
      "the val acc is: 1.0\n",
      "the training acc is: 1.0\n",
      "the val acc is: 1.0\n",
      "the training acc is: 1.0\n",
      "the val acc is: 1.0\n",
      "the training acc is: 1.0\n",
      "the val acc is: 1.0\n",
      "the training acc is: 1.0\n",
      "the val acc is: 1.0\n",
      "the training acc is: 1.0\n",
      "the val acc is: 1.0\n",
      "the training acc is: 1.0\n",
      "the val acc is: 1.0\n",
      "the training acc is: 1.0\n",
      "the val acc is: 1.0\n",
      "the training acc is: 1.0\n",
      "the val acc is: 1.0\n",
      "the training acc is: 1.0\n",
      "the val acc is: 1.0\n",
      "the training acc is: 1.0\n",
      "the val acc is: 1.0\n"
     ]
    }
   ],
   "source": [
    "alpha = np.zeros(NUM_TRAIN) # alpha recording the times that each sample has a non-zero loss\n",
    "# alpha = np.ones(NUM_TRAIN)\n",
    "for t in range(1, max_iteration+1):\n",
    "    index = int(np.floor(np.random.rand() * NUM_TRAIN)) # select one sample from training set randomly.\n",
    "\n",
    "    hatY_index = np.sum(alpha * Y_train * Gaussian_Kernel_train[index]) / (weight_decay * t)\n",
    "    if Y_train[index] * hatY_index  < 1:\n",
    "        alpha[index] += 1\n",
    "        # pass\n",
    "        \n",
    "    if t % 2000 == 0:\n",
    "        hatY_train = np.sum(alpha * Y_train * Gaussian_Kernel_train, axis=1) / (weight_decay * t)\n",
    "        hatY_val = np.sum(alpha * Y_train * Gaussian_Kernel_val, axis=1) / (weight_decay * t)\n",
    "        print(\"the training acc is:\", np.sum(hatY_train * Y_train > 0) / NUM_TRAIN)\n",
    "        print(\"the val acc is:\", np.sum(hatY_val * Y_val > 0) / NUM_VAL)\n",
    "        "
   ]
  },
  {
   "cell_type": "code",
   "execution_count": null,
   "metadata": {},
   "outputs": [],
   "source": []
  },
  {
   "cell_type": "markdown",
   "metadata": {},
   "source": [
    "Batch Gradient Descent is shown below:"
   ]
  },
  {
   "cell_type": "code",
   "execution_count": 12,
   "metadata": {},
   "outputs": [
    {
     "name": "stdout",
     "output_type": "stream",
     "text": [
      "1.0\n",
      "1.0\n",
      "1.0\n",
      "1.0\n",
      "1.0\n"
     ]
    }
   ],
   "source": [
    "alpha = np.zeros(NUM_EMPLOYEES) \n",
    "for t in range(15):\n",
    "    y_predict = np.sum(alpha * Y * Gaussian_Kernel, axis=1) \n",
    "    result = y_predict * Y\n",
    "    indices = np.argwhere(result < 1)\n",
    "    alpha[indices] += 1\n",
    "\n",
    "    if t % 3 == 0:\n",
    "        y_predict = np.sum(alpha * Y * Gaussian_Kernel, axis=1)\n",
    "        print(np.sum(y_predict * Y >= 1) / NUM_EMPLOYEES)"
   ]
  },
  {
   "cell_type": "code",
   "execution_count": null,
   "metadata": {},
   "outputs": [],
   "source": []
  }
 ],
 "metadata": {
  "kernelspec": {
   "display_name": "Python 3",
   "language": "python",
   "name": "python3"
  },
  "language_info": {
   "codemirror_mode": {
    "name": "ipython",
    "version": 3
   },
   "file_extension": ".py",
   "mimetype": "text/x-python",
   "name": "python",
   "nbconvert_exporter": "python",
   "pygments_lexer": "ipython3",
   "version": "3.7.3"
  }
 },
 "nbformat": 4,
 "nbformat_minor": 2
}
