{
 "cells": [
  {
   "cell_type": "code",
   "execution_count": 1,
   "metadata": {},
   "outputs": [],
   "source": [
    "import numpy as np\n",
    "import matplotlib.pyplot as plt\n",
    "import numpy.linalg as LA\n",
    "import Function as f"
   ]
  },
  {
   "cell_type": "code",
   "execution_count": 2,
   "metadata": {},
   "outputs": [],
   "source": [
    "max_iteration = 10000\n",
    "weight_decay = 1e-5\n",
    "NUM_EMPLOYEES = 10500\n",
    "NUM_TRAIN = 10000\n",
    "NUM_VAL = 500\n",
    "Epsilons = [10, 10]\n",
    "NUM_FEATURES = 3"
   ]
  },
  {
   "cell_type": "code",
   "execution_count": 3,
   "metadata": {},
   "outputs": [],
   "source": [
    "X, Y, survival_times = f.Generating_Synthetic_Set(NUM_EMPLOYEES, NUM_FEATURES, Epsilons, bias = True)"
   ]
  },
  {
   "cell_type": "code",
   "execution_count": 4,
   "metadata": {},
   "outputs": [],
   "source": [
    "X_train = X[:NUM_TRAIN]\n",
    "X_val = X[NUM_TRAIN:]\n",
    "Y_train = Y[:NUM_TRAIN]\n",
    "Y_val = Y[NUM_TRAIN:]"
   ]
  },
  {
   "cell_type": "code",
   "execution_count": 5,
   "metadata": {},
   "outputs": [],
   "source": [
    "# intialization\n",
    "NUM_TASKS = int(max(survival_times))\n",
    "loss_list = []\n",
    "W = np.zeros((NUM_FEATURES + 1, NUM_TASKS))\n",
    "W[-1] += 1\n",
    "dL1_W = np.zeros(W.shape)"
   ]
  },
  {
   "cell_type": "code",
   "execution_count": 6,
   "metadata": {},
   "outputs": [
    {
     "name": "stdout",
     "output_type": "stream",
     "text": [
      "1\n",
      "2\n",
      "3\n",
      "4\n",
      "5\n",
      "0.9479104812834225 0.945463101604278\n",
      "6\n",
      "7\n",
      "8\n",
      "9\n",
      "10\n",
      "0.9021004278074867 0.8911529411764706\n",
      "11\n",
      "12\n",
      "13\n",
      "14\n",
      "15\n",
      "0.9415480213903743 0.9363508021390374\n",
      "16\n",
      "17\n",
      "18\n",
      "19\n",
      "20\n",
      "0.9478926203208556 0.9499208556149733\n",
      "21\n",
      "22\n",
      "23\n",
      "24\n",
      "25\n",
      "0.9529260962566845 0.9537818181818182\n",
      "26\n",
      "27\n",
      "28\n",
      "29\n",
      "30\n",
      "0.8552979679144385 0.8491786096256685\n",
      "31\n",
      "32\n",
      "33\n",
      "34\n",
      "35\n",
      "0.9517313368983957 0.9478352941176471\n",
      "36\n",
      "37\n",
      "38\n",
      "39\n",
      "40\n",
      "0.9290858823529412 0.924536898395722\n",
      "41\n",
      "42\n",
      "43\n",
      "44\n",
      "45\n",
      "0.9495952941176471 0.9490331550802139\n",
      "46\n",
      "47\n",
      "48\n",
      "49\n",
      "50\n",
      "0.9547110160427807 0.9527272727272728\n",
      "51\n",
      "52\n",
      "53\n",
      "54\n",
      "55\n",
      "0.8946096256684491 0.894068449197861\n",
      "56\n",
      "57\n",
      "58\n",
      "59\n",
      "60\n",
      "0.9527747593582888 0.9520149732620321\n",
      "61\n",
      "62\n",
      "63\n",
      "64\n",
      "65\n",
      "0.94678 0.9470203208556149\n",
      "66\n",
      "67\n",
      "68\n",
      "69\n",
      "70\n",
      "0.9419337967914438 0.9440042780748663\n",
      "71\n",
      "72\n",
      "73\n",
      "74\n",
      "75\n",
      "0.9534793582887701 0.950496256684492\n",
      "76\n",
      "77\n",
      "78\n",
      "79\n",
      "80\n",
      "0.9506119786096257 0.9494844919786096\n",
      "81\n",
      "82\n",
      "83\n",
      "84\n",
      "85\n",
      "0.9329341176470588 0.9268577540106951\n",
      "86\n",
      "87\n",
      "88\n",
      "89\n",
      "90\n",
      "0.9477564705882353 0.9447743315508021\n",
      "91\n",
      "92\n",
      "93\n",
      "94\n",
      "95\n",
      "0.9439885561497326 0.9420791443850267\n",
      "96\n",
      "97\n",
      "98\n",
      "99\n",
      "100\n",
      "0.9411406417112299 0.9394844919786096\n",
      "101\n",
      "102\n",
      "103\n",
      "104\n",
      "105\n",
      "0.9362136898395722 0.9337283422459893\n",
      "106\n",
      "107\n",
      "108\n",
      "109\n",
      "110\n",
      "0.9552136898395722 0.9530096256684492\n",
      "111\n",
      "112\n",
      "113\n",
      "114\n",
      "115\n",
      "0.9489451336898396 0.9481668449197861\n",
      "116\n",
      "117\n",
      "118\n",
      "119\n",
      "120\n",
      "0.9370257754010696 0.9345754010695188\n",
      "121\n",
      "122\n",
      "123\n",
      "124\n",
      "125\n",
      "0.9358845989304813 0.932331550802139\n",
      "126\n",
      "127\n",
      "128\n",
      "129\n",
      "130\n",
      "0.9500404278074867 0.9501368983957219\n",
      "131\n",
      "132\n",
      "133\n",
      "134\n",
      "135\n",
      "0.9387842780748663 0.9359443850267379\n",
      "136\n",
      "137\n",
      "138\n",
      "139\n",
      "140\n",
      "0.9499020320855615 0.9472620320855615\n",
      "141\n",
      "142\n",
      "143\n",
      "144\n",
      "145\n",
      "0.9275126203208556 0.9228877005347593\n",
      "146\n",
      "147\n",
      "148\n",
      "149\n",
      "150\n",
      "0.9524029946524064 0.9515401069518716\n",
      "151\n",
      "152\n",
      "153\n",
      "154\n",
      "155\n",
      "0.9447866310160428 0.9397390374331551\n",
      "156\n",
      "157\n",
      "158\n",
      "159\n",
      "160\n",
      "0.9475548663101604 0.9438374331550802\n",
      "161\n",
      "162\n",
      "163\n",
      "164\n",
      "165\n",
      "0.9519355080213904 0.9512877005347593\n",
      "166\n",
      "167\n",
      "168\n",
      "169\n",
      "170\n",
      "0.9423310160427808 0.9394588235294118\n",
      "171\n",
      "172\n",
      "173\n",
      "174\n"
     ]
    },
    {
     "ename": "KeyboardInterrupt",
     "evalue": "",
     "output_type": "error",
     "traceback": [
      "\u001b[0;31m---------------------------------------------------------------------------\u001b[0m",
      "\u001b[0;31mKeyboardInterrupt\u001b[0m                         Traceback (most recent call last)",
      "\u001b[0;32m<ipython-input-6-4319fda09819>\u001b[0m in \u001b[0;36m<module>\u001b[0;34m\u001b[0m\n\u001b[1;32m      3\u001b[0m \u001b[0;34m\u001b[0m\u001b[0m\n\u001b[1;32m      4\u001b[0m     \u001b[0;31m# W, loss_list = f.Non_Kernel_Pegasos(10, X_train, W, Y_train, loss_list, t, weight_decay)\u001b[0m\u001b[0;34m\u001b[0m\u001b[0;34m\u001b[0m\u001b[0;34m\u001b[0m\u001b[0m\n\u001b[0;32m----> 5\u001b[0;31m     \u001b[0mW\u001b[0m \u001b[0;34m=\u001b[0m \u001b[0mf\u001b[0m\u001b[0;34m.\u001b[0m\u001b[0mSplit_Non_Kernel_Pegasos\u001b[0m\u001b[0;34m(\u001b[0m\u001b[0;36m10\u001b[0m\u001b[0;34m,\u001b[0m \u001b[0mX_train\u001b[0m\u001b[0;34m,\u001b[0m \u001b[0mW\u001b[0m\u001b[0;34m,\u001b[0m \u001b[0mY_train\u001b[0m\u001b[0;34m,\u001b[0m \u001b[0mloss_list\u001b[0m\u001b[0;34m,\u001b[0m \u001b[0mt\u001b[0m\u001b[0;34m,\u001b[0m \u001b[0mweight_decay\u001b[0m\u001b[0;34m)\u001b[0m\u001b[0;34m\u001b[0m\u001b[0;34m\u001b[0m\u001b[0m\n\u001b[0m\u001b[1;32m      6\u001b[0m     \u001b[0;32mif\u001b[0m \u001b[0mt\u001b[0m \u001b[0;34m%\u001b[0m \u001b[0;36m5\u001b[0m \u001b[0;34m==\u001b[0m \u001b[0;36m0\u001b[0m\u001b[0;34m:\u001b[0m\u001b[0;34m\u001b[0m\u001b[0;34m\u001b[0m\u001b[0m\n\u001b[1;32m      7\u001b[0m         \u001b[0mY_pred_tr\u001b[0m \u001b[0;34m=\u001b[0m \u001b[0mnp\u001b[0m\u001b[0;34m.\u001b[0m\u001b[0msign\u001b[0m\u001b[0;34m(\u001b[0m\u001b[0mX_train\u001b[0m\u001b[0;34m.\u001b[0m\u001b[0mdot\u001b[0m\u001b[0;34m(\u001b[0m\u001b[0mW\u001b[0m\u001b[0;34m)\u001b[0m\u001b[0;34m)\u001b[0m\u001b[0;34m\u001b[0m\u001b[0;34m\u001b[0m\u001b[0m\n",
      "\u001b[0;32m~/Downloads/Multi-task_Kernel_learning_Algorithm/Function.py\u001b[0m in \u001b[0;36mSplit_Non_Kernel_Pegasos\u001b[0;34m(batch_size, X, W, Y, loss_list, iter_times, weight_decay)\u001b[0m\n\u001b[1;32m    176\u001b[0m         \u001b[0mtemp_W\u001b[0m \u001b[0;34m=\u001b[0m \u001b[0mW\u001b[0m\u001b[0;34m\u001b[0m\u001b[0;34m\u001b[0m\u001b[0m\n\u001b[1;32m    177\u001b[0m         \u001b[0mtemp_W\u001b[0m\u001b[0;34m[\u001b[0m\u001b[0;34m:\u001b[0m\u001b[0;34m,\u001b[0m \u001b[0mi\u001b[0m\u001b[0;34m]\u001b[0m \u001b[0;34m+=\u001b[0m \u001b[0mnp\u001b[0m\u001b[0;34m.\u001b[0m\u001b[0msum\u001b[0m\u001b[0;34m(\u001b[0m\u001b[0mx\u001b[0m\u001b[0;34m[\u001b[0m\u001b[0mid\u001b[0m\u001b[0;34m]\u001b[0m \u001b[0;34m*\u001b[0m \u001b[0my\u001b[0m\u001b[0;34m[\u001b[0m\u001b[0mid\u001b[0m\u001b[0;34m]\u001b[0m\u001b[0;34m[\u001b[0m\u001b[0;34m:\u001b[0m\u001b[0;34m,\u001b[0m \u001b[0mi\u001b[0m\u001b[0;34m]\u001b[0m\u001b[0;34m[\u001b[0m\u001b[0;34m:\u001b[0m\u001b[0;34m,\u001b[0m \u001b[0;32mNone\u001b[0m\u001b[0;34m]\u001b[0m\u001b[0;34m,\u001b[0m \u001b[0maxis\u001b[0m\u001b[0;34m=\u001b[0m\u001b[0;36m0\u001b[0m\u001b[0;34m)\u001b[0m\u001b[0;34m\u001b[0m\u001b[0;34m\u001b[0m\u001b[0m\n\u001b[0;32m--> 178\u001b[0;31m         \u001b[0mbeforeLoss\u001b[0m \u001b[0;34m=\u001b[0m \u001b[0mComputing_loss_Single_Task\u001b[0m\u001b[0;34m(\u001b[0m\u001b[0mW\u001b[0m\u001b[0;34m[\u001b[0m\u001b[0;34m:\u001b[0m\u001b[0;34m,\u001b[0m \u001b[0mi\u001b[0m\u001b[0;34m]\u001b[0m\u001b[0;34m,\u001b[0m \u001b[0mX\u001b[0m\u001b[0;34m,\u001b[0m \u001b[0mY\u001b[0m\u001b[0;34m[\u001b[0m\u001b[0;34m:\u001b[0m\u001b[0;34m,\u001b[0m \u001b[0mi\u001b[0m\u001b[0;34m]\u001b[0m\u001b[0;34m)\u001b[0m\u001b[0;34m\u001b[0m\u001b[0;34m\u001b[0m\u001b[0m\n\u001b[0m\u001b[1;32m    179\u001b[0m         \u001b[0mafterLoss\u001b[0m \u001b[0;34m=\u001b[0m \u001b[0mComputing_loss_Single_Task\u001b[0m\u001b[0;34m(\u001b[0m\u001b[0mtemp_W\u001b[0m\u001b[0;34m[\u001b[0m\u001b[0;34m:\u001b[0m\u001b[0;34m,\u001b[0m \u001b[0mi\u001b[0m\u001b[0;34m]\u001b[0m\u001b[0;34m,\u001b[0m \u001b[0mX\u001b[0m\u001b[0;34m,\u001b[0m \u001b[0mY\u001b[0m\u001b[0;34m[\u001b[0m\u001b[0;34m:\u001b[0m\u001b[0;34m,\u001b[0m \u001b[0mi\u001b[0m\u001b[0;34m]\u001b[0m\u001b[0;34m)\u001b[0m\u001b[0;34m\u001b[0m\u001b[0;34m\u001b[0m\u001b[0m\n\u001b[1;32m    180\u001b[0m         \u001b[0;32mif\u001b[0m \u001b[0mafterLoss\u001b[0m \u001b[0;34m<\u001b[0m \u001b[0mbeforeLoss\u001b[0m\u001b[0;34m:\u001b[0m\u001b[0;34m\u001b[0m\u001b[0;34m\u001b[0m\u001b[0m\n",
      "\u001b[0;32m~/Downloads/Multi-task_Kernel_learning_Algorithm/Function.py\u001b[0m in \u001b[0;36mComputing_loss_Single_Task\u001b[0;34m(W, X, Y)\u001b[0m\n\u001b[1;32m     46\u001b[0m \u001b[0;34m\u001b[0m\u001b[0m\n\u001b[1;32m     47\u001b[0m \u001b[0;32mdef\u001b[0m \u001b[0mComputing_loss_Single_Task\u001b[0m\u001b[0;34m(\u001b[0m\u001b[0mW\u001b[0m\u001b[0;34m,\u001b[0m \u001b[0mX\u001b[0m\u001b[0;34m,\u001b[0m \u001b[0mY\u001b[0m\u001b[0;34m)\u001b[0m\u001b[0;34m:\u001b[0m\u001b[0;34m\u001b[0m\u001b[0;34m\u001b[0m\u001b[0m\n\u001b[0;32m---> 48\u001b[0;31m     \u001b[0mW_norm\u001b[0m \u001b[0;34m=\u001b[0m \u001b[0mLA\u001b[0m\u001b[0;34m.\u001b[0m\u001b[0mnorm\u001b[0m\u001b[0;34m(\u001b[0m\u001b[0mW\u001b[0m\u001b[0;34m)\u001b[0m\u001b[0;34m\u001b[0m\u001b[0;34m\u001b[0m\u001b[0m\n\u001b[0m\u001b[1;32m     49\u001b[0m     \u001b[0mloss\u001b[0m \u001b[0;34m=\u001b[0m \u001b[0;34m(\u001b[0m\u001b[0mW_norm\u001b[0m \u001b[0;34m**\u001b[0m \u001b[0;36m2\u001b[0m\u001b[0;34m)\u001b[0m \u001b[0;34m/\u001b[0m \u001b[0;36m2\u001b[0m\u001b[0;34m\u001b[0m\u001b[0;34m\u001b[0m\u001b[0m\n\u001b[1;32m     50\u001b[0m     \u001b[0mY_pred\u001b[0m \u001b[0;34m=\u001b[0m \u001b[0mX\u001b[0m\u001b[0;34m.\u001b[0m\u001b[0mdot\u001b[0m\u001b[0;34m(\u001b[0m\u001b[0mW\u001b[0m\u001b[0;34m)\u001b[0m\u001b[0;34m\u001b[0m\u001b[0;34m\u001b[0m\u001b[0m\n",
      "\u001b[0;32m//anaconda3/lib/python3.7/site-packages/numpy/linalg/linalg.py\u001b[0m in \u001b[0;36mnorm\u001b[0;34m(x, ord, axis, keepdims)\u001b[0m\n\u001b[1;32m   2444\u001b[0m             (ord == 2 and ndim == 1)):\n\u001b[1;32m   2445\u001b[0m \u001b[0;34m\u001b[0m\u001b[0m\n\u001b[0;32m-> 2446\u001b[0;31m             \u001b[0mx\u001b[0m \u001b[0;34m=\u001b[0m \u001b[0mx\u001b[0m\u001b[0;34m.\u001b[0m\u001b[0mravel\u001b[0m\u001b[0;34m(\u001b[0m\u001b[0morder\u001b[0m\u001b[0;34m=\u001b[0m\u001b[0;34m'K'\u001b[0m\u001b[0;34m)\u001b[0m\u001b[0;34m\u001b[0m\u001b[0;34m\u001b[0m\u001b[0m\n\u001b[0m\u001b[1;32m   2447\u001b[0m             \u001b[0;32mif\u001b[0m \u001b[0misComplexType\u001b[0m\u001b[0;34m(\u001b[0m\u001b[0mx\u001b[0m\u001b[0;34m.\u001b[0m\u001b[0mdtype\u001b[0m\u001b[0;34m.\u001b[0m\u001b[0mtype\u001b[0m\u001b[0;34m)\u001b[0m\u001b[0;34m:\u001b[0m\u001b[0;34m\u001b[0m\u001b[0;34m\u001b[0m\u001b[0m\n\u001b[1;32m   2448\u001b[0m                 \u001b[0msqnorm\u001b[0m \u001b[0;34m=\u001b[0m \u001b[0mdot\u001b[0m\u001b[0;34m(\u001b[0m\u001b[0mx\u001b[0m\u001b[0;34m.\u001b[0m\u001b[0mreal\u001b[0m\u001b[0;34m,\u001b[0m \u001b[0mx\u001b[0m\u001b[0;34m.\u001b[0m\u001b[0mreal\u001b[0m\u001b[0;34m)\u001b[0m \u001b[0;34m+\u001b[0m \u001b[0mdot\u001b[0m\u001b[0;34m(\u001b[0m\u001b[0mx\u001b[0m\u001b[0;34m.\u001b[0m\u001b[0mimag\u001b[0m\u001b[0;34m,\u001b[0m \u001b[0mx\u001b[0m\u001b[0;34m.\u001b[0m\u001b[0mimag\u001b[0m\u001b[0;34m)\u001b[0m\u001b[0;34m\u001b[0m\u001b[0;34m\u001b[0m\u001b[0m\n",
      "\u001b[0;31mKeyboardInterrupt\u001b[0m: "
     ]
    }
   ],
   "source": [
    "# start the loop\n",
    "for t in range(1, max_iteration + 1):\n",
    "\n",
    "    # W, loss_list = f.Non_Kernel_Pegasos(10, X_train, W, Y_train, loss_list, t, weight_decay)\n",
    "    W = f.Split_Non_Kernel_Pegasos(10, X_train, W, Y_train, loss_list, t, weight_decay)\n",
    "    if t % 5 == 0:\n",
    "        Y_pred_tr = np.sign(X_train.dot(W))\n",
    "        Y_pred_val = np.sign(X_val.dot(W))\n",
    "        acc_tr = np.sum(Y_pred_tr * Y_train > 0) / (Y_pred_tr.size)\n",
    "        acc_val = np.sum(Y_pred_val * Y_val > 0) / (Y_pred_val.size)\n",
    "        print(acc_tr, acc_val)\n",
    "        # print('Iteration {}:{:.2f}, loss = {},'.format(t, acc, loss_list[-1]))\n",
    "        # print('Iteration {}:{:.2f}, loss = {}, #violations = {}'.format(iter_times, acc, loss, num_violates))"
   ]
  },
  {
   "cell_type": "code",
   "execution_count": 10,
   "metadata": {},
   "outputs": [
    {
     "name": "stdout",
     "output_type": "stream",
     "text": [
      "0.21695740495921065\n"
     ]
    }
   ],
   "source": [
    "Y_pred = X.dot(W)\n",
    "predict_age = f.Ages(Y_pred)\n",
    "# print(predict_ages)\n",
    "c_index = f.Calculate_C_index(survival_times[NUM_TRAIN:], predict_age[NUM_TRAIN:])\n",
    "print(c_index)"
   ]
  },
  {
   "cell_type": "code",
   "execution_count": 8,
   "metadata": {},
   "outputs": [
    {
     "data": {
      "text/plain": [
       "[<matplotlib.lines.Line2D at 0x1319b1780>]"
      ]
     },
     "execution_count": 8,
     "metadata": {},
     "output_type": "execute_result"
    },
    {
     "data": {
      "image/png": "[encoded data removed]",
      "text/plain": [
       "<Figure size 432x288 with 1 Axes>"
      ]
     },
     "metadata": {
      "needs_background": "light"
     },
     "output_type": "display_data"
    }
   ],
   "source": [
    "x_axis = range(len(predict_ages))\n",
    "plt.plot(x_axis, predict_ages)"
   ]
  },
  {
   "cell_type": "code",
   "execution_count": 18,
   "metadata": {},
   "outputs": [
    {
     "data": {
      "text/plain": [
       "(0, 100)"
      ]
     },
     "execution_count": 18,
     "metadata": {},
     "output_type": "execute_result"
    },
    {
     "data": {
      "image/png": "[encoded data removed]",
      "text/plain": [
       "<Figure size 432x288 with 1 Axes>"
      ]
     },
     "metadata": {
      "needs_background": "light"
     },
     "output_type": "display_data"
    }
   ],
   "source": [
    "x_axis = np.arange(NUM_TASKS)+1 # the x axis\n",
    "y_train_gt_axis = np.zeros(NUM_TASKS) # the ground truth train axis\n",
    "y_val_gt_axis = np.zeros(NUM_TASKS) # the groud truth validation axis \n",
    "y_train_predict_axis = np.zeros(NUM_TASKS) # the predict train axis \n",
    "y_val_predict_axis = np.zeros(NUM_TASKS) # the predict validation axis \n",
    "\n",
    "for i in range(NUM_TASKS):\n",
    "    y_train_gt_axis[i] = np.sum(survival_times[:NUM_TRAIN] == x_axis[i])\n",
    "    y_val_gt_axis[i] = np.sum(survival_times[NUM_TRAIN:] == x_axis[i])\n",
    "    y_train_predict_axis[i] = np.sum(predict_age[:NUM_TRAIN] == x_axis[i])\n",
    "    y_val_predict_axis[i] = np.sum(predict_age[NUM_TRAIN:] == x_axis[i])\n",
    "# plt.boxplot(y_train_gt_axis)\n",
    "\n",
    "\n",
    "# print(y_train_gt_axis,y_train_predict_axis)\n",
    "plt.plot(x_axis, y_train_gt_axis, x_axis, y_train_predict_axis) # the training set: ground truth vs predict situation\n",
    "plt.xlim(0,100)\n",
    "# plt.plot(x_axis, y_val_gt_axis, x_axis, y_val_predict_axis) # the valiadtion set: ground truth vs predictsituation\n",
    "# plt.plot(x_axis, y_val_predict_axis)\n",
    "# plt.plot(x_axis,y_train_predict_axis,y_val_predict_axis)"
   ]
  },
  {
   "cell_type": "code",
   "execution_count": null,
   "metadata": {},
   "outputs": [],
   "source": []
  }
 ],
 "metadata": {
  "kernelspec": {
   "display_name": "Python 3",
   "language": "python",
   "name": "python3"
  },
  "language_info": {
   "codemirror_mode": {
    "name": "ipython",
    "version": 3
   },
   "file_extension": ".py",
   "mimetype": "text/x-python",
   "name": "python",
   "nbconvert_exporter": "python",
   "pygments_lexer": "ipython3",
   "version": "3.7.3"
  }
 },
 "nbformat": 4,
 "nbformat_minor": 2
}
