{
 "cells": [
  {
   "cell_type": "code",
   "execution_count": 1,
   "metadata": {},
   "outputs": [],
   "source": [
    "import numpy as np\n",
    "import matplotlib.pyplot as plt\n",
    "import time\n",
    "import numpy.linalg as LA\n",
    "import pandas as pd"
   ]
  },
  {
   "cell_type": "code",
   "execution_count": 2,
   "metadata": {},
   "outputs": [],
   "source": [
    "import Function as f"
   ]
  },
  {
   "cell_type": "code",
   "execution_count": 3,
   "metadata": {},
   "outputs": [],
   "source": [
    "# np.random.seed(1)"
   ]
  },
  {
   "cell_type": "markdown",
   "metadata": {},
   "source": [
    "Hyper parameter"
   ]
  },
  {
   "cell_type": "code",
   "execution_count": 4,
   "metadata": {},
   "outputs": [],
   "source": [
    "max_iteration = 15000\n",
    "weight_decay = 1e-5\n",
    "Epsilons = [10,10]\n",
    "BANDWIDTH = 0.5"
   ]
  },
  {
   "cell_type": "code",
   "execution_count": 5,
   "metadata": {},
   "outputs": [
    {
     "name": "stdout",
     "output_type": "stream",
     "text": [
      "[ 27.  10.  58. 129.  19.   7.  58.  52.  31.  80.  31.  57.  40.  35.\n",
      "  29.   8.  36.   1.  39.  13.  28.  15. 143.  42.  40.   5.   8.  30.\n",
      "  99.  27.  28.   9.   8.  26.  43.  49.   1.  10.  37.  33.  30.  17.\n",
      " 137. 106.  30.   1.  15.  72.  14.  48.   2. 106.  48.  31. 167.   3.\n",
      "  67.   8.   1.  43. 134.  43.   3.   7.  45.   3.  31.  10.  10.  43.\n",
      "  80.  23.   1.  85.  12.   3.  10.   8.   5.  14.  29.  28.  16.   2.\n",
      "  27.   2.  86.   7.   5.  84.   1.  18.  74.   6. 127.  69. 109.   4.\n",
      "  68.   1.  30.   9.  47.   5.  80.  50. 117.  20.  15.  33.   2.  25.\n",
      "  19.  25.   5.  83.  20. 111.  49.  16.   9.   6.  12.  52.   7.   5.\n",
      "  46.  29.   2.  35.   6.  52.  24.   7.  87. 108.  46.   7.  23.  17.\n",
      "   1.  11.  33.   1.  61. 110.   3. 117.  19.  37.   6.  11.  40.  82.\n",
      "  89.   7. 160. 118.  20.  10.  86.  99.  10.   4.  32.  23.  47.  13.\n",
      "  64.  64.  17. 130.   1.  73.  48.  28.   8.  73.   1.  53.  24.   9.\n",
      "   7.  58.  10.   8.  11.   7.  73.  23.   2.  30.  36.  28.  11.   4.\n",
      "  22. 110. 111.  71.]\n"
     ]
    }
   ],
   "source": [
    "filename = \"200(180+20).csv\"\n",
    "(X, X_train, X_val), (Y, Y_train, Y_val), (survival_times)= f.read_files(filename)\n",
    "NUM_TRAIN = X_train.shape[0]\n",
    "NUM_VAL = X_val.shape[0]\n",
    "NUM_EMPLOYEES = X.shape[0]"
   ]
  },
  {
   "cell_type": "code",
   "execution_count": 6,
   "metadata": {},
   "outputs": [],
   "source": [
    "# Kernel_Matrix = f.Generating_Kernel(X, \"Gaussian_Kernel\", BW = BANDWIDTH)\n",
    "Kernel_Matrix = f.Generating_Kernel(X, \"Quick_Gaussian_Kernel\", BW = BANDWIDTH)\n",
    "Kernel_Matrix_Train = Kernel_Matrix[:NUM_TRAIN,:NUM_TRAIN]\n",
    "Kernel_Matrix_Val = Kernel_Matrix[NUM_TRAIN:,:NUM_TRAIN]"
   ]
  },
  {
   "cell_type": "markdown",
   "metadata": {},
   "source": [
    "The Stochastic sub-Gradient Descent is shown below"
   ]
  },
  {
   "cell_type": "code",
   "execution_count": 7,
   "metadata": {},
   "outputs": [
    {
     "name": "stdout",
     "output_type": "stream",
     "text": [
      "There are  39292 pairs of samples of similarity between 0.0 and 0.1 which have an average age_gap  39.30479486918457 and the median is: 28.0\n",
      "There are  290 pairs of samples of similarity between 0.1 and 0.2 which have an average age_gap  30.572413793103447 and the median is: 18.0\n",
      "There are  122 pairs of samples of similarity between 0.2 and 0.3 which have an average age_gap  26.442622950819672 and the median is: 16.0\n",
      "There are  46 pairs of samples of similarity between 0.3 and 0.4 which have an average age_gap  20.695652173913043 and the median is: 16.0\n",
      "There are  14 pairs of samples of similarity between 0.4 and 0.5 which have an average age_gap  28.857142857142858 and the median is: 18.0\n",
      "There are  20 pairs of samples of similarity between 0.5 and 0.6 which have an average age_gap  19.0 and the median is: 5.5\n",
      "There are  6 pairs of samples of similarity between 0.6 and 0.7 which have an average age_gap  5.333333333333333 and the median is: 5.0\n",
      "There are  8 pairs of samples of similarity between 0.7 and 0.8 which have an average age_gap  30.25 and the median is: 8.5\n",
      "There are  2 pairs of samples of similarity between 0.8 and 0.9 which have an average age_gap  9.0 and the median is: 9.0\n",
      "There are  176 pairs of samples of similarity between 0.9 and 1.0 which have an average age_gap  0.0 and the median is: 0.0\n"
     ]
    },
    {
     "data": {
      "image/png": "[encoded data removed]",
      "text/plain": [
       "<Figure size 432x288 with 1 Axes>"
      ]
     },
     "metadata": {
      "needs_background": "light"
     },
     "output_type": "display_data"
    }
   ],
   "source": [
    "f.Validate_Synthetic_DataSet(Kernel_Matrix, survival_times)"
   ]
  },
  {
   "cell_type": "code",
   "execution_count": 8,
   "metadata": {},
   "outputs": [
    {
     "data": {
      "text/plain": [
       "[<matplotlib.lines.Line2D at 0x121398fd0>]"
      ]
     },
     "execution_count": 8,
     "metadata": {},
     "output_type": "execute_result"
    },
    {
     "data": {
      "image/png": "[encoded data removed]",
      "text/plain": [
       "<Figure size 432x288 with 1 Axes>"
      ]
     },
     "metadata": {
      "needs_background": "light"
     },
     "output_type": "display_data"
    }
   ],
   "source": [
    "NUM_TASKS = Y.shape[1]\n",
    "x_axis = np.arange(NUM_TASKS)+1\n",
    "y_train_gt_axis = np.zeros(NUM_TASKS)\n",
    "for i in range(NUM_TASKS):\n",
    "    y_train_gt_axis[i] = np.sum(survival_times[:NUM_TRAIN] == x_axis[i])\n",
    "plt.plot(x_axis, y_train_gt_axis)"
   ]
  },
  {
   "cell_type": "code",
   "execution_count": 9,
   "metadata": {},
   "outputs": [
    {
     "name": "stdout",
     "output_type": "stream",
     "text": [
      "167\n"
     ]
    }
   ],
   "source": [
    "print(NUM_TASKS)\n",
    "## DEL TOP 5%"
   ]
  },
  {
   "cell_type": "code",
   "execution_count": null,
   "metadata": {
    "scrolled": false
   },
   "outputs": [
    {
     "name": "stdout",
     "output_type": "stream",
     "text": [
      "the iteration is: 500\n",
      "the train accuracy is: 1.0\n",
      "the val accuracy is: 0.8446107784431137\n",
      "111 188.0\n",
      "the c-index for val is: 0.5904255319148937\n"
     ]
    },
    {
     "name": "stderr",
     "output_type": "stream",
     "text": [
      "/Users/menglvshi/opt/anaconda3/lib/python3.7/site-packages/numpy/core/fromnumeric.py:3257: RuntimeWarning: Mean of empty slice.\n",
      "  out=out, **kwargs)\n",
      "/Users/menglvshi/opt/anaconda3/lib/python3.7/site-packages/numpy/core/_methods.py:161: RuntimeWarning: invalid value encountered in double_scalars\n",
      "  ret = ret.dtype.type(ret / rcount)\n"
     ]
    },
    {
     "name": "stdout",
     "output_type": "stream",
     "text": [
      "the iteration is: 1000\n",
      "the train accuracy is: 1.0\n",
      "the val accuracy is: 0.8449101796407186\n",
      "111 188.0\n",
      "the c-index for val is: 0.5904255319148937\n",
      "the iteration is: 1500\n",
      "the train accuracy is: 1.0\n",
      "the val accuracy is: 0.8452095808383233\n",
      "111 188.0\n",
      "the c-index for val is: 0.5904255319148937\n",
      "the iteration is: 2000\n",
      "the train accuracy is: 1.0\n",
      "the val accuracy is: 0.8452095808383233\n",
      "111 188.0\n",
      "the c-index for val is: 0.5904255319148937\n",
      "the iteration is: 2500\n",
      "the train accuracy is: 1.0\n",
      "the val accuracy is: 0.8452095808383233\n",
      "111 188.0\n",
      "the c-index for val is: 0.5904255319148937\n",
      "the iteration is: 3000\n",
      "the train accuracy is: 1.0\n",
      "the val accuracy is: 0.8452095808383233\n",
      "111 188.0\n",
      "the c-index for val is: 0.5904255319148937\n",
      "the iteration is: 3500\n",
      "the train accuracy is: 1.0\n",
      "the val accuracy is: 0.8446107784431137\n",
      "111 188.0\n",
      "the c-index for val is: 0.5904255319148937\n",
      "the iteration is: 4000\n",
      "the train accuracy is: 1.0\n",
      "the val accuracy is: 0.8446107784431137\n",
      "111 188.0\n",
      "the c-index for val is: 0.5904255319148937\n"
     ]
    }
   ],
   "source": [
    "alpha = np.zeros_like(Y_train)\n",
    "beta = np.zeros((NUM_TRAIN,NUM_TASKS,NUM_TASKS))\n",
    "for t in range(1, max_iteration + 1):\n",
    "    alpha, beta = f.new_C2(Kernel_Matrix_Train, Y_train, alpha, beta, 180, t, weight_decay)\n",
    "    \n",
    "    if t%500 == 0: \n",
    "        print(\"the iteration is:\", t)\n",
    "        hatY_train = Kernel_Matrix_Train.dot(alpha*Y_train) \n",
    "        for i in range(NUM_TRAIN):\n",
    "            hstack_M_K_i = Kernel_Matrix_Train[i].repeat(NUM_TASKS).reshape(NUM_TRAIN, NUM_TASKS)\n",
    "            hatY_train += hstack_M_K_i.dot(beta[i, :, :])\n",
    "        hatY_train /= ( t * weight_decay )\n",
    "        \n",
    "        hatY_val =  Kernel_Matrix_Val.dot(alpha*Y_train) \n",
    "        for i in range(NUM_TRAIN):\n",
    "            hstack_M_K_i = Kernel_Matrix_Val[:,i].repeat(NUM_TASKS).reshape(NUM_VAL, NUM_TASKS)\n",
    "            hatY_val += hstack_M_K_i.dot(beta[i, :, :])\n",
    "        hatY_val /= ( t * weight_decay )\n",
    "        \n",
    "        predict_age_tr = f.Weighted_Ages(hatY_train)\n",
    "        predict_age_val = f.Weighted_Ages(hatY_val)\n",
    "        predict_age = predict_age_tr + predict_age_val\n",
    "            \n",
    "        acc_train = np.sum(Y_train * hatY_train > 0) / (NUM_TRAIN * NUM_TASKS)\n",
    "        acc_val = np.sum(Y_val * hatY_val > 0) / (NUM_VAL * NUM_TASKS)\n",
    "        print(\"the train accuracy is:\", acc_train)\n",
    "        print(\"the val accuracy is:\", acc_val)\n",
    "        \n",
    "        # C_index_tr = f.Calculate_C_index(survival_times[:NUM_TRAIN], predict_age_tr)\n",
    "        C_index_val = f.Calculate_C_index(survival_times[NUM_TRAIN:], predict_age_val)\n",
    "         \n",
    "        # print(\"the c-index for training is:\", C_index_tr)xx\n",
    "        print(\"the c-index for val is:\", C_index_val)"
   ]
  },
  {
   "cell_type": "code",
   "execution_count": null,
   "metadata": {},
   "outputs": [],
   "source": [
    "x_axis = np.arange(NUM_TASKS)+1 # the x axis\n",
    "y_train_gt_axis = np.zeros(NUM_TASKS) # the ground truth train axis\n",
    "y_val_gt_axis = np.zeros(NUM_TASKS) # the groud truth validation axis \n",
    "y_train_predict_axis = np.zeros(NUM_TASKS) # the predict train axis \n",
    "y_val_predict_axis = np.zeros(NUM_TASKS) # the predict validation axis \n",
    "\n",
    "for i in range(NUM_TASKS):\n",
    "    y_train_gt_axis[i] = np.sum(survival_times[:NUM_TRAIN] == x_axis[i])\n",
    "    y_val_gt_axis[i] = np.sum(survival_times[NUM_TRAIN:] == x_axis[i])\n",
    "    y_train_predict_axis[i] = np.sum(predict_age[:NUM_TRAIN] == x_axis[i])\n",
    "    y_val_predict_axis[i] = np.sum(predict_age[NUM_TRAIN:] == x_axis[i])\n",
    "# plt.plot(x_axis, y_train_gt_axis, x_axis, y_train_predict_axis) # the training set: ground truth vs predict situation\n",
    "# plt.plot(x_axis, y_val_gt_axis, x_axis, y_val_predict_axis) # the valiadtion set: ground truth vs predictsituation\n",
    "plt.subplot(211)\n",
    "plt.plot(x_axis, y_val_gt_axis)\n",
    "plt.subplot(212)\n",
    "plt.plot(x_axis, y_val_predict_axis)\n",
    "# plt.plot(x_axis,y_train_predict_axis,y_val_predict_axis)"
   ]
  },
  {
   "cell_type": "code",
   "execution_count": null,
   "metadata": {},
   "outputs": [],
   "source": [
    "print(predict_age[NUM_TRAIN:])\n",
    "print(survival_times[NUM_TRAIN:])\n",
    "print(np.sum(predict_age[NUM_TRAIN:] > survival_times[NUM_TRAIN:]))\n",
    "print(np.sum(predict_age[NUM_TRAIN:] < survival_times[NUM_TRAIN:]))\n",
    "print(np.sum(predict_age[NUM_TRAIN:] == survival_times[NUM_TRAIN:]))"
   ]
  },
  {
   "cell_type": "code",
   "execution_count": null,
   "metadata": {},
   "outputs": [],
   "source": [
    "hatY_train =  Kernel_Matrix_Train.dot(alpha*Y_train) / (max_iteration * weight_decay )"
   ]
  },
  {
   "cell_type": "code",
   "execution_count": null,
   "metadata": {},
   "outputs": [],
   "source": [
    "hatY_val =  Kernel_Matrix_Val.dot(alpha*Y_train) / (max_iteration * weight_decay )"
   ]
  },
  {
   "cell_type": "code",
   "execution_count": null,
   "metadata": {},
   "outputs": [],
   "source": [
    "hatY_val =  Kernel_Matrix_Val.dot(alpha*Y_train) \n",
    "for i in range(NUM_TRAIN):\n",
    "    hstack_M_K_i = Kernel_Matrix_Val[:,i].repeat(NUM_TASKS).reshape(NUM_VAL, NUM_TASKS)\n",
    "    hatY_val += hstack_M_K_i.dot(beta[i, :, :])\n",
    "hatY_val /= ( max_iteration * weight_decay )\n"
   ]
  },
  {
   "cell_type": "code",
   "execution_count": null,
   "metadata": {},
   "outputs": [],
   "source": [
    "hatY_train =  Kernel_Matrix_Train.dot(alpha*Y_train) \n",
    "for i in range(NUM_TRAIN):\n",
    "    hstack_M_K_i = Kernel_Matrix_Train[:,i].repeat(NUM_TASKS).reshape(NUM_TRAIN, NUM_TASKS)\n",
    "    hatY_val += hstack_M_K_i.dot(beta[i, :, :])\n",
    "hatY_val /= ( max_iteration * weight_decay )\n",
    "\n"
   ]
  },
  {
   "cell_type": "code",
   "execution_count": null,
   "metadata": {
    "scrolled": true
   },
   "outputs": [],
   "source": [
    "violate = 0\n",
    "for i in range(NUM_TRAIN):\n",
    "    if np.argwhere(hatY_train[i] < 0) != []:\n",
    "        minus_list = np.argwhere(hatY_train[i] < 0)\n",
    "        first_minus = minus_list[0]\n",
    "        after_pos_list = np.argwhere(hatY_train[i, first_minus:] > 0)\n",
    "        # print(after_pos_list)\n",
    "        if len(after_pos_list):\n",
    "            # print(after_pos_list)\n",
    "            violate += 1\n",
    "\n",
    "print(violate)\n",
    "print(NUM_TRAIN)\n",
    "# print(survival_times[-NUM_VAL])"
   ]
  },
  {
   "cell_type": "code",
   "execution_count": null,
   "metadata": {},
   "outputs": [],
   "source": [
    "violate = 0\n",
    "for i in range(NUM_VAL):\n",
    "    if np.argwhere(hatY_val[i] < 0) != []:\n",
    "        minus_list = np.argwhere(hatY_val[i] < 0)\n",
    "        first_minus = minus_list[0]\n",
    "        after_pos_list = np.argwhere(hatY_val[i, first_minus:] > 0)\n",
    "        if len(after_pos_list):\n",
    "            # print(after_pos_list)\n",
    "            violate += 1\n",
    "\n",
    "print(violate)\n",
    "print(NUM_VAL)\n",
    "# print(survival_times[-NUM_VAL])\n"
   ]
  },
  {
   "cell_type": "code",
   "execution_count": null,
   "metadata": {},
   "outputs": [],
   "source": [
    "print(hatY_val)"
   ]
  },
  {
   "cell_type": "code",
   "execution_count": null,
   "metadata": {},
   "outputs": [],
   "source": [
    "validation_age = predict_age[NUM_TRAIN:]\n",
    "tr_age = predict_age[:NUM_TRAIN]\n",
    "train_vs_validation_samples = Kernel_Matrix[:NUM_TRAIN,NUM_TRAIN:]\n",
    "train_vs_train_samples = Kernel_Matrix_Train\n",
    "train_id = 11\n",
    "plt.xlim(0,1)\n",
    "age_gap_list = np.zeros(100)\n",
    "num_list = np.zeros(100)\n",
    "for i in range(NUM_TRAIN):\n",
    "    for j in range(NUM_VAL):\n",
    "        interval_id = np.int(np.floor((train_vs_validation_samples[i,j] / 0.01)))\n",
    "        age_gap = abs(validation_age[j] - tr_age[i])\n",
    "        age_gap_list[interval_id] += age_gap\n",
    "        num_list += 1\n",
    "avg_age_gap_list = age_gap_list/num_list\n",
    "plt.plot(np.linspace(0,1, num = 100),avg_age_gap_list)\n",
    "# plt.scatter(np.linspace(0,1, num = 100), avg_age_gap_list)\n",
    "# plt.scatter(train_vs_train_samples[train_id],abs(tr_age-survival_times[train_id]))\n",
    "# plt.scatter(train_vs_validation_samples[train_id], abs(validation_age-survival_times[train_id]))\n",
    "# print(train_vs_validation_samples[train_id])"
   ]
  },
  {
   "cell_type": "code",
   "execution_count": null,
   "metadata": {},
   "outputs": [],
   "source": []
  }
 ],
 "metadata": {
  "kernelspec": {
   "display_name": "Python 3",
   "language": "python",
   "name": "python3"
  },
  "language_info": {
   "codemirror_mode": {
    "name": "ipython",
    "version": 3
   },
   "file_extension": ".py",
   "mimetype": "text/x-python",
   "name": "python",
   "nbconvert_exporter": "python",
   "pygments_lexer": "ipython3",
   "version": "3.7.4"
  }
 },
 "nbformat": 4,
 "nbformat_minor": 2
}
