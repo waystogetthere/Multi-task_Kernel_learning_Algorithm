{
 "cells": [
  {
   "cell_type": "code",
   "execution_count": 1,
   "metadata": {},
   "outputs": [],
   "source": [
    "import numpy as np\n",
    "import matplotlib.pyplot as plt\n",
    "import time\n",
    "import numpy.linalg as LA\n",
    "import pandas as pd"
   ]
  },
  {
   "cell_type": "code",
   "execution_count": 2,
   "metadata": {},
   "outputs": [],
   "source": [
    "import Function as f"
   ]
  },
  {
   "cell_type": "code",
   "execution_count": 3,
   "metadata": {},
   "outputs": [
    {
     "name": "stdout",
     "output_type": "stream",
     "text": [
      "(1, 10)\n",
      "[4.333333333333333]\n"
     ]
    }
   ],
   "source": [
    "absdd = np.array([1,-1,-1,1,1,-1,-1,-1,1,-1])[:,np.newaxis].T\n",
    "print(absdd.shape)\n",
    "print(f.Weighted_Ages(absdd))"
   ]
  },
  {
   "cell_type": "code",
   "execution_count": 4,
   "metadata": {},
   "outputs": [],
   "source": [
    "np.random.seed(1000)"
   ]
  },
  {
   "cell_type": "markdown",
   "metadata": {},
   "source": [
    "Hyper parameter"
   ]
  },
  {
   "cell_type": "code",
   "execution_count": 5,
   "metadata": {},
   "outputs": [],
   "source": [
    "max_iteration = 15000\n",
    "weight_decay = 1e-5\n",
    "Epsilons = [10,10]\n",
    "BANDWIDTH = 0.5"
   ]
  },
  {
   "cell_type": "code",
   "execution_count": 6,
   "metadata": {},
   "outputs": [
    {
     "name": "stdout",
     "output_type": "stream",
     "text": [
      "[  5.  11.   2. 100.  61. 155.  15. 147.  61.  17. 121.   1.  61. 106.\n",
      "  34.  37.  14.  28.  50.  31.  10.  13.   1.  72.  17.  28.  89.   7.\n",
      "  83.   2.  57.  13.  51.  32.  13. 141.   7. 102.   2.  60.  43. 103.\n",
      "  13.  11.  18.  46.  12.  10.  59.  88.  12.  17.  28.  51. 111.   4.\n",
      "  80.  26.  26.   5.   1.  29.   8.  22.  94.  12.  10.   6.   1.  27.\n",
      "   9. 141.   4.  21.   9. 100.  20.  63.  41.  67.   6.  89.  34.   7.\n",
      "  50.  33.  25.   3.  10.  26.  80.  15.   7.  29.  70.   1. 108.  85.\n",
      "  80.  38.  34.   1.  11.  58.   2.  23.  55. 174.  29.   6.  15.  78.\n",
      "   8.   1.   1.  71.  15.  27.  24.  37.  66.  22.  29.  92.  30. 113.\n",
      "  97.  12.  34.  22.   1.   5. 142. 123.  10.   4. 102.  26.   9.  27.\n",
      "   1.  50.  13.  15.  58.  60.  12.  26.  22.  10.  28. 106.   9. 123.\n",
      "  91.  40.   6.  96.   7.  26.  92.  33.   1.   6.  37.   8.  15.  70.\n",
      "   6.   2.  10.  10. 121. 183. 120.  16. 119. 114.  65.  76.  55.  55.\n",
      "  18.  11.  70.   2.   3.  13. 122.   1.  10.   3. 120.  87.   1.  20.\n",
      "  27. 129.   5.   4.  32.  48. 149. 123.  53.  28.  26.  20. 174.  52.\n",
      "  61.  50.  23.   9. 136. 117.   1.  24.  44.   9.  25. 153.  17.   7.\n",
      " 139.   4.  97.   1.   8.  42.  59.   3.   6. 150.   4.  25. 108.  67.\n",
      "  41.   4.  20.  14.   8.  29.  13.   9.  33.  37.   6.   4.  37.  49.\n",
      "   7.  90. 123.  17.  36.  45. 164.  54.   1.   3.  18.  32.   2.  41.\n",
      "  13.  11.  15.  19.   7. 102.  29.  20. 184.  49.  73.  60.  31.  20.\n",
      "  34.  73.  25.   1.  16.   3.   9.  87. 196.   2.  78.   3.  41.  55.\n",
      "   1.  52.  16.  36.  18.   4.  30. 146.  60. 129.   2.  17. 168.   2.\n",
      "   4.  15.  14.  30.  19.   4.  14. 104.  40.  51.  89. 121.   4.  35.\n",
      "  13.  28.  32.  27. 116.  31.  56.  19.  47.   6.  64. 173.  86.  99.\n",
      "  91.  39.  27.   7.  32.   7.  26.   1.  98.   7.   7.  94.  86. 197.\n",
      " 106.  37.  20.  23.  50.  19.  15.  77.  16.   7.  11.   7. 168.  19.\n",
      "   8.  26.  13.   4.   5. 157.  64.  18. 120.  38.  25.  17.  47.   8.\n",
      "  10.  14.  44.   8.   5.  15.  60. 128. 113.  35.  11. 155.  38. 113.\n",
      "   3.  20.  26.   1.  36.  76.   5.   2.   3.  10.  35.  49.  14.  10.\n",
      "  11.  24.  36.   1.  16.  10.  11.  10.  67.   2.  54.  20.  69. 114.\n",
      " 108.   8.  12.   6.  94.   8.   3.  15.   4.  69. 136.  10.  27.  35.\n",
      "  91.  90.  18.   4.  44.   2.  61.  34.  21.  93.  46.  83.  21.  12.\n",
      "  49.  26.  13.  28.   5.  41.  11.  25.  43.  11.  17.   3.  21. 132.\n",
      "  22.  86.  38.   9.  58. 118.  51.  32.  91.  34.  19.  28.  18.  40.\n",
      " 104.  29.   3.  26.  95.  16.  15. 121.  53.   3.  70.  41.   6.  16.\n",
      "  21.   2.  22.  11.  55.   5.  29.  18. 149.  15.  32.   9.  55. 128.\n",
      "   4.  29.  22.  31.  12.   3.  54.   6.  21. 156.  23.  15.  28. 107.\n",
      "   1.   8.  47.  62. 119.   4. 142.  36.  77.  67.  64.  18.   6.  25.\n",
      "   3.  46.   7.  12.   6.  95.  57.   2.  70.  89.  35.   2.  24.  24.\n",
      "  13. 114.  32.  62.  32.   9.  12.  42.  22.   2.   2.   5.  10.  34.\n",
      "   1.  18.  58.   2.  18.  70. 107.   6.  47.   1.  26.  22.   5.  35.\n",
      "  79.  66.  12.  56.  62.  76. 190.  21.  19.  21.  15.   8.  10.   2.\n",
      "  78.  42.  51.   3.  10.  27.  27.  51. 110.  12.  81.  69.  77.  69.\n",
      "  65.  17.  29. 149.   9.   1.  77.  61.   8.   5.  33.   2.  10.  52.\n",
      "  58.  55.  24.   4. 157. 133.  20.  22. 104.  27.  47.   3. 106.  24.\n",
      "   2.  70.   2.  97. 119.  17.  57.  94.  62.   2. 182.  24.  71. 154.\n",
      "  78.  12.  28.   5.   1.  15. 113.  34.   1.  50.  82.  11.  85.   3.\n",
      "   5.   8.  45.   1.  90.  10.  71.   1.  61.  12.  77.   3.  36. 171.\n",
      "  31.  47.  44. 157.  85.  16.  22.  26.  61.  15.  38.  41.  16.   3.\n",
      "   9.   4.  43.  33.   3.  56.  43.   3. 138.  27.  15. 157.  80.   8.\n",
      "  23.   4.  70.  32.   5.  64.  25.  89.  69.  44.  13. 133.   1.  86.\n",
      " 134.  92. 128.   3.   1.  53.  25. 112.  27. 187.   3.  45. 101. 128.\n",
      "   6.  71.  30.  50.  60. 170.   7.   6.  10.   2.  45.   2.  58.  18.\n",
      "  21.   9.  69. 111.  27.  35.  37.  26.   1.  65.  15.   6.  26. 125.\n",
      "   8.  55.   3.  74.  36.  23.   1.   2.  72.   1.   7.   4.   3.   9.\n",
      "  15.   6.  46.  54.  79.  11.   7.  46. 108.  71.  80.  10.  13.  34.\n",
      "  31.  92.  47.   4.  20.   5.  93.  65.  40.   5.   1. 154.  62.   5.\n",
      " 105.  38.  20.  98.  21.   2. 138.   4.  42.  27.  83.  17.  36.  39.\n",
      "  56.  12.  24.   8.  95. 164.   5.  12.  16. 106.  52.  27.  88.  10.\n",
      "  40.  40.  13.  29.  76.   2. 168.  17.  47.  23.  55.  18.  30.   3.\n",
      "   7.   2.   1.  44.  67. 132.   5.  39.  16. 158.   6.  18.   1.  80.\n",
      "  74.  57.  34.  22.  63.  15.  85.   8.   5.  34.  14.  13. 135.  23.\n",
      "  52.  17.  59.  76.  28.  11.  24.   6.  11.  30.  92.  33.  49.   9.\n",
      "  98.  12.  51.  80.  41.   3.  40. 177. 140.  49.   8.   6.  11.   3.\n",
      "   1.  24.  11.  14.   2.  11.   3.  58.  11.  25. 102.  16.  23. 142.\n",
      "   3. 149.  98.  14.  55.  74.   5.  87.  47.  18.  18.   9.  12.  17.\n",
      "  29. 165. 197.   3. 101.  81.  34.   1.  22.  47. 115.  54. 114.  23.\n",
      "  43.   7.  11.  55.   1.  38.  19.  11.  48.   6.  46.  64.  30.   3.\n",
      "  34.  32.   2.   8.  52.  18.  75.  41.   9.  88.  15.  33.   3.  14.\n",
      "   2.  78.   4.  15.  86.  67.  97.  28.  15. 180.   3. 102.   9.  83.\n",
      "  21. 120.  40.  11.  10.  25.  34.  70.  11.  69.   2.   2.  49.  34.\n",
      "   3.   9.  55.  15.   9.  28.]\n"
     ]
    }
   ],
   "source": [
    "filename = \"1000(900+100).csv\"\n",
    "(X, X_train, X_val), (Y, Y_train, Y_val), (survival_times)= f.read_files(filename)\n",
    "NUM_TRAIN = X_train.shape[0]\n",
    "NUM_VAL = X_val.shape[0]\n",
    "NUM_EMPLOYEES = X.shape[0]"
   ]
  },
  {
   "cell_type": "code",
   "execution_count": 7,
   "metadata": {},
   "outputs": [],
   "source": [
    "# Kernel_Matrix = f.Generating_Kernel(X, \"Gaussian_Kernel\", BW = BANDWIDTH)\n",
    "Kernel_Matrix = f.Generating_Kernel(X, \"Quick_Gaussian_Kernel\", BW = BANDWIDTH)\n",
    "Kernel_Matrix_Train = Kernel_Matrix[:NUM_TRAIN,:NUM_TRAIN]\n",
    "Kernel_Matrix_Val = Kernel_Matrix[NUM_TRAIN:,:NUM_TRAIN]"
   ]
  },
  {
   "cell_type": "markdown",
   "metadata": {},
   "source": [
    "The Stochastic sub-Gradient Descent is shown below"
   ]
  },
  {
   "cell_type": "code",
   "execution_count": 8,
   "metadata": {},
   "outputs": [
    {
     "name": "stdout",
     "output_type": "stream",
     "text": [
      "There are  989330 pairs of samples of similarity between 0.0 and 0.1 which have an average age_gap  44.9657222564766 and the median is: 32.0\n",
      "There are  5336 pairs of samples of similarity between 0.1 and 0.2 which have an average age_gap  30.12143928035982 and the median is: 19.0\n",
      "There are  2182 pairs of samples of similarity between 0.2 and 0.3 which have an average age_gap  28.998166819431713 and the median is: 19.0\n",
      "There are  1070 pairs of samples of similarity between 0.3 and 0.4 which have an average age_gap  28.885981308411214 and the median is: 19.0\n",
      "There are  554 pairs of samples of similarity between 0.4 and 0.5 which have an average age_gap  26.859205776173287 and the median is: 17.0\n",
      "There are  248 pairs of samples of similarity between 0.5 and 0.6 which have an average age_gap  26.201612903225808 and the median is: 16.0\n",
      "There are  162 pairs of samples of similarity between 0.6 and 0.7 which have an average age_gap  26.91358024691358 and the median is: 21.0\n",
      "There are  92 pairs of samples of similarity between 0.7 and 0.8 which have an average age_gap  22.17391304347826 and the median is: 10.5\n",
      "There are  24 pairs of samples of similarity between 0.8 and 0.9 which have an average age_gap  34.166666666666664 and the median is: 22.5\n",
      "There are  871 pairs of samples of similarity between 0.9 and 1.0 which have an average age_gap  0.022962112514351322 and the median is: 0.0\n"
     ]
    },
    {
     "data": {
      "image/png": "[encoded data removed]",
      "text/plain": [
       "<Figure size 432x288 with 1 Axes>"
      ]
     },
     "metadata": {
      "needs_background": "light"
     },
     "output_type": "display_data"
    }
   ],
   "source": [
    "f.Validate_Synthetic_DataSet(Kernel_Matrix, survival_times)"
   ]
  },
  {
   "cell_type": "code",
   "execution_count": 9,
   "metadata": {},
   "outputs": [
    {
     "data": {
      "text/plain": [
       "[<matplotlib.lines.Line2D at 0x11b1faf90>]"
      ]
     },
     "execution_count": 9,
     "metadata": {},
     "output_type": "execute_result"
    },
    {
     "data": {
      "image/png": "[encoded data removed]",
      "text/plain": [
       "<Figure size 432x288 with 1 Axes>"
      ]
     },
     "metadata": {
      "needs_background": "light"
     },
     "output_type": "display_data"
    }
   ],
   "source": [
    "NUM_TASKS = Y.shape[1]\n",
    "x_axis = np.arange(NUM_TASKS)+1\n",
    "y_train_gt_axis = np.zeros(NUM_TASKS)\n",
    "for i in range(NUM_TASKS):\n",
    "    y_train_gt_axis[i] = np.sum(survival_times[:NUM_TRAIN] == x_axis[i])\n",
    "plt.plot(x_axis, y_train_gt_axis)"
   ]
  },
  {
   "cell_type": "code",
   "execution_count": 10,
   "metadata": {},
   "outputs": [
    {
     "name": "stdout",
     "output_type": "stream",
     "text": [
      "197\n"
     ]
    }
   ],
   "source": [
    "print(NUM_TASKS)\n",
    "## DEL TOP 5%"
   ]
  },
  {
   "cell_type": "code",
   "execution_count": 11,
   "metadata": {
    "scrolled": false
   },
   "outputs": [
    {
     "name": "stdout",
     "output_type": "stream",
     "text": [
      "the iteration is: 500\n"
     ]
    },
    {
     "name": "stderr",
     "output_type": "stream",
     "text": [
      "/Users/menglvshi/opt/anaconda3/lib/python3.7/site-packages/numpy/core/fromnumeric.py:3257: RuntimeWarning: Mean of empty slice.\n",
      "  out=out, **kwargs)\n",
      "/Users/menglvshi/opt/anaconda3/lib/python3.7/site-packages/numpy/core/_methods.py:161: RuntimeWarning: invalid value encountered in double_scalars\n",
      "  ret = ret.dtype.type(ret / rcount)\n"
     ]
    },
    {
     "name": "stdout",
     "output_type": "stream",
     "text": [
      "the train accuracy is: 0.8504624929498026\n",
      "the val accuracy is: 0.7885279187817259\n",
      "2743 4869.0\n",
      "the c-index for val is: 0.563360032860957\n",
      "the iteration is: 1000\n",
      "the train accuracy is: 0.9106486181613085\n",
      "the val accuracy is: 0.7967005076142132\n",
      "2716 4869.0\n",
      "the c-index for val is: 0.5578147463544876\n",
      "the iteration is: 1500\n",
      "the train accuracy is: 0.9425549915397631\n",
      "the val accuracy is: 0.8034010152284264\n",
      "2748 4869.0\n",
      "the c-index for val is: 0.5643869377695625\n",
      "the iteration is: 2000\n",
      "the train accuracy is: 0.9573040045121264\n",
      "the val accuracy is: 0.8143147208121827\n",
      "2960 4869.0\n",
      "the c-index for val is: 0.6079277058944341\n",
      "the iteration is: 2500\n",
      "the train accuracy is: 0.9698477157360406\n",
      "the val accuracy is: 0.8018781725888325\n",
      "2895 4869.0\n",
      "the c-index for val is: 0.5945779420825632\n",
      "the iteration is: 3000\n",
      "the train accuracy is: 0.9805019740552735\n",
      "the val accuracy is: 0.8112182741116751\n",
      "2927 4869.0\n",
      "the c-index for val is: 0.6011501334976381\n",
      "the iteration is: 3500\n",
      "the train accuracy is: 0.9857473209249858\n",
      "the val accuracy is: 0.8092893401015229\n",
      "2819 4869.0\n",
      "the c-index for val is: 0.5789689874717601\n",
      "the iteration is: 4000\n",
      "the train accuracy is: 0.9893006204173717\n",
      "the val accuracy is: 0.81\n",
      "2847 4869.0\n",
      "the c-index for val is: 0.5847196549599507\n",
      "the iteration is: 4500\n",
      "the train accuracy is: 0.9920135363790186\n",
      "the val accuracy is: 0.8101015228426396\n",
      "2823 4869.0\n",
      "the c-index for val is: 0.5797905113986445\n",
      "the iteration is: 5000\n",
      "the train accuracy is: 0.9933840947546532\n",
      "the val accuracy is: 0.8080710659898477\n",
      "2814 4869.0\n",
      "the c-index for val is: 0.5779420825631546\n",
      "the iteration is: 5500\n",
      "the train accuracy is: 0.99443880428652\n",
      "the val accuracy is: 0.8098477157360406\n",
      "2775 4869.0\n",
      "the c-index for val is: 0.5699322242760321\n",
      "the iteration is: 6000\n",
      "the train accuracy is: 0.995668358714044\n",
      "the val accuracy is: 0.8060406091370559\n",
      "2782 4869.0\n",
      "the c-index for val is: 0.5713698911480797\n",
      "the iteration is: 6500\n",
      "the train accuracy is: 0.9964241398759165\n",
      "the val accuracy is: 0.8083756345177665\n",
      "2757 4869.0\n",
      "the c-index for val is: 0.5662353666050524\n",
      "the iteration is: 7000\n",
      "the train accuracy is: 0.997366046249295\n",
      "the val accuracy is: 0.8077157360406091\n",
      "2739 4869.0\n",
      "the c-index for val is: 0.5625385089340728\n",
      "the iteration is: 7500\n",
      "the train accuracy is: 0.9976142131979695\n",
      "the val accuracy is: 0.8094416243654823\n",
      "2795 4869.0\n",
      "the c-index for val is: 0.5740398439104539\n",
      "the iteration is: 8000\n",
      "the train accuracy is: 0.9976367738296672\n",
      "the val accuracy is: 0.8107106598984771\n",
      "2807 4869.0\n",
      "the c-index for val is: 0.576504415691107\n",
      "the iteration is: 8500\n",
      "the train accuracy is: 0.9978398195149464\n",
      "the val accuracy is: 0.8111675126903554\n",
      "2757 4869.0\n",
      "the c-index for val is: 0.5662353666050524\n",
      "the iteration is: 9000\n",
      "the train accuracy is: 0.998127467569092\n",
      "the val accuracy is: 0.8124365482233502\n",
      "2797 4869.0\n",
      "the c-index for val is: 0.5744506058738961\n",
      "the iteration is: 9500\n",
      "the train accuracy is: 0.9986407219402144\n",
      "the val accuracy is: 0.8124365482233502\n",
      "2755 4869.0\n",
      "the c-index for val is: 0.5658246046416102\n",
      "the iteration is: 10000\n",
      "the train accuracy is: 0.998448956570784\n",
      "the val accuracy is: 0.8119289340101523\n",
      "2750 4869.0\n",
      "the c-index for val is: 0.5647976997330048\n",
      "the iteration is: 10500\n",
      "the train accuracy is: 0.9984715172024816\n",
      "the val accuracy is: 0.8116243654822335\n",
      "2707 4869.0\n",
      "the c-index for val is: 0.5559663175189977\n",
      "the iteration is: 11000\n",
      "the train accuracy is: 0.9987084038353073\n",
      "the val accuracy is: 0.8123857868020304\n",
      "2729 4869.0\n",
      "the c-index for val is: 0.5604846991168618\n",
      "the iteration is: 11500\n",
      "the train accuracy is: 0.998730964467005\n",
      "the val accuracy is: 0.8120812182741117\n",
      "2714 4869.0\n",
      "the c-index for val is: 0.5574039843910454\n",
      "the iteration is: 12000\n",
      "the train accuracy is: 0.9988212069937958\n",
      "the val accuracy is: 0.8121319796954315\n",
      "2725 4869.0\n",
      "the c-index for val is: 0.5596631751899774\n",
      "the iteration is: 12500\n",
      "the train accuracy is: 0.9986745628877609\n",
      "the val accuracy is: 0.8125888324873096\n",
      "2712 4869.0\n",
      "the c-index for val is: 0.5569932224276032\n",
      "the iteration is: 13000\n",
      "the train accuracy is: 0.9988212069937958\n",
      "the val accuracy is: 0.812741116751269\n",
      "2758 4869.0\n",
      "the c-index for val is: 0.5664407475867734\n",
      "the iteration is: 13500\n",
      "the train accuracy is: 0.9989734912577553\n",
      "the val accuracy is: 0.8135532994923858\n",
      "2744 4869.0\n",
      "the c-index for val is: 0.5635654138426782\n",
      "the iteration is: 14000\n",
      "the train accuracy is: 0.9988888888888889\n",
      "the val accuracy is: 0.8138578680203046\n",
      "2751 4869.0\n",
      "the c-index for val is: 0.5650030807147258\n",
      "the iteration is: 14500\n",
      "the train accuracy is: 0.9991652566271856\n",
      "the val accuracy is: 0.8141116751269035\n",
      "2735 4869.0\n",
      "the c-index for val is: 0.5617169850071884\n",
      "the iteration is: 15000\n",
      "the train accuracy is: 0.9993513818386914\n",
      "the val accuracy is: 0.8135532994923858\n",
      "2725 4869.0\n",
      "the c-index for val is: 0.5596631751899774\n"
     ]
    }
   ],
   "source": [
    "alpha = np.zeros_like(Y_train)\n",
    "beta = np.zeros((NUM_TRAIN,NUM_TASKS,NUM_TASKS))\n",
    "for t in range(1, max_iteration + 1):\n",
    "    alpha, beta = f.new_C2(Kernel_Matrix_Train, Y_train, alpha, beta, 1, t, weight_decay)\n",
    "    \n",
    "    if t%500 == 0: \n",
    "        print(\"the iteration is:\", t)\n",
    "        hatY_train = Kernel_Matrix_Train.dot(alpha*Y_train) \n",
    "        for i in range(NUM_TRAIN):\n",
    "            hstack_M_K_i = Kernel_Matrix_Train[i].repeat(NUM_TASKS).reshape(NUM_TRAIN, NUM_TASKS)\n",
    "            hatY_train += hstack_M_K_i.dot(beta[i, :, :])\n",
    "        hatY_train /= ( t * weight_decay )\n",
    "        \n",
    "        hatY_val =  Kernel_Matrix_Val.dot(alpha*Y_train) \n",
    "        for i in range(NUM_TRAIN):\n",
    "            hstack_M_K_i = Kernel_Matrix_Val[:,i].repeat(NUM_TASKS).reshape(NUM_VAL, NUM_TASKS)\n",
    "            hatY_val += hstack_M_K_i.dot(beta[i, :, :])\n",
    "        hatY_val /= ( t * weight_decay )\n",
    "        \n",
    "        predict_age_tr = f.Weighted_Ages(hatY_train)\n",
    "        predict_age_val = f.Weighted_Ages(hatY_val)\n",
    "        predict_age = predict_age_tr + predict_age_val\n",
    "            \n",
    "        acc_train = np.sum(Y_train * hatY_train > 0) / (NUM_TRAIN * NUM_TASKS)\n",
    "        acc_val = np.sum(Y_val * hatY_val > 0) / (NUM_VAL * NUM_TASKS)\n",
    "        print(\"the train accuracy is:\", acc_train)\n",
    "        print(\"the val accuracy is:\", acc_val)\n",
    "        \n",
    "        # C_index_tr = f.Calculate_C_index(survival_times[:NUM_TRAIN], predict_age_tr)\n",
    "        C_index_val = f.Calculate_C_index(survival_times[NUM_TRAIN:], predict_age_val)\n",
    "         \n",
    "        # print(\"the c-index for training is:\", C_index_tr)xx\n",
    "        print(\"the c-index for val is:\", C_index_val)"
   ]
  },
  {
   "cell_type": "code",
   "execution_count": 12,
   "metadata": {},
   "outputs": [
    {
     "data": {
      "text/plain": [
       "[<matplotlib.lines.Line2D at 0x12c509fd0>]"
      ]
     },
     "execution_count": 12,
     "metadata": {},
     "output_type": "execute_result"
    },
    {
     "data": {
      "image/png": "[encoded data removed]",
      "text/plain": [
       "<Figure size 432x288 with 2 Axes>"
      ]
     },
     "metadata": {
      "needs_background": "light"
     },
     "output_type": "display_data"
    }
   ],
   "source": [
    "x_axis = np.arange(NUM_TASKS)+1 # the x axis\n",
    "y_train_gt_axis = np.zeros(NUM_TASKS) # the ground truth train axis\n",
    "y_val_gt_axis = np.zeros(NUM_TASKS) # the groud truth validation axis \n",
    "y_train_predict_axis = np.zeros(NUM_TASKS) # the predict train axis \n",
    "y_val_predict_axis = np.zeros(NUM_TASKS) # the predict validation axis \n",
    "\n",
    "for i in range(NUM_TASKS):\n",
    "    y_train_gt_axis[i] = np.sum(survival_times[:NUM_TRAIN] == x_axis[i])\n",
    "    y_val_gt_axis[i] = np.sum(survival_times[NUM_TRAIN:] == x_axis[i])\n",
    "    y_train_predict_axis[i] = np.sum(predict_age[:NUM_TRAIN] == x_axis[i])\n",
    "    y_val_predict_axis[i] = np.sum(predict_age[NUM_TRAIN:] == x_axis[i])\n",
    "# plt.plot(x_axis, y_train_gt_axis, x_axis, y_train_predict_axis) # the training set: ground truth vs predict situation\n",
    "# plt.plot(x_axis, y_val_gt_axis, x_axis, y_val_predict_axis) # the valiadtion set: ground truth vs predictsituation\n",
    "plt.subplot(211)\n",
    "plt.plot(x_axis, y_val_gt_axis)\n",
    "plt.subplot(212)\n",
    "plt.plot(x_axis, y_val_predict_axis)\n",
    "# plt.plot(x_axis,y_train_predict_axis,y_val_predict_axis)"
   ]
  },
  {
   "cell_type": "code",
   "execution_count": 13,
   "metadata": {},
   "outputs": [
    {
     "name": "stdout",
     "output_type": "stream",
     "text": [
      "[95.57391304347826, 7.0, 5.0, 48.516129032258064, 44.89247311827957, 76.453125, 80.0, 37.02824858757062, 111.0, 43.98051948051948, 57.57615894039735, 73.78225806451613, 107.0, 67.3975155279503, 61.0, 64.0, 5.0, 75.95428571428572, 33.67058823529412, 50.0, 49.38461538461539, 34.75, 27.0, 33.87951807228916, 24.0, 48.56, 16.752688172043012, 111.23595505617978, 52.04494382022472, 73.64, 13.0, 23.705263157894738, 40.0, 61.0, 61.0, 174.0, 42.0, 7.0, 89.98148148148148, 94.0, 71.87786259541984, 100.07692307692308, 21.0, 1.0, 32.130434782608695, 32.56544502617801, 63.44827586206897, 56.65217391304348, 93.0, 5.0, 36.047904191616766, 26.94736842105263, 23.0, 53.0, 63.96268656716418, 10.0, 10.97860962566845, 38.90683229813665, 52.712574850299404, 66.9877300613497, 72.54838709677419, 60.8705035971223, 28.0, 17.805405405405406, 21.774193548387096, 17.0, 67.66666666666667, 103.0, 65.0, 28.0, 12.989189189189188, 67.25925925925925, 70.0, 33.19101123595506, 57.172413793103445, 40.61490683229814, 67.06206896551724, 39.90506329113924, 2.0, 84.36283185840708, 57.05681818181818, 123.0, 10.96808510638298, 52.0, 126.88, 8.0, 70.42748091603053, 67.39634146341463, 19.494565217391305, 59.0, 38.666666666666664, 67.59602649006622, 44.0, 45.69662921348315, 13.0, 126.29577464788733, 41.76190476190476, 11.0, 54.59036144578313, 6.0]\n",
      "[  2.  11.   3.  58.  11.  25. 102.  16.  23. 142.   3. 149.  98.  14.\n",
      "  55.  74.   5.  87.  47.  18.  18.   9.  12.  17.  29. 165. 197.   3.\n",
      " 101.  81.  34.   1.  22.  47. 115.  54. 114.  23.  43.   7.  11.  55.\n",
      "   1.  38.  19.  11.  48.   6.  46.  64.  30.   3.  34.  32.   2.   8.\n",
      "  52.  18.  75.  41.   9.  88.  15.  33.   3.  14.   2.  78.   4.  15.\n",
      "  86.  67.  97.  28.  15. 180.   3. 102.   9.  83.  21. 120.  40.  11.\n",
      "  10.  25.  34.  70.  11.  69.   2.   2.  49.  34.   3.   9.  55.  15.\n",
      "   9.  28.]\n",
      "62\n",
      "37\n",
      "1\n"
     ]
    }
   ],
   "source": [
    "print(predict_age[NUM_TRAIN:])\n",
    "print(survival_times[NUM_TRAIN:])\n",
    "print(np.sum(predict_age[NUM_TRAIN:] > survival_times[NUM_TRAIN:]))\n",
    "print(np.sum(predict_age[NUM_TRAIN:] < survival_times[NUM_TRAIN:]))\n",
    "print(np.sum(predict_age[NUM_TRAIN:] == survival_times[NUM_TRAIN:]))"
   ]
  },
  {
   "cell_type": "code",
   "execution_count": 14,
   "metadata": {},
   "outputs": [],
   "source": [
    "hatY_train =  Kernel_Matrix_Train.dot(alpha*Y_train) / (max_iteration * weight_decay )"
   ]
  },
  {
   "cell_type": "code",
   "execution_count": 15,
   "metadata": {},
   "outputs": [],
   "source": [
    "hatY_val =  Kernel_Matrix_Val.dot(alpha*Y_train) / (max_iteration * weight_decay )"
   ]
  },
  {
   "cell_type": "code",
   "execution_count": 16,
   "metadata": {},
   "outputs": [],
   "source": [
    "hatY_val =  Kernel_Matrix_Val.dot(alpha*Y_train) \n",
    "for i in range(NUM_TRAIN):\n",
    "    hstack_M_K_i = Kernel_Matrix_Val[:,i].repeat(NUM_TASKS).reshape(NUM_VAL, NUM_TASKS)\n",
    "    hatY_val += hstack_M_K_i.dot(beta[i, :, :])\n",
    "hatY_val /= ( max_iteration * weight_decay )\n"
   ]
  },
  {
   "cell_type": "code",
   "execution_count": 17,
   "metadata": {},
   "outputs": [
    {
     "ename": "ValueError",
     "evalue": "operands could not be broadcast together with shapes (100,197) (900,197) (100,197) ",
     "output_type": "error",
     "traceback": [
      "\u001b[0;31m---------------------------------------------------------------------------\u001b[0m",
      "\u001b[0;31mValueError\u001b[0m                                Traceback (most recent call last)",
      "\u001b[0;32m<ipython-input-17-f883637df4b4>\u001b[0m in \u001b[0;36m<module>\u001b[0;34m\u001b[0m\n\u001b[1;32m      2\u001b[0m \u001b[0;32mfor\u001b[0m \u001b[0mi\u001b[0m \u001b[0;32min\u001b[0m \u001b[0mrange\u001b[0m\u001b[0;34m(\u001b[0m\u001b[0mNUM_TRAIN\u001b[0m\u001b[0;34m)\u001b[0m\u001b[0;34m:\u001b[0m\u001b[0;34m\u001b[0m\u001b[0;34m\u001b[0m\u001b[0m\n\u001b[1;32m      3\u001b[0m     \u001b[0mhstack_M_K_i\u001b[0m \u001b[0;34m=\u001b[0m \u001b[0mKernel_Matrix_Train\u001b[0m\u001b[0;34m[\u001b[0m\u001b[0;34m:\u001b[0m\u001b[0;34m,\u001b[0m\u001b[0mi\u001b[0m\u001b[0;34m]\u001b[0m\u001b[0;34m.\u001b[0m\u001b[0mrepeat\u001b[0m\u001b[0;34m(\u001b[0m\u001b[0mNUM_TASKS\u001b[0m\u001b[0;34m)\u001b[0m\u001b[0;34m.\u001b[0m\u001b[0mreshape\u001b[0m\u001b[0;34m(\u001b[0m\u001b[0mNUM_TRAIN\u001b[0m\u001b[0;34m,\u001b[0m \u001b[0mNUM_TASKS\u001b[0m\u001b[0;34m)\u001b[0m\u001b[0;34m\u001b[0m\u001b[0;34m\u001b[0m\u001b[0m\n\u001b[0;32m----> 4\u001b[0;31m     \u001b[0mhatY_val\u001b[0m \u001b[0;34m+=\u001b[0m \u001b[0mhstack_M_K_i\u001b[0m\u001b[0;34m.\u001b[0m\u001b[0mdot\u001b[0m\u001b[0;34m(\u001b[0m\u001b[0mbeta\u001b[0m\u001b[0;34m[\u001b[0m\u001b[0mi\u001b[0m\u001b[0;34m,\u001b[0m \u001b[0;34m:\u001b[0m\u001b[0;34m,\u001b[0m \u001b[0;34m:\u001b[0m\u001b[0;34m]\u001b[0m\u001b[0;34m)\u001b[0m\u001b[0;34m\u001b[0m\u001b[0;34m\u001b[0m\u001b[0m\n\u001b[0m\u001b[1;32m      5\u001b[0m \u001b[0mhatY_val\u001b[0m \u001b[0;34m/=\u001b[0m \u001b[0;34m(\u001b[0m \u001b[0mmax_iteration\u001b[0m \u001b[0;34m*\u001b[0m \u001b[0mweight_decay\u001b[0m \u001b[0;34m)\u001b[0m\u001b[0;34m\u001b[0m\u001b[0;34m\u001b[0m\u001b[0m\n\u001b[1;32m      6\u001b[0m \u001b[0;34m\u001b[0m\u001b[0m\n",
      "\u001b[0;31mValueError\u001b[0m: operands could not be broadcast together with shapes (100,197) (900,197) (100,197) "
     ]
    }
   ],
   "source": [
    "hatY_train =  Kernel_Matrix_Train.dot(alpha*Y_train) \n",
    "for i in range(NUM_TRAIN):\n",
    "    hstack_M_K_i = Kernel_Matrix_Train[:,i].repeat(NUM_TASKS).reshape(NUM_TRAIN, NUM_TASKS)\n",
    "    hatY_val += hstack_M_K_i.dot(beta[i, :, :])\n",
    "hatY_val /= ( max_iteration * weight_decay )\n",
    "\n"
   ]
  },
  {
   "cell_type": "code",
   "execution_count": null,
   "metadata": {
    "scrolled": true
   },
   "outputs": [],
   "source": [
    "violate = 0\n",
    "for i in range(NUM_TRAIN):\n",
    "    if np.argwhere(hatY_train[i] < 0) != []:\n",
    "        minus_list = np.argwhere(hatY_train[i] < 0)\n",
    "        first_minus = minus_list[0]\n",
    "        after_pos_list = np.argwhere(hatY_train[i, first_minus:] > 0)\n",
    "        # print(after_pos_list)\n",
    "        if len(after_pos_list):\n",
    "            # print(after_pos_list)\n",
    "            violate += 1\n",
    "\n",
    "print(violate)\n",
    "print(NUM_TRAIN)\n",
    "# print(survival_times[-NUM_VAL])"
   ]
  },
  {
   "cell_type": "code",
   "execution_count": null,
   "metadata": {},
   "outputs": [],
   "source": [
    "violate = 0\n",
    "for i in range(NUM_VAL):\n",
    "    if np.argwhere(hatY_val[i] < 0) != []:\n",
    "        minus_list = np.argwhere(hatY_val[i] < 0)\n",
    "        first_minus = minus_list[0]\n",
    "        after_pos_list = np.argwhere(hatY_val[i, first_minus:] > 0)\n",
    "        if len(after_pos_list):\n",
    "            # print(after_pos_list)\n",
    "            violate += 1\n",
    "\n",
    "print(violate)\n",
    "print(NUM_VAL)\n",
    "# print(survival_times[-NUM_VAL])\n"
   ]
  },
  {
   "cell_type": "code",
   "execution_count": null,
   "metadata": {},
   "outputs": [],
   "source": [
    "print(hatY_val)"
   ]
  },
  {
   "cell_type": "code",
   "execution_count": null,
   "metadata": {},
   "outputs": [],
   "source": [
    "validation_age = predict_age[NUM_TRAIN:]\n",
    "tr_age = predict_age[:NUM_TRAIN]\n",
    "train_vs_validation_samples = Kernel_Matrix[:NUM_TRAIN,NUM_TRAIN:]\n",
    "train_vs_train_samples = Kernel_Matrix_Train\n",
    "train_id = 11\n",
    "plt.xlim(0,1)\n",
    "age_gap_list = np.zeros(100)\n",
    "num_list = np.zeros(100)\n",
    "for i in range(NUM_TRAIN):\n",
    "    for j in range(NUM_VAL):\n",
    "        interval_id = np.int(np.floor((train_vs_validation_samples[i,j] / 0.01)))\n",
    "        age_gap = abs(validation_age[j] - tr_age[i])\n",
    "        age_gap_list[interval_id] += age_gap\n",
    "        num_list += 1\n",
    "avg_age_gap_list = age_gap_list/num_list\n",
    "plt.plot(np.linspace(0,1, num = 100),avg_age_gap_list)\n",
    "# plt.scatter(np.linspace(0,1, num = 100), avg_age_gap_list)\n",
    "# plt.scatter(train_vs_train_samples[train_id],abs(tr_age-survival_times[train_id]))\n",
    "# plt.scatter(train_vs_validation_samples[train_id], abs(validation_age-survival_times[train_id]))\n",
    "# print(train_vs_validation_samples[train_id])"
   ]
  },
  {
   "cell_type": "code",
   "execution_count": null,
   "metadata": {},
   "outputs": [],
   "source": []
  }
 ],
 "metadata": {
  "kernelspec": {
   "display_name": "Python 3",
   "language": "python",
   "name": "python3"
  },
  "language_info": {
   "codemirror_mode": {
    "name": "ipython",
    "version": 3
   },
   "file_extension": ".py",
   "mimetype": "text/x-python",
   "name": "python",
   "nbconvert_exporter": "python",
   "pygments_lexer": "ipython3",
   "version": "3.7.4"
  }
 },
 "nbformat": 4,
 "nbformat_minor": 2
}
