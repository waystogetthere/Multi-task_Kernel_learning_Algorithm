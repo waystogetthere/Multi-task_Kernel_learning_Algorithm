{
 "cells": [
  {
   "cell_type": "code",
   "execution_count": 16,
   "metadata": {},
   "outputs": [],
   "source": [
    "import numpy as np\n",
    "import matplotlib.pyplot as plt"
   ]
  },
  {
   "cell_type": "markdown",
   "metadata": {},
   "source": [
    "Hyper parameter"
   ]
  },
  {
   "cell_type": "code",
   "execution_count": 17,
   "metadata": {},
   "outputs": [],
   "source": [
    "max_iteration = 10000\n",
    "weight_decay = 0.01\n",
    "NUM_EMPLOYEES = 500\n",
    "Upsilon_1 = 0.01\n",
    "Upsilon_2 = 0.01\n",
    "NUM_FEATURES = 10\n",
    "BANDWIDTH = 100"
   ]
  },
  {
   "cell_type": "markdown",
   "metadata": {},
   "source": [
    "Define the Training Set, the Life-Time Matrix and Gaussian Kernel."
   ]
  },
  {
   "cell_type": "code",
   "execution_count": 18,
   "metadata": {},
   "outputs": [],
   "source": [
    "X = np.random.normal(loc=0.0, scale=10.0, size=(NUM_EMPLOYEES, NUM_FEATURES)) # the training set\n",
    "\n",
    "survival_times = np.zeros(NUM_EMPLOYEES) # the surivial time of each employees\n",
    "for i in range(NUM_EMPLOYEES):\n",
    "    age = np.random.exponential(np.sum(Upsilon_1 * X[i,:]**2)+np.sum(Upsilon_2 * X[i,:]), size=1)\n",
    "    survival_times[i] = np.ceil(age)\n",
    "\n",
    "\n",
    "Y = np.ones((NUM_EMPLOYEES, int(max(survival_times)))) # the lifetime matrix of all employees\n",
    "for i in range(NUM_EMPLOYEES):\n",
    "    Y[i, int(survival_times[i])-1:] = -1\n",
    "\n",
    "square = np.sum(X ** 2, axis=1)\n",
    "column_vec = square[:, np.newaxis]\n",
    "row_vec = square[np.newaxis, :]\n",
    "Gaussian_Kernel = np.exp(-1 * (-2 * X.dot(X.T) + column_vec + row_vec) / (2 * BANDWIDTH ** 2)) # the Gaussian Kernel "
   ]
  },
  {
   "cell_type": "code",
   "execution_count": 19,
   "metadata": {},
   "outputs": [
    {
     "name": "stdout",
     "output_type": "stream",
     "text": [
      "(500, 99)\n"
     ]
    }
   ],
   "source": [
    "print(Y.shape)\n",
    "# print(Gaussian_Kernel[0,:])\n",
    "maximum_ob_time = Y.shape[1]\n",
    "# print(maximum_ob_time)"
   ]
  },
  {
   "cell_type": "code",
   "execution_count": null,
   "metadata": {},
   "outputs": [],
   "source": []
  },
  {
   "cell_type": "markdown",
   "metadata": {},
   "source": [
    "The Stochastic sub-Gradient Descent is shown below"
   ]
  },
  {
   "cell_type": "code",
   "execution_count": 15,
   "metadata": {},
   "outputs": [
    {
     "name": "stdout",
     "output_type": "stream",
     "text": [
      "(500, 90, 90)\n",
      "the iteration is: 0\n",
      "the accuracy is: 0.9110666666666667\n",
      "the c-index is, 0.0\n",
      "the iteration is: 2000\n",
      "the accuracy is: 0.5325333333333333\n",
      "the c-index is, 0.2992945891783567\n",
      "the iteration is: 4000\n",
      "the accuracy is: 0.5984222222222222\n",
      "the c-index is, 0.33972745490981965\n",
      "the iteration is: 6000\n",
      "the accuracy is: 0.5112444444444444\n",
      "the c-index is, 0.09812424849699398\n",
      "the iteration is: 8000\n",
      "the accuracy is: 0.5159555555555555\n",
      "the c-index is, 0.030292585170340683\n",
      "the iteration is: 10000\n",
      "the accuracy is: 0.5516\n",
      "the c-index is, 0.2542364729458918\n",
      "the iteration is: 12000\n",
      "the accuracy is: 0.5509555555555555\n",
      "the c-index is, 0.28312625250501\n",
      "the iteration is: 14000\n",
      "the accuracy is: 0.5709555555555555\n",
      "the c-index is, 0.22004008016032064\n",
      "the iteration is: 16000\n",
      "the accuracy is: 0.6886222222222222\n",
      "the c-index is, 0.3473426853707415\n",
      "the iteration is: 18000\n",
      "the accuracy is: 0.5685777777777777\n",
      "the c-index is, 0.3119759519038076\n",
      "[42. 42. 41. 42. 41. 42. 41. 42. 42. 42. 42. 42. 42. 41. 42. 42. 41. 41.\n",
      " 41. 40. 42. 41. 41. 41. 41. 41. 41. 42. 41. 41. 42. 42. 42. 42. 42. 42.\n",
      " 41. 41. 41. 42. 41. 42. 41. 40. 40. 42. 41. 42. 40. 41. 41. 42. 42. 41.\n",
      " 42. 42. 41. 42. 41. 41. 42. 41. 42. 42. 42. 42. 40. 41. 42. 42. 42. 42.\n",
      " 40. 41. 41. 41. 42. 42. 42. 40. 42. 41. 41. 42. 42. 42. 41. 41. 42. 41.\n",
      " 40. 42. 41. 41. 42. 40. 42. 42. 41. 41. 41. 41. 41. 42. 42. 42. 40. 41.\n",
      " 41. 41. 42. 41. 40. 42. 42. 42. 42. 41. 42. 41. 41. 41. 41. 41. 42. 41.\n",
      " 41. 41. 40. 42. 41. 41. 41. 41. 41. 42. 41. 42. 42. 41. 41. 41. 41. 41.\n",
      " 42. 42. 41. 42. 42. 40. 42. 41. 42. 42. 41. 42. 41. 41. 42. 40. 41. 40.\n",
      " 41. 41. 42. 42. 41. 42. 41. 42. 40. 41. 42. 41. 42. 41. 41. 40. 41. 41.\n",
      " 41. 42. 42. 41. 42. 40. 40. 41. 42. 40. 41. 42. 42. 41. 42. 42. 40. 41.\n",
      " 39. 42. 41. 40. 42. 41. 41. 41. 41. 41. 42. 42. 41. 41. 42. 42. 41. 42.\n",
      " 41. 42. 41. 41. 41. 41. 42. 41. 42. 42. 40. 41. 40. 41. 42. 41. 40. 40.\n",
      " 42. 42. 42. 40. 42. 42. 42. 41. 41. 42. 42. 42. 42. 40. 42. 42. 42. 41.\n",
      " 41. 42. 40. 40. 42. 40. 40. 42. 41. 41. 42. 40. 42. 42. 41. 41. 42. 41.\n",
      " 41. 41. 41. 41. 40. 42. 41. 41. 42. 41. 41. 42. 41. 42. 40. 41. 42. 41.\n",
      " 41. 42. 42. 41. 41. 42. 42. 40. 41. 42. 42. 42. 41. 42. 41. 40. 42. 42.\n",
      " 41. 42. 41. 42. 41. 42. 41. 41. 42. 42. 42. 41. 42. 41. 42. 42. 42. 42.\n",
      " 41. 41. 41. 42. 42. 42. 39. 42. 40. 42. 42. 42. 42. 41. 40. 41. 41. 42.\n",
      " 42. 42. 40. 42. 41. 41. 42. 41. 42. 41. 42. 41. 42. 41. 41. 42. 41. 41.\n",
      " 40. 42. 42. 41. 41. 41. 41. 41. 40. 41. 41. 40. 42. 42. 41. 41. 40. 40.\n",
      " 41. 41. 42. 41. 42. 40. 42. 40. 41. 41. 41. 41. 42. 41. 42. 41. 41. 42.\n",
      " 41. 42. 41. 42. 41. 42. 41. 42. 40. 42. 41. 40. 42. 41. 41. 42. 42. 42.\n",
      " 42. 41. 42. 42. 41. 42. 41. 42. 41. 42. 42. 41. 41. 41. 41. 41. 41. 42.\n",
      " 41. 41. 42. 41. 42. 42. 42. 41. 42. 41. 42. 42. 41. 40. 42. 41. 41. 41.\n",
      " 41. 42. 42. 39. 41. 40. 41. 41. 42. 41. 41. 41. 42. 41. 41. 42. 42. 42.\n",
      " 41. 42. 42. 41. 42. 41. 41. 41. 41. 42. 40. 41. 40. 41. 42. 40. 42. 42.\n",
      " 41. 41. 41. 41. 42. 41. 41. 42. 42. 39. 41. 41. 42. 42.]\n",
      "[13.  2. 20. 90.  5. 72.  1.  2. 10.  4.  1.  4. 22.  1.  8.  5.  6.  2.\n",
      " 49.  8. 30. 10. 18.  1. 11.  4. 10.  6.  6.  2. 10.  5. 10.  1. 14. 26.\n",
      "  7. 36. 13.  5. 25.  2.  3. 20.  5.  3.  2. 10. 16.  3.  8.  9.  3.  6.\n",
      "  4. 10. 19. 53. 14.  2. 15. 35. 10. 11.  3.  2. 15.  6. 23.  5.  2.  1.\n",
      " 19. 17. 10.  9.  8.  2. 21. 16.  4. 21. 24.  2. 12. 17.  2. 27. 15. 10.\n",
      "  5.  1.  7.  1.  1. 16.  9.  5.  4.  7.  6. 15. 11.  4. 17.  9.  6.  3.\n",
      "  3. 23. 13.  3. 16. 33.  7.  5.  8. 27.  2. 30.  2.  4.  1.  2.  5.  2.\n",
      " 14.  6.  7.  2.  4.  1.  3. 39. 11.  8.  9.  5. 22.  7. 31.  8.  3.  4.\n",
      "  3. 13. 12. 12. 14.  2. 22.  7. 18.  1.  6. 10. 14.  8. 32.  3.  9.  4.\n",
      "  2.  8. 10.  4.  2. 24. 16. 23. 10.  4. 10. 72.  1.  5.  6.  5. 17.  4.\n",
      "  3.  5. 18. 16.  6. 11.  6. 11. 26.  3.  7. 11. 23.  4.  1.  2.  7.  4.\n",
      "  8.  7.  2.  3.  6. 28.  1.  6.  5.  5. 10.  7. 16.  3. 10. 24.  5.  5.\n",
      "  2.  1.  3. 14.  1.  6. 24.  4. 13. 14. 10.  1. 39.  1.  1. 18.  2. 40.\n",
      " 17. 10. 15. 10.  9. 27.  7.  2. 44. 23.  9. 11. 15.  5. 16. 28. 11.  1.\n",
      "  4. 29. 37.  1. 15. 23.  1. 13.  8. 14.  3. 21.  6.  7.  7. 10.  3.  5.\n",
      " 26. 39.  5.  7. 19. 11.  7. 15.  3.  2.  5. 11. 14. 26.  2.  6. 16. 11.\n",
      "  2.  1.  1.  5. 25.  8. 42. 10. 19. 39.  6.  2. 14.  4.  3. 31. 13. 12.\n",
      "  3. 12.  5.  8.  7.  2.  6.  5.  8.  6. 13.  1.  3.  9. 67.  9.  7.  3.\n",
      "  3.  4. 12. 26. 13. 13.  4. 15.  4. 16. 14.  8. 11.  5.  1.  2. 16.  8.\n",
      " 15. 18.  1. 19.  1. 20. 19.  5.  7.  3.  8.  3.  9.  2. 22.  2.  3. 15.\n",
      "  2. 12. 17.  7.  6.  3.  3.  9. 14. 29. 11. 17.  3.  1.  3. 30. 10. 14.\n",
      "  2. 19.  8. 10. 19.  7. 17. 17.  1.  9. 11.  3. 63. 17. 14.  4.  3. 40.\n",
      " 20.  3.  6. 32.  2.  1. 19. 15.  2.  4.  3.  3. 33. 17.  4.  3. 26. 29.\n",
      "  9.  6.  8.  1. 16. 11. 11.  2.  8.  5.  3.  3.  7. 13.  5. 29.  2. 31.\n",
      " 24. 10.  5. 10.  5.  5.  9.  1. 30. 13. 21.  3.  8.  4.  1.  9. 42.  1.\n",
      " 11.  5.  7.  4. 14.  1.  6. 26.  8.  4.  1.  1. 11. 16.  1.  1.  6. 21.\n",
      "  4.  5.  3.  4.  9.  4. 21.  3.  3. 12. 11.  9. 11. 15.  7.  4.  5.  1.\n",
      "  2.  9. 20.  2. 34. 18. 24.  9.  1.  2.  2. 19.  5. 14.]\n"
     ]
    },
    {
     "data": {
      "text/plain": [
       "[<matplotlib.lines.Line2D at 0x119e01390>,\n",
       " <matplotlib.lines.Line2D at 0x119e014e0>]"
      ]
     },
     "execution_count": 15,
     "metadata": {},
     "output_type": "execute_result"
    },
    {
     "data": {
      "image/png": "[encoded data removed]",
      "text/plain": [
       "<Figure size 432x288 with 1 Axes>"
      ]
     },
     "metadata": {},
     "output_type": "display_data"
    }
   ],
   "source": [
    "alpha = np.zeros_like(Y)\n",
    "beta = np.zeros((NUM_EMPLOYEES,maximum_ob_time,maximum_ob_time))\n",
    "\n",
    "print(beta.shape)\n",
    "max_iteration = 20000\n",
    "for t in range(max_iteration):\n",
    "    index = int(np.floor(np.random.rand()*NUM_EMPLOYEES))\n",
    "    haty_index = 0\n",
    "    haty_index += (Gaussian_Kernel[index,:][np.newaxis,:].dot(alpha * Y)).reshape(-1)\n",
    "    for i in range(NUM_EMPLOYEES):\n",
    "        haty_index += np.sum(Gaussian_Kernel[index,i] * beta[i,:,:], axis =1)\n",
    "    \n",
    "    haty_index /= (t+1) * weight_decay\n",
    "\n",
    "    ## update alpha\n",
    "\n",
    "    mask = Y[index,:]*haty_index < 1\n",
    "    alpha[index,] += mask\n",
    "\n",
    "    ##update beta \n",
    "    s = 0\n",
    "    e = np.argwhere(haty_index == np.max(haty_index))[-1][-1]\n",
    "    while (True):\n",
    "        for j in np.arange(e-1-s)+s:\n",
    "            beta[index,j,e] += 1\n",
    "        if e == maximum_ob_time - 1:\n",
    "            break\n",
    "        else:\n",
    "            s = e + 1\n",
    "            e +=  np.argwhere(haty_index[s:] == np.max(haty_index[s:]))[-1][-1]+1\n",
    "\n",
    "                \n",
    "    for j in range(maximum_ob_time):\n",
    "        beta[index,j,j] = (-1) * np.sum(beta[index,j,j+1:])\n",
    "    beta *= -1\n",
    "    if t%2000 == 0:\n",
    "        print(\"the iteration is:\", t)\n",
    "        #print(index)\n",
    "        # print(np.sum(haty_index * Y[index]>1)/maximum_ob_time)\n",
    "        hatY = np.zeros_like(Y)\n",
    "        hatY += Gaussian_Kernel.T.dot(alpha*Y)\n",
    "        for i in range(NUM_EMPLOYEES):\n",
    "            hatY+= (Gaussian_Kernel[i,:][:,np.newaxis]+np.zeros((NUM_EMPLOYEES,maximum_ob_time))).dot(beta[i,:,:])\n",
    "        hatY /= (t+1) * weight_decay\n",
    "        predict_age = np.zeros(NUM_EMPLOYEES)\n",
    "        for i in range(NUM_EMPLOYEES):\n",
    "            predict_age[i] = np.sum(hatY[i,:] > 0)+1\n",
    "        acc = np.sum(Y*hatY>0)/(NUM_EMPLOYEES *maximum_ob_time)\n",
    "        print(\"the accuracy is:\", acc)\n",
    "        useful_pair = 0\n",
    "        denominator = NUM_EMPLOYEES*(NUM_EMPLOYEES-1)/2\n",
    "        for i in range(NUM_EMPLOYEES):\n",
    "            for j in np.arange(NUM_EMPLOYEES-(i+1))+(i+1):\n",
    "                # print(i,j)\n",
    "                # print(survival_times[i],survival_times[j],predict_age[i],predict_age[j])\n",
    "                if (survival_times[i]-survival_times[j])*(predict_age[i]-predict_age[j])> 0:\n",
    "                    useful_pair += 1\n",
    "                if  survival_times[i]-survival_times[j] == 0:\n",
    "                    denominator -= 1\n",
    "        \n",
    "        c_index = useful_pair/ denominator\n",
    "        \n",
    "        c_index = useful_pair/(NUM_EMPLOYEES*(NUM_EMPLOYEES-1)/2)\n",
    "        print(\"the c-index is,\",c_index)\n",
    "        \n",
    "print(predict_age)\n",
    "print(survival_times)\n",
    "\n",
    "x_axis = np.arange(maximum_ob_time)\n",
    "y_axis = np.zeros(maximum_ob_time)\n",
    "y_predict_axis = np.zeros(maximum_ob_time)\n",
    "\n",
    "for i in range(maximum_ob_time):\n",
    "    y_axis[i] = np.sum(survival_times == x_axis[i])\n",
    "    y_predict_axis[i] = np.sum(predict_age == x_axis[i])\n",
    "plt.plot(x_axis, y_axis, y_predict_axis)"
   ]
  },
  {
   "cell_type": "code",
   "execution_count": 7,
   "metadata": {},
   "outputs": [
    {
     "name": "stdout",
     "output_type": "stream",
     "text": [
      "[[16. 16. 16. ...  0.  0.  0.]\n",
      " [ 0.  6. 10. ...  0.  0.  0.]\n",
      " [19. 19. 19. ...  0.  0.  0.]\n",
      " ...\n",
      " [ 1.  2.  2. ...  0.  0.  0.]\n",
      " [ 0.  0.  1. ...  0.  0.  0.]\n",
      " [11. 12. 12. ...  0.  0.  0.]]\n",
      "[[[-0.  0. -0. ...  0.  0.  0.]\n",
      "  [ 0. -0.  0. ...  0.  0.  0.]\n",
      "  [ 0.  0. -0. ...  0.  0.  0.]\n",
      "  ...\n",
      "  [ 0.  0.  0. ...  2.  0. -2.]\n",
      "  [ 0.  0.  0. ...  0. -0.  0.]\n",
      "  [ 0.  0.  0. ...  0.  0. -0.]]\n",
      "\n",
      " [[-2.  0.  1. ...  0.  0.  0.]\n",
      "  [ 0.  3.  0. ...  0.  0.  0.]\n",
      "  [ 0.  0.  2. ...  0.  0.  0.]\n",
      "  ...\n",
      "  [ 0.  0.  0. ... -3.  0.  3.]\n",
      "  [ 0.  0.  0. ...  0. -0.  0.]\n",
      "  [ 0.  0.  0. ...  0.  0. -0.]]\n",
      "\n",
      " [[-1.  0. -1. ...  0.  0.  0.]\n",
      "  [ 0. -1.  0. ...  0.  0.  0.]\n",
      "  [ 0.  0. -0. ...  0.  0.  0.]\n",
      "  ...\n",
      "  [ 0.  0.  0. ... -3.  0.  3.]\n",
      "  [ 0.  0.  0. ...  0. -0.  0.]\n",
      "  [ 0.  0.  0. ...  0.  0. -0.]]\n",
      "\n",
      " ...\n",
      "\n",
      " [[ 4.  0. -2. ...  0.  0.  0.]\n",
      "  [ 0.  5.  0. ...  0.  0.  0.]\n",
      "  [ 0.  0. -0. ...  0.  0.  0.]\n",
      "  ...\n",
      "  [ 0.  0.  0. ...  3.  0. -3.]\n",
      "  [ 0.  0.  0. ...  0. -0.  0.]\n",
      "  [ 0.  0.  0. ...  0.  0. -0.]]\n",
      "\n",
      " [[-0.  0.  0. ...  0.  0.  0.]\n",
      "  [ 0. -0.  0. ...  0.  0.  0.]\n",
      "  [ 0.  0. -0. ...  0.  0.  0.]\n",
      "  ...\n",
      "  [ 0.  0.  0. ...  2.  0. -2.]\n",
      "  [ 0.  0.  0. ...  0. -0.  0.]\n",
      "  [ 0.  0.  0. ...  0.  0. -0.]]\n",
      "\n",
      " [[ 2.  0.  0. ...  0.  0.  0.]\n",
      "  [ 0.  2.  0. ...  0.  0.  0.]\n",
      "  [ 0.  0.  0. ...  0.  0.  0.]\n",
      "  ...\n",
      "  [ 0.  0.  0. ...  2.  0. -2.]\n",
      "  [ 0.  0.  0. ...  0.  0.  0.]\n",
      "  [ 0.  0.  0. ...  0.  0.  0.]]]\n"
     ]
    }
   ],
   "source": [
    "print(alpha)\n",
    "print(beta)\n"
   ]
  },
  {
   "cell_type": "code",
   "execution_count": null,
   "metadata": {},
   "outputs": [],
   "source": []
  },
  {
   "cell_type": "code",
   "execution_count": null,
   "metadata": {},
   "outputs": [],
   "source": []
  }
 ],
 "metadata": {
  "kernelspec": {
   "display_name": "Python 3",
   "language": "python",
   "name": "python3"
  },
  "language_info": {
   "codemirror_mode": {
    "name": "ipython",
    "version": 3
   },
   "file_extension": ".py",
   "mimetype": "text/x-python",
   "name": "python",
   "nbconvert_exporter": "python",
   "pygments_lexer": "ipython3",
   "version": "3.6.8"
  }
 },
 "nbformat": 4,
 "nbformat_minor": 2
}
