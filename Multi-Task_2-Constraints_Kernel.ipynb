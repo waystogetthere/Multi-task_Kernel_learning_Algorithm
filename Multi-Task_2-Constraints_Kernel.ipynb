{
 "cells": [
  {
   "cell_type": "code",
   "execution_count": 1,
   "metadata": {},
   "outputs": [],
   "source": [
    "import numpy as np\n",
    "import matplotlib.pyplot as plt\n",
    "import time\n",
    "import numpy.linalg as LA\n",
    "import pandas as pd"
   ]
  },
  {
   "cell_type": "code",
   "execution_count": 2,
   "metadata": {},
   "outputs": [],
   "source": [
    "import Function as f"
   ]
  },
  {
   "cell_type": "code",
   "execution_count": 3,
   "metadata": {},
   "outputs": [
    {
     "name": "stdout",
     "output_type": "stream",
     "text": [
      "(1, 10)\n",
      "[4.333333333333333]\n"
     ]
    }
   ],
   "source": [
    "absdd = np.array([1,-1,-1,1,1,-1,-1,-1,1,-1])[:,np.newaxis].T\n",
    "print(absdd.shape)\n",
    "print(f.Weighted_Ages(absdd))"
   ]
  },
  {
   "cell_type": "code",
   "execution_count": 4,
   "metadata": {},
   "outputs": [],
   "source": [
    "np.random.seed(200)"
   ]
  },
  {
   "cell_type": "markdown",
   "metadata": {},
   "source": [
    "Hyper parameter"
   ]
  },
  {
   "cell_type": "code",
   "execution_count": 5,
   "metadata": {},
   "outputs": [],
   "source": [
    "max_iteration = 15000\n",
    "weight_decay = 1e-3\n",
    "Epsilons = [10,10]\n",
    "BANDWIDTH = 0.5"
   ]
  },
  {
   "cell_type": "code",
   "execution_count": 6,
   "metadata": {},
   "outputs": [
    {
     "name": "stdout",
     "output_type": "stream",
     "text": [
      "[ 2. 44.  8. ... 14. 63.  9.]\n"
     ]
    }
   ],
   "source": [
    "filename = \"5000(4500+500)3.csv\"\n",
    "(X, X_train, X_val), (Y, Y_train, Y_val), (survival_times)= f.read_files(filename)\n",
    "NUM_TRAIN = X_train.shape[0]\n",
    "NUM_VAL = X_val.shape[0]\n",
    "NUM_EMPLOYEES = X.shape[0]"
   ]
  },
  {
   "cell_type": "code",
   "execution_count": 7,
   "metadata": {},
   "outputs": [],
   "source": [
    "# Kernel_Matrix = f.Generating_Kernel(X, \"Gaussian_Kernel\", BW = BANDWIDTH)\n",
    "Kernel_Matrix = f.Generating_Kernel(X, \"Quick_Gaussian_Kernel\", BW = BANDWIDTH)\n",
    "Kernel_Matrix_Train = Kernel_Matrix[:NUM_TRAIN,:NUM_TRAIN]\n",
    "Kernel_Matrix_Val = Kernel_Matrix[NUM_TRAIN:,:NUM_TRAIN]"
   ]
  },
  {
   "cell_type": "markdown",
   "metadata": {},
   "source": [
    "The Stochastic sub-Gradient Descent is shown below"
   ]
  },
  {
   "cell_type": "code",
   "execution_count": 8,
   "metadata": {},
   "outputs": [
    {
     "name": "stdout",
     "output_type": "stream",
     "text": [
      "There are  22769680 pairs of samples of similarity between 0.0 and 0.1 which have an average age_gap  28.84359955871141 and the median is: 20.0\n",
      "There are  843328 pairs of samples of similarity between 0.1 and 0.2 which have an average age_gap  21.534778876071943 and the median is: 13.0\n",
      "There are  451924 pairs of samples of similarity between 0.2 and 0.3 which have an average age_gap  20.733025907010912 and the median is: 12.0\n",
      "There are  294474 pairs of samples of similarity between 0.3 and 0.4 which have an average age_gap  20.058742028158683 and the median is: 12.0\n",
      "There are  207262 pairs of samples of similarity between 0.4 and 0.5 which have an average age_gap  19.46592235913964 and the median is: 11.0\n",
      "There are  151454 pairs of samples of similarity between 0.5 and 0.6 which have an average age_gap  19.032221004397375 and the median is: 11.0\n",
      "There are  111980 pairs of samples of similarity between 0.6 and 0.7 which have an average age_gap  18.49301661010895 and the median is: 11.0\n",
      "There are  81622 pairs of samples of similarity between 0.7 and 0.8 which have an average age_gap  17.9051481218299 and the median is: 10.0\n",
      "There are  56144 pairs of samples of similarity between 0.8 and 0.9 which have an average age_gap  17.359326018808776 and the median is: 10.0\n",
      "There are  31569 pairs of samples of similarity between 0.9 and 1.0 which have an average age_gap  14.366435427159555 and the median is: 7.0\n"
     ]
    },
    {
     "data": {
      "image/png": "[encoded data removed]",
      "text/plain": [
       "<Figure size 432x288 with 1 Axes>"
      ]
     },
     "metadata": {
      "needs_background": "light"
     },
     "output_type": "display_data"
    }
   ],
   "source": [
    "f.Validate_Synthetic_DataSet(Kernel_Matrix, survival_times)"
   ]
  },
  {
   "cell_type": "code",
   "execution_count": 9,
   "metadata": {},
   "outputs": [
    {
     "data": {
      "text/plain": [
       "[<matplotlib.lines.Line2D at 0x120530ed0>]"
      ]
     },
     "execution_count": 9,
     "metadata": {},
     "output_type": "execute_result"
    },
    {
     "data": {
      "image/png": "[encoded data removed]",
      "text/plain": [
       "<Figure size 432x288 with 1 Axes>"
      ]
     },
     "metadata": {
      "needs_background": "light"
     },
     "output_type": "display_data"
    }
   ],
   "source": [
    "NUM_TASKS = Y.shape[1]\n",
    "x_axis = np.arange(NUM_TASKS)+1\n",
    "y_train_gt_axis = np.zeros(NUM_TASKS)\n",
    "for i in range(NUM_TASKS):\n",
    "    y_train_gt_axis[i] = np.sum(survival_times[:NUM_TRAIN] == x_axis[i])\n",
    "plt.plot(x_axis, y_train_gt_axis)"
   ]
  },
  {
   "cell_type": "code",
   "execution_count": 10,
   "metadata": {},
   "outputs": [
    {
     "name": "stdout",
     "output_type": "stream",
     "text": [
      "123\n"
     ]
    }
   ],
   "source": [
    "print(NUM_TASKS)\n",
    "## DEL TOP 5%"
   ]
  },
  {
   "cell_type": "code",
   "execution_count": null,
   "metadata": {
    "scrolled": true
   },
   "outputs": [
    {
     "name": "stdout",
     "output_type": "stream",
     "text": [
      "the iteration is: 500\n",
      "the train accuracy is: 0.857286359530262\n",
      "the val accuracy is: 0.8610243902439024\n",
      "82949 121380.0\n",
      "the c-index for val is: 0.6833827648706542\n",
      "the iteration is: 1000\n",
      "the train accuracy is: 0.8664697380307136\n",
      "the val accuracy is: 0.8644552845528455\n",
      "85328 121380.0\n",
      "the c-index for val is: 0.7029823694183556\n",
      "the iteration is: 1500\n",
      "the train accuracy is: 0.869286359530262\n",
      "the val accuracy is: 0.8671056910569106\n",
      "85748 121380.0\n",
      "the c-index for val is: 0.7064425770308124\n",
      "the iteration is: 2000\n",
      "the train accuracy is: 0.8693694670280037\n",
      "the val accuracy is: 0.8651544715447155\n",
      "86529 121380.0\n",
      "the c-index for val is: 0.7128769154720712\n",
      "the iteration is: 2500\n",
      "the train accuracy is: 0.871297199638663\n",
      "the val accuracy is: 0.8690243902439024\n",
      "87599 121380.0\n",
      "the c-index for val is: 0.7216922062942824\n",
      "the iteration is: 3000\n",
      "the train accuracy is: 0.871223125564589\n",
      "the val accuracy is: 0.8685853658536585\n",
      "87165 121380.0\n",
      "the c-index for val is: 0.7181166584280771\n",
      "the iteration is: 3500\n",
      "the train accuracy is: 0.872323396567299\n",
      "the val accuracy is: 0.8698536585365854\n",
      "87727 121380.0\n",
      "the c-index for val is: 0.7227467457571264\n",
      "the iteration is: 4000\n",
      "the train accuracy is: 0.8729810298102981\n",
      "the val accuracy is: 0.8673008130081301\n",
      "86571 121380.0\n",
      "the c-index for val is: 0.7132229362333169\n",
      "the iteration is: 4500\n",
      "the train accuracy is: 0.8730135501355013\n",
      "the val accuracy is: 0.8677560975609756\n",
      "86904 121380.0\n",
      "the c-index for val is: 0.7159663865546219\n",
      "the iteration is: 5000\n",
      "the train accuracy is: 0.8732610659439928\n",
      "the val accuracy is: 0.8667479674796748\n",
      "86902 121380.0\n",
      "the c-index for val is: 0.715949909375515\n"
     ]
    }
   ],
   "source": [
    "alpha = np.zeros_like(Y_train)\n",
    "beta = np.zeros((NUM_TRAIN,NUM_TASKS,NUM_TASKS))\n",
    "for t in range(1, max_iteration + 1):\n",
    "    alpha, beta = f.new_C2(Kernel_Matrix_Train, Y_train, alpha, beta, 1, t, weight_decay, checking = True)\n",
    "    \n",
    "    if t%500 == 0: \n",
    "        print(\"the iteration is:\", t)\n",
    "        hatY_train = Kernel_Matrix_Train.dot(alpha*Y_train) \n",
    "        for i in range(NUM_TRAIN):\n",
    "            hstack_M_K_i = Kernel_Matrix_Train[i].repeat(NUM_TASKS).reshape(NUM_TRAIN, NUM_TASKS)\n",
    "            hatY_train += hstack_M_K_i.dot(beta[i, :, :])\n",
    "        hatY_train /= ( t * weight_decay )\n",
    "        \n",
    "        hatY_val =  Kernel_Matrix_Val.dot(alpha*Y_train) \n",
    "        for i in range(NUM_TRAIN):\n",
    "            hstack_M_K_i = Kernel_Matrix_Val[:,i].repeat(NUM_TASKS).reshape(NUM_VAL, NUM_TASKS)\n",
    "            hatY_val += hstack_M_K_i.dot(beta[i, :, :])\n",
    "        hatY_val /= ( t * weight_decay )\n",
    "        \n",
    "        predict_age_tr = f.Weighted_Ages(hatY_train)\n",
    "        predict_age_val = f.Weighted_Ages(hatY_val)\n",
    "        # predict_age_tr0 = f.Ages(hatY_train)\n",
    "        # predict_age_val = f.Ages(hatY_val)\n",
    "        predict_age = predict_age_tr + predict_age_val\n",
    "            \n",
    "        acc_train = np.sum(Y_train * hatY_train > 0) / (NUM_TRAIN * NUM_TASKS)\n",
    "        acc_val = np.sum(Y_val * hatY_val > 0) / (NUM_VAL * NUM_TASKS)\n",
    "        print(\"the train accuracy is:\", acc_train)\n",
    "        print(\"the val accuracy is:\", acc_val)\n",
    "        \n",
    "        # C_index_tr = f.Calculate_C_index(survival_times[:NUM_TRAIN], predict_age_tr)\n",
    "        C_index_val = f.Calculate_C_index(survival_times[NUM_TRAIN:], predict_age_val)\n",
    "         \n",
    "        # print(\"the c-index for training is:\", C_index_tr)xx\n",
    "        print(\"the c-index for val is:\", C_index_val)"
   ]
  },
  {
   "cell_type": "code",
   "execution_count": null,
   "metadata": {},
   "outputs": [],
   "source": [
    "x_axis = np.arange(NUM_TASKS)+1 # the x axis\n",
    "y_train_gt_axis = np.zeros(NUM_TASKS) # the ground truth train axis\n",
    "y_val_gt_axis = np.zeros(NUM_TASKS) # the groud truth validation axis \n",
    "y_train_predict_axis = np.zeros(NUM_TASKS) # the predict train axis \n",
    "y_val_predict_axis = np.zeros(NUM_TASKS) # the predict validation axis \n",
    "\n",
    "for i in range(NUM_TASKS):\n",
    "    y_train_gt_axis[i] = np.sum(survival_times[:NUM_TRAIN] == x_axis[i])\n",
    "    y_val_gt_axis[i] = np.sum(survival_times[NUM_TRAIN:] == x_axis[i])\n",
    "    y_train_predict_axis[i] = np.sum(predict_age[:NUM_TRAIN] == x_axis[i])\n",
    "    y_val_predict_axis[i] = np.sum(predict_age[NUM_TRAIN:] == x_axis[i])\n",
    "plt.plot(x_axis, y_train_gt_axis, x_axis, y_train_predict_axis) # the training set: ground truth vs predict situation\n",
    "# plt.plot(x_axis, y_val_gt_axis, x_axis, y_val_predict_axis) # the valiadtion set: ground truth vs predictsituation\n",
    "plt.subplot(221)\n",
    "plt.plot(x_axis, y_val_gt_axis)\n",
    "plt.subplot(222)\n",
    "plt.plot(x_axis, y_val_predict_axis)\n",
    "plt.subplot(223)\n",
    "plt.plot(x_axis, y_train_gt_axis)\n",
    "plt.subplot(224)\n",
    "plt.plot(x_axis, y_train_predict_axis)\n",
    "# plt.plot(x_axis,y_train_predict_axis,y_val_predict_axis)"
   ]
  },
  {
   "cell_type": "code",
   "execution_count": null,
   "metadata": {},
   "outputs": [],
   "source": [
    "print(survival_times[NUM_TRAIN:])\n",
    "print(predict_age[NUM_TRAIN:])"
   ]
  },
  {
   "cell_type": "code",
   "execution_count": null,
   "metadata": {},
   "outputs": [],
   "source": [
    "print(predict_age[NUM_TRAIN:])\n",
    "print(survival_times[NUM_TRAIN:])\n",
    "print(np.sum(predict_age[NUM_TRAIN:] > survival_times[NUM_TRAIN:]))\n",
    "print(np.sum(predict_age[NUM_TRAIN:] < survival_times[NUM_TRAIN:]))\n",
    "print(np.sum(predict_age[NUM_TRAIN:] == survival_times[NUM_TRAIN:]))"
   ]
  },
  {
   "cell_type": "code",
   "execution_count": null,
   "metadata": {},
   "outputs": [],
   "source": [
    "hatY_train =  Kernel_Matrix_Train.dot(alpha*Y_train) / (max_iteration * weight_decay )"
   ]
  },
  {
   "cell_type": "code",
   "execution_count": null,
   "metadata": {},
   "outputs": [],
   "source": [
    "hatY_val =  Kernel_Matrix_Val.dot(alpha*Y_train) / (max_iteration * weight_decay )"
   ]
  },
  {
   "cell_type": "code",
   "execution_count": null,
   "metadata": {},
   "outputs": [],
   "source": [
    "hatY_val =  Kernel_Matrix_Val.dot(alpha*Y_train) \n",
    "for i in range(NUM_TRAIN):\n",
    "    hstack_M_K_i = Kernel_Matrix_Val[:,i].repeat(NUM_TASKS).reshape(NUM_VAL, NUM_TASKS)\n",
    "    hatY_val += hstack_M_K_i.dot(beta[i, :, :])\n",
    "hatY_val /= ( max_iteration * weight_decay )\n"
   ]
  },
  {
   "cell_type": "code",
   "execution_count": null,
   "metadata": {},
   "outputs": [],
   "source": [
    "hatY_train =  Kernel_Matrix_Train.dot(alpha*Y_train) \n",
    "for i in range(NUM_TRAIN):\n",
    "    hstack_M_K_i = Kernel_Matrix_Train[:,i].repeat(NUM_TASKS).reshape(NUM_TRAIN, NUM_TASKS)\n",
    "    hatY_val += hstack_M_K_i.dot(beta[i, :, :])\n",
    "hatY_val /= ( max_iteration * weight_decay )\n",
    "\n"
   ]
  },
  {
   "cell_type": "code",
   "execution_count": null,
   "metadata": {
    "scrolled": true
   },
   "outputs": [],
   "source": [
    "violate = 0\n",
    "for i in range(NUM_TRAIN):\n",
    "    if np.argwhere(hatY_train[i] < 0) != []:\n",
    "        minus_list = np.argwhere(hatY_train[i] < 0)\n",
    "        first_minus = minus_list[0]\n",
    "        after_pos_list = np.argwhere(hatY_train[i, first_minus:] > 0)\n",
    "        # print(after_pos_list)\n",
    "        if len(after_pos_list):\n",
    "            # print(after_pos_list)\n",
    "            violate += 1\n",
    "\n",
    "print(violate)\n",
    "print(NUM_TRAIN)\n",
    "# print(survival_times[-NUM_VAL])"
   ]
  },
  {
   "cell_type": "code",
   "execution_count": null,
   "metadata": {},
   "outputs": [],
   "source": [
    "violate = 0\n",
    "for i in range(NUM_VAL):\n",
    "    if np.argwhere(hatY_val[i] < 0) != []:\n",
    "        minus_list = np.argwhere(hatY_val[i] < 0)\n",
    "        first_minus = minus_list[0]\n",
    "        after_pos_list = np.argwhere(hatY_val[i, first_minus:] > 0)\n",
    "        if len(after_pos_list):\n",
    "            # print(after_pos_list)\n",
    "            violate += 1\n",
    "\n",
    "print(violate)\n",
    "print(NUM_VAL)\n",
    "# print(survival_times[-NUM_VAL])\n"
   ]
  },
  {
   "cell_type": "code",
   "execution_count": null,
   "metadata": {},
   "outputs": [],
   "source": [
    "print(hatY_val)"
   ]
  },
  {
   "cell_type": "code",
   "execution_count": null,
   "metadata": {},
   "outputs": [],
   "source": [
    "validation_age = predict_age[NUM_TRAIN:]\n",
    "tr_age = predict_age[:NUM_TRAIN]\n",
    "train_vs_validation_samples = Kernel_Matrix[:NUM_TRAIN,NUM_TRAIN:]\n",
    "train_vs_train_samples = Kernel_Matrix_Train\n",
    "train_id = 11\n",
    "plt.xlim(0,1)\n",
    "age_gap_list = np.zeros(100)\n",
    "num_list = np.zeros(100)\n",
    "for i in range(NUM_TRAIN):\n",
    "    for j in range(NUM_VAL):\n",
    "        interval_id = np.int(np.floor((train_vs_validation_samples[i,j] / 0.01)))\n",
    "        age_gap = abs(validation_age[j] - tr_age[i])\n",
    "        age_gap_list[interval_id] += age_gap\n",
    "        num_list += 1\n",
    "avg_age_gap_list = age_gap_list/num_list\n",
    "plt.plot(np.linspace(0,1, num = 100),avg_age_gap_list)\n",
    "# plt.scatter(np.linspace(0,1, num = 100), avg_age_gap_list)\n",
    "# plt.scatter(train_vs_train_samples[train_id],abs(tr_age-survival_times[train_id]))\n",
    "# plt.scatter(train_vs_validation_samples[train_id], abs(validation_age-survival_times[train_id]))\n",
    "# print(train_vs_validation_samples[train_id])"
   ]
  },
  {
   "cell_type": "code",
   "execution_count": null,
   "metadata": {},
   "outputs": [],
   "source": []
  }
 ],
 "metadata": {
  "kernelspec": {
   "display_name": "Python 3",
   "language": "python",
   "name": "python3"
  },
  "language_info": {
   "codemirror_mode": {
    "name": "ipython",
    "version": 3
   },
   "file_extension": ".py",
   "mimetype": "text/x-python",
   "name": "python",
   "nbconvert_exporter": "python",
   "pygments_lexer": "ipython3",
   "version": "3.7.4"
  }
 },
 "nbformat": 4,
 "nbformat_minor": 2
}
