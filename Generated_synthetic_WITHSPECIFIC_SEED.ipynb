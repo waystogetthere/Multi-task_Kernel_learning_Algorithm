{
 "cells": [
  {
   "cell_type": "code",
   "execution_count": 1,
   "metadata": {},
   "outputs": [],
   "source": [
    "import Function as f"
   ]
  },
  {
   "cell_type": "code",
   "execution_count": 2,
   "metadata": {},
   "outputs": [],
   "source": [
    "import numpy as np\n",
    "import pandas as pd"
   ]
  },
  {
   "cell_type": "code",
   "execution_count": 3,
   "metadata": {},
   "outputs": [],
   "source": [
    "max_iteration = 15000\n",
    "weight_decay = 1e-5\n",
    "NUM_EMPLOYEES = 200\n",
    "NUM_TRAIN = int(NUM_EMPLOYEES * 0.9)\n",
    "NUM_VAL = int(NUM_EMPLOYEES * 0.1)\n",
    "Epsilons = [10,10]\n",
    "NUM_FEATURES = 3\n",
    "BANDWIDTH = 0.5"
   ]
  },
  {
   "cell_type": "code",
   "execution_count": 4,
   "metadata": {},
   "outputs": [],
   "source": [
    "np.random.seed(NUM_EMPLOYEES)"
   ]
  },
  {
   "cell_type": "code",
   "execution_count": 5,
   "metadata": {},
   "outputs": [],
   "source": [
    "X, Y, survival_times = f.Generating_Synthetic_Set(NUM_EMPLOYEES, NUM_FEATURES, Epsilons, bias = False)"
   ]
  },
  {
   "cell_type": "markdown",
   "metadata": {},
   "source": [
    "Discard the top 5% longevity training samples"
   ]
  },
  {
   "cell_type": "code",
   "execution_count": 6,
   "metadata": {},
   "outputs": [],
   "source": [
    "five_percent = int(len(survival_times) * 0.05)\n",
    "five_percent_indices = np.argsort(survival_times)[(-1) * five_percent:]\n",
    "threshold_age = survival_times[five_percent_indices[0]]\n",
    "for i in five_percent_indices:\n",
    "    while(True):\n",
    "        Epsilon_1, Epsilon_2 = Epsilons\n",
    "        _lambda = Epsilon_1 * np.sum(X[i, :] ** 2) + Epsilon_2 * np.sum(X[i, :])\n",
    "        age = np.ceil(np.random.exponential(_lambda, size=1))\n",
    "        if age <= threshold_age:\n",
    "            survival_times[i] = age\n",
    "            break\n",
    "NUM_TASKS = int(np.max(survival_times))\n",
    "Y = np.ones((NUM_EMPLOYEES, NUM_TASKS))\n",
    "# the lifetime matrix of all employees, if one employee leave at the time interval k, then from Y[i,k](inlcude)  all entries are -1\n",
    "for i in range(NUM_EMPLOYEES):\n",
    "    Y[i, int(survival_times[i]):] = -1"
   ]
  },
  {
   "cell_type": "markdown",
   "metadata": {},
   "source": [
    "survival_times *= 1.3\n",
    "Y = np.ones((Y.shape[0], int(np.ceil(Y.shape[1] * 1.3))))\n",
    "# the lifetime matrix of all employees, if one employee leave at the time interval k, then from Y[i,k](inlcude)  all entries are -1\n",
    "for i in range(Y.shape[0]):\n",
    "    Y[i, int(survival_times[i]):] = -1"
   ]
  },
  {
   "cell_type": "code",
   "execution_count": 7,
   "metadata": {},
   "outputs": [],
   "source": [
    "# Kernel_Matrix = f.Generating_Kernel(X, \"Gaussian_Kernel\", BW = BANDWIDTH)\n",
    "Kernel_Matrix = f.Generating_Kernel(X, \"Quick_Gaussian_Kernel\", BW = BANDWIDTH)"
   ]
  },
  {
   "cell_type": "code",
   "execution_count": 8,
   "metadata": {},
   "outputs": [
    {
     "name": "stdout",
     "output_type": "stream",
     "text": [
      "There are  35898 pairs of samples of similarity between 0.0 and 0.1 which have an average age_gap  25.435456014262634 and the median is: 18.0\n",
      "There are  1434 pairs of samples of similarity between 0.1 and 0.2 which have an average age_gap  18.97907949790795 and the median is: 12.0\n",
      "There are  794 pairs of samples of similarity between 0.2 and 0.3 which have an average age_gap  20.20403022670025 and the median is: 15.0\n",
      "There are  524 pairs of samples of similarity between 0.3 and 0.4 which have an average age_gap  19.748091603053435 and the median is: 14.0\n",
      "There are  354 pairs of samples of similarity between 0.4 and 0.5 which have an average age_gap  18.89265536723164 and the median is: 14.0\n",
      "There are  276 pairs of samples of similarity between 0.5 and 0.6 which have an average age_gap  21.32608695652174 and the median is: 15.5\n",
      "There are  176 pairs of samples of similarity between 0.6 and 0.7 which have an average age_gap  19.125 and the median is: 13.5\n",
      "There are  168 pairs of samples of similarity between 0.7 and 0.8 which have an average age_gap  19.464285714285715 and the median is: 13.5\n",
      "There are  126 pairs of samples of similarity between 0.8 and 0.9 which have an average age_gap  15.666666666666666 and the median is: 12.0\n",
      "There are  228 pairs of samples of similarity between 0.9 and 1.0 which have an average age_gap  3.5526315789473686 and the median is: 0.0\n"
     ]
    },
    {
     "data": {
      "image/png": "[encoded data removed]",
      "text/plain": [
       "<Figure size 432x288 with 1 Axes>"
      ]
     },
     "metadata": {
      "needs_background": "light"
     },
     "output_type": "display_data"
    }
   ],
   "source": [
    "f.Validate_Synthetic_DataSet(Kernel_Matrix, survival_times)"
   ]
  },
  {
   "cell_type": "code",
   "execution_count": 9,
   "metadata": {},
   "outputs": [
    {
     "name": "stdout",
     "output_type": "stream",
     "text": [
      "107.0\n"
     ]
    }
   ],
   "source": [
    "print(max(survival_times))"
   ]
  },
  {
   "cell_type": "code",
   "execution_count": 10,
   "metadata": {},
   "outputs": [],
   "source": [
    "covairates_survivaltimes = np.concatenate((X, survival_times[:,np.newaxis]),axis = 1)\n",
    "cov_st_censored = np.concatenate((covairates_survivaltimes, np.ones((NUM_EMPLOYEES,1))),axis = 1)\n",
    "bias_cov_st_censored = np.concatenate((np.ones((NUM_EMPLOYEES,1)), cov_st_censored),axis = 1)"
   ]
  },
  {
   "cell_type": "code",
   "execution_count": null,
   "metadata": {},
   "outputs": [],
   "source": [
    "df = pd.DataFrame(cov_st_censored)\n",
    "\n",
    "# df.columns = ['cov0', 'cov1','cov2','cov3','cov4','survival_time','censored']\n",
    "df.columns = ['cov0', 'cov1','cov2','survival_time','censored']\n",
    "file_name = str(NUM_EMPLOYEES) + \"(\"+str(NUM_TRAIN) + \"+\" + str(NUM_VAL) + \")\"+ NUM_FEATURES + .csv\"\n",
    "df.to_csv(file_name)\n",
    "\n",
    "np_forMTLSA_tr = bias_cov_st_censored[:NUM_TRAIN]\n",
    "np_forMTLSA_val = bias_cov_st_censored[NUM_TRAIN:]\n",
    "file_name_tr = str(NUM_TRAIN) + \"(\" + str(NUM_EMPLOYEES)+\"_tr)\"+ NUM_FEATURES + \".csv\"\n",
    "file_name_val = str(NUM_VAL) + \"(\" + str(NUM_EMPLOYEES) + \"_val)\" + NUM_FEATURES + \".csv\"\n",
    "np.savetxt(file_name_tr, np_forMTLSA_tr, delimiter=\",\")\n",
    "np.savetxt(file_name_val, np_forMTLSA_val, delimiter=\",\")"
   ]
  },
  {
   "cell_type": "code",
   "execution_count": null,
   "metadata": {},
   "outputs": [],
   "source": []
  },
  {
   "cell_type": "code",
   "execution_count": null,
   "metadata": {},
   "outputs": [],
   "source": []
  }
 ],
 "metadata": {
  "kernelspec": {
   "display_name": "Python 3",
   "language": "python",
   "name": "python3"
  },
  "language_info": {
   "codemirror_mode": {
    "name": "ipython",
    "version": 3
   },
   "file_extension": ".py",
   "mimetype": "text/x-python",
   "name": "python",
   "nbconvert_exporter": "python",
   "pygments_lexer": "ipython3",
   "version": "3.7.4"
  }
 },
 "nbformat": 4,
 "nbformat_minor": 2
}
